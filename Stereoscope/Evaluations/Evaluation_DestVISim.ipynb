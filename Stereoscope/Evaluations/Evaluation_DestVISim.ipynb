{
 "cells": [
  {
   "cell_type": "code",
   "execution_count": 4,
   "id": "82a8cdee",
   "metadata": {},
   "outputs": [],
   "source": [
    "import numpy as np\n",
    "import pandas as pd\n",
    "import scipy\n",
    "from scipy.spatial import distance\n",
    "from sklearn.metrics import f1_score\n",
    "from sklearn.metrics import precision_score\n",
    "from sklearn.metrics import recall_score\n",
    "from scipy.special import rel_entr"
   ]
  },
  {
   "cell_type": "code",
   "execution_count": 5,
   "id": "988d85de",
   "metadata": {},
   "outputs": [],
   "source": [
    "Predicted = pd.read_csv(\"./Stereoscope/Outputs/output_DestVISim.csv\")\n",
    "Target=pd.read_csv(\"./Data/DestVISim/target.csv\")"
   ]
  },
  {
   "cell_type": "code",
   "execution_count": 6,
   "id": "eb12e521",
   "metadata": {},
   "outputs": [
    {
     "data": {
      "text/html": [
       "<div>\n",
       "<style scoped>\n",
       "    .dataframe tbody tr th:only-of-type {\n",
       "        vertical-align: middle;\n",
       "    }\n",
       "\n",
       "    .dataframe tbody tr th {\n",
       "        vertical-align: top;\n",
       "    }\n",
       "\n",
       "    .dataframe thead th {\n",
       "        text-align: right;\n",
       "    }\n",
       "</style>\n",
       "<table border=\"1\" class=\"dataframe\">\n",
       "  <thead>\n",
       "    <tr style=\"text-align: right;\">\n",
       "      <th></th>\n",
       "      <th>Unnamed: 0</th>\n",
       "      <th>0</th>\n",
       "      <th>1</th>\n",
       "      <th>2</th>\n",
       "      <th>3</th>\n",
       "      <th>4</th>\n",
       "    </tr>\n",
       "  </thead>\n",
       "  <tbody>\n",
       "    <tr>\n",
       "      <th>0</th>\n",
       "      <td>0</td>\n",
       "      <td>0.045357</td>\n",
       "      <td>4.636598e-01</td>\n",
       "      <td>2.754686e-01</td>\n",
       "      <td>0.116282</td>\n",
       "      <td>0.099232</td>\n",
       "    </tr>\n",
       "    <tr>\n",
       "      <th>1</th>\n",
       "      <td>1</td>\n",
       "      <td>0.042728</td>\n",
       "      <td>6.006261e-01</td>\n",
       "      <td>2.250844e-01</td>\n",
       "      <td>0.058889</td>\n",
       "      <td>0.072673</td>\n",
       "    </tr>\n",
       "    <tr>\n",
       "      <th>2</th>\n",
       "      <td>2</td>\n",
       "      <td>0.059723</td>\n",
       "      <td>6.360124e-01</td>\n",
       "      <td>2.055784e-01</td>\n",
       "      <td>0.029930</td>\n",
       "      <td>0.068756</td>\n",
       "    </tr>\n",
       "    <tr>\n",
       "      <th>3</th>\n",
       "      <td>3</td>\n",
       "      <td>0.064960</td>\n",
       "      <td>6.741626e-01</td>\n",
       "      <td>6.807286e-02</td>\n",
       "      <td>0.066495</td>\n",
       "      <td>0.126310</td>\n",
       "    </tr>\n",
       "    <tr>\n",
       "      <th>4</th>\n",
       "      <td>4</td>\n",
       "      <td>0.138686</td>\n",
       "      <td>6.461712e-01</td>\n",
       "      <td>1.381660e-02</td>\n",
       "      <td>0.032541</td>\n",
       "      <td>0.168785</td>\n",
       "    </tr>\n",
       "    <tr>\n",
       "      <th>...</th>\n",
       "      <td>...</td>\n",
       "      <td>...</td>\n",
       "      <td>...</td>\n",
       "      <td>...</td>\n",
       "      <td>...</td>\n",
       "      <td>...</td>\n",
       "    </tr>\n",
       "    <tr>\n",
       "      <th>1595</th>\n",
       "      <td>1595</td>\n",
       "      <td>0.118818</td>\n",
       "      <td>2.224836e-01</td>\n",
       "      <td>2.301819e-02</td>\n",
       "      <td>0.040637</td>\n",
       "      <td>0.595043</td>\n",
       "    </tr>\n",
       "    <tr>\n",
       "      <th>1596</th>\n",
       "      <td>1596</td>\n",
       "      <td>0.240801</td>\n",
       "      <td>1.785520e-01</td>\n",
       "      <td>2.303550e-06</td>\n",
       "      <td>0.113962</td>\n",
       "      <td>0.466683</td>\n",
       "    </tr>\n",
       "    <tr>\n",
       "      <th>1597</th>\n",
       "      <td>1597</td>\n",
       "      <td>0.275864</td>\n",
       "      <td>3.670646e-02</td>\n",
       "      <td>2.319032e-07</td>\n",
       "      <td>0.032871</td>\n",
       "      <td>0.654559</td>\n",
       "    </tr>\n",
       "    <tr>\n",
       "      <th>1598</th>\n",
       "      <td>1598</td>\n",
       "      <td>0.391388</td>\n",
       "      <td>1.139364e-01</td>\n",
       "      <td>2.645098e-07</td>\n",
       "      <td>0.045622</td>\n",
       "      <td>0.449053</td>\n",
       "    </tr>\n",
       "    <tr>\n",
       "      <th>1599</th>\n",
       "      <td>1599</td>\n",
       "      <td>0.497092</td>\n",
       "      <td>4.317225e-07</td>\n",
       "      <td>1.676175e-07</td>\n",
       "      <td>0.014353</td>\n",
       "      <td>0.488554</td>\n",
       "    </tr>\n",
       "  </tbody>\n",
       "</table>\n",
       "<p>1600 rows × 6 columns</p>\n",
       "</div>"
      ],
      "text/plain": [
       "      Unnamed: 0         0             1             2         3         4\n",
       "0              0  0.045357  4.636598e-01  2.754686e-01  0.116282  0.099232\n",
       "1              1  0.042728  6.006261e-01  2.250844e-01  0.058889  0.072673\n",
       "2              2  0.059723  6.360124e-01  2.055784e-01  0.029930  0.068756\n",
       "3              3  0.064960  6.741626e-01  6.807286e-02  0.066495  0.126310\n",
       "4              4  0.138686  6.461712e-01  1.381660e-02  0.032541  0.168785\n",
       "...          ...       ...           ...           ...       ...       ...\n",
       "1595        1595  0.118818  2.224836e-01  2.301819e-02  0.040637  0.595043\n",
       "1596        1596  0.240801  1.785520e-01  2.303550e-06  0.113962  0.466683\n",
       "1597        1597  0.275864  3.670646e-02  2.319032e-07  0.032871  0.654559\n",
       "1598        1598  0.391388  1.139364e-01  2.645098e-07  0.045622  0.449053\n",
       "1599        1599  0.497092  4.317225e-07  1.676175e-07  0.014353  0.488554\n",
       "\n",
       "[1600 rows x 6 columns]"
      ]
     },
     "execution_count": 6,
     "metadata": {},
     "output_type": "execute_result"
    }
   ],
   "source": [
    "Predicted"
   ]
  },
  {
   "cell_type": "code",
   "execution_count": 7,
   "id": "6bde132c",
   "metadata": {},
   "outputs": [
    {
     "data": {
      "text/html": [
       "<div>\n",
       "<style scoped>\n",
       "    .dataframe tbody tr th:only-of-type {\n",
       "        vertical-align: middle;\n",
       "    }\n",
       "\n",
       "    .dataframe tbody tr th {\n",
       "        vertical-align: top;\n",
       "    }\n",
       "\n",
       "    .dataframe thead th {\n",
       "        text-align: right;\n",
       "    }\n",
       "</style>\n",
       "<table border=\"1\" class=\"dataframe\">\n",
       "  <thead>\n",
       "    <tr style=\"text-align: right;\">\n",
       "      <th></th>\n",
       "      <th>Unnamed: 0</th>\n",
       "      <th>0</th>\n",
       "      <th>1</th>\n",
       "      <th>2</th>\n",
       "      <th>3</th>\n",
       "      <th>4</th>\n",
       "    </tr>\n",
       "  </thead>\n",
       "  <tbody>\n",
       "    <tr>\n",
       "      <th>0</th>\n",
       "      <td>0</td>\n",
       "      <td>0.109382</td>\n",
       "      <td>0.458548</td>\n",
       "      <td>0.240255</td>\n",
       "      <td>0.117889</td>\n",
       "      <td>0.073926</td>\n",
       "    </tr>\n",
       "    <tr>\n",
       "      <th>1</th>\n",
       "      <td>1</td>\n",
       "      <td>0.106379</td>\n",
       "      <td>0.542767</td>\n",
       "      <td>0.192066</td>\n",
       "      <td>0.080376</td>\n",
       "      <td>0.078412</td>\n",
       "    </tr>\n",
       "    <tr>\n",
       "      <th>2</th>\n",
       "      <td>2</td>\n",
       "      <td>0.115552</td>\n",
       "      <td>0.584335</td>\n",
       "      <td>0.148478</td>\n",
       "      <td>0.063775</td>\n",
       "      <td>0.087860</td>\n",
       "    </tr>\n",
       "    <tr>\n",
       "      <th>3</th>\n",
       "      <td>3</td>\n",
       "      <td>0.134864</td>\n",
       "      <td>0.583714</td>\n",
       "      <td>0.119500</td>\n",
       "      <td>0.059645</td>\n",
       "      <td>0.102278</td>\n",
       "    </tr>\n",
       "    <tr>\n",
       "      <th>4</th>\n",
       "      <td>4</td>\n",
       "      <td>0.156835</td>\n",
       "      <td>0.555801</td>\n",
       "      <td>0.104024</td>\n",
       "      <td>0.063044</td>\n",
       "      <td>0.120296</td>\n",
       "    </tr>\n",
       "    <tr>\n",
       "      <th>...</th>\n",
       "      <td>...</td>\n",
       "      <td>...</td>\n",
       "      <td>...</td>\n",
       "      <td>...</td>\n",
       "      <td>...</td>\n",
       "      <td>...</td>\n",
       "    </tr>\n",
       "    <tr>\n",
       "      <th>1595</th>\n",
       "      <td>1595</td>\n",
       "      <td>0.270532</td>\n",
       "      <td>0.229576</td>\n",
       "      <td>0.079589</td>\n",
       "      <td>0.065887</td>\n",
       "      <td>0.354416</td>\n",
       "    </tr>\n",
       "    <tr>\n",
       "      <th>1596</th>\n",
       "      <td>1596</td>\n",
       "      <td>0.331026</td>\n",
       "      <td>0.218634</td>\n",
       "      <td>0.057692</td>\n",
       "      <td>0.046939</td>\n",
       "      <td>0.345709</td>\n",
       "    </tr>\n",
       "    <tr>\n",
       "      <th>1597</th>\n",
       "      <td>1597</td>\n",
       "      <td>0.401695</td>\n",
       "      <td>0.196309</td>\n",
       "      <td>0.046337</td>\n",
       "      <td>0.036350</td>\n",
       "      <td>0.319309</td>\n",
       "    </tr>\n",
       "    <tr>\n",
       "      <th>1598</th>\n",
       "      <td>1598</td>\n",
       "      <td>0.478614</td>\n",
       "      <td>0.162905</td>\n",
       "      <td>0.039004</td>\n",
       "      <td>0.030636</td>\n",
       "      <td>0.288841</td>\n",
       "    </tr>\n",
       "    <tr>\n",
       "      <th>1599</th>\n",
       "      <td>1599</td>\n",
       "      <td>0.555623</td>\n",
       "      <td>0.123283</td>\n",
       "      <td>0.031429</td>\n",
       "      <td>0.027442</td>\n",
       "      <td>0.262223</td>\n",
       "    </tr>\n",
       "  </tbody>\n",
       "</table>\n",
       "<p>1600 rows × 6 columns</p>\n",
       "</div>"
      ],
      "text/plain": [
       "      Unnamed: 0         0         1         2         3         4\n",
       "0              0  0.109382  0.458548  0.240255  0.117889  0.073926\n",
       "1              1  0.106379  0.542767  0.192066  0.080376  0.078412\n",
       "2              2  0.115552  0.584335  0.148478  0.063775  0.087860\n",
       "3              3  0.134864  0.583714  0.119500  0.059645  0.102278\n",
       "4              4  0.156835  0.555801  0.104024  0.063044  0.120296\n",
       "...          ...       ...       ...       ...       ...       ...\n",
       "1595        1595  0.270532  0.229576  0.079589  0.065887  0.354416\n",
       "1596        1596  0.331026  0.218634  0.057692  0.046939  0.345709\n",
       "1597        1597  0.401695  0.196309  0.046337  0.036350  0.319309\n",
       "1598        1598  0.478614  0.162905  0.039004  0.030636  0.288841\n",
       "1599        1599  0.555623  0.123283  0.031429  0.027442  0.262223\n",
       "\n",
       "[1600 rows x 6 columns]"
      ]
     },
     "execution_count": 7,
     "metadata": {},
     "output_type": "execute_result"
    }
   ],
   "source": [
    "Target"
   ]
  },
  {
   "cell_type": "code",
   "execution_count": 8,
   "id": "a34657d9",
   "metadata": {},
   "outputs": [],
   "source": [
    "Predicted.drop(columns=\"Unnamed: 0\", inplace=True)\n",
    "#Predicted.drop(columns=\"cell_ID\", inplace=True)\n"
   ]
  },
  {
   "cell_type": "code",
   "execution_count": 9,
   "id": "28aaf864",
   "metadata": {},
   "outputs": [],
   "source": [
    "Target.drop(columns=\"Unnamed: 0\", inplace=True)"
   ]
  },
  {
   "cell_type": "code",
   "execution_count": 10,
   "id": "bb1bc8f7",
   "metadata": {},
   "outputs": [],
   "source": [
    "for i in range(len(Target)):\n",
    "    Target.loc[i,:]=Target.loc[i,:]/Target.loc[i,:].sum()"
   ]
  },
  {
   "cell_type": "code",
   "execution_count": 11,
   "id": "a2579017",
   "metadata": {},
   "outputs": [],
   "source": [
    "for i in range(len(Predicted)):\n",
    "    Predicted.loc[i,:]=Predicted.loc[i,:]/Predicted.loc[i,:].sum()\n",
    " "
   ]
  },
  {
   "cell_type": "code",
   "execution_count": 12,
   "id": "e92060f1",
   "metadata": {},
   "outputs": [],
   "source": [
    "columns_p=[]\n",
    "for i in range(Predicted.shape[1]):\n",
    "    columns_p.append(Predicted.columns[i])\n",
    "    "
   ]
  },
  {
   "cell_type": "code",
   "execution_count": 13,
   "id": "cc86d88d",
   "metadata": {},
   "outputs": [],
   "source": [
    "columns_t=[]\n",
    "for i in range(Target.shape[1]):\n",
    "    columns_t.append(Target.columns[i])\n",
    "    "
   ]
  },
  {
   "cell_type": "code",
   "execution_count": 14,
   "id": "7b5fa8c8",
   "metadata": {},
   "outputs": [],
   "source": [
    "columns_p=sorted(columns_p)\n",
    "columns_t=sorted(columns_t)"
   ]
  },
  {
   "cell_type": "code",
   "execution_count": 15,
   "id": "ca3ee0e8",
   "metadata": {},
   "outputs": [],
   "source": [
    "Predicted=Predicted[columns_p]\n",
    "Target=Target[columns_t]"
   ]
  },
  {
   "cell_type": "code",
   "execution_count": 16,
   "id": "e63415a8",
   "metadata": {},
   "outputs": [],
   "source": [
    "Target=Target.to_numpy()\n",
    "Predicted=Predicted.to_numpy()"
   ]
  },
  {
   "cell_type": "markdown",
   "id": "2122d92f",
   "metadata": {},
   "source": [
    "## Pearson Correlation"
   ]
  },
  {
   "cell_type": "code",
   "execution_count": 17,
   "id": "c7a7e96e",
   "metadata": {},
   "outputs": [],
   "source": [
    "num_celltypes=Predicted.shape[1]\n",
    "d = np.zeros(num_celltypes)\n",
    "for i in range(0,num_celltypes):\n",
    "    p=Predicted[:,i]\n",
    "    t=Target[:,i]\n",
    "    prs=(np.corrcoef(p,t,rowvar=False))\n",
    "    d[i]=prs[0,1]"
   ]
  },
  {
   "cell_type": "code",
   "execution_count": 18,
   "id": "09670934",
   "metadata": {},
   "outputs": [
    {
     "data": {
      "text/plain": [
       "0.9315595992711614"
      ]
     },
     "execution_count": 18,
     "metadata": {},
     "output_type": "execute_result"
    }
   ],
   "source": [
    "np.mean(np.nan_to_num(d))"
   ]
  },
  {
   "cell_type": "code",
   "execution_count": 19,
   "id": "0870b0fe",
   "metadata": {},
   "outputs": [
    {
     "data": {
      "text/plain": [
       "array([0.95429647, 0.87230371, 0.95213622, 0.94594021, 0.93312138])"
      ]
     },
     "execution_count": 19,
     "metadata": {},
     "output_type": "execute_result"
    }
   ],
   "source": [
    "d"
   ]
  },
  {
   "cell_type": "markdown",
   "id": "945cc302",
   "metadata": {},
   "source": [
    "## Jenson Shannon Divergence"
   ]
  },
  {
   "cell_type": "code",
   "execution_count": 20,
   "id": "5769211b",
   "metadata": {},
   "outputs": [
    {
     "data": {
      "text/plain": [
       "0.13126539000970186"
      ]
     },
     "execution_count": 20,
     "metadata": {},
     "output_type": "execute_result"
    }
   ],
   "source": [
    "jns=distance.jensenshannon(Predicted,Target,axis=1)\n",
    "jns=jns[~np.isinf(jns).squeeze()]\n",
    "np.mean(jns)"
   ]
  },
  {
   "cell_type": "markdown",
   "id": "21f44549",
   "metadata": {},
   "source": [
    "## F1 Score, Precision, Recall"
   ]
  },
  {
   "cell_type": "code",
   "execution_count": 21,
   "id": "5aedb288",
   "metadata": {},
   "outputs": [],
   "source": [
    "thresholds={0.001,0.01,0.1,0.2,0.3}"
   ]
  },
  {
   "cell_type": "code",
   "execution_count": 22,
   "id": "31a9b585",
   "metadata": {},
   "outputs": [],
   "source": [
    "d = pd.DataFrame(0, index=np.arange(len(thresholds)), columns=[\"Precision\",\"Recall\",\"F1-score\"])\n",
    "d.index=thresholds\n",
    "for t in thresholds:\n",
    "    Predicted_logical=(Predicted>t).astype(int)\n",
    "    Target_logical=(Target>t).astype(int)\n",
    "    d.loc[t,\"Precision\"]=precision_score(Target_logical,Predicted_logical,average=\"micro\")\n",
    "    d.loc[t,\"Recall\"]=recall_score(Target_logical,Predicted_logical,average=\"micro\")\n",
    "    d.loc[t,\"F1-score\"]=f1_score(Target_logical,Predicted_logical,average=\"micro\")"
   ]
  },
  {
   "cell_type": "code",
   "execution_count": 23,
   "id": "fa27573a",
   "metadata": {},
   "outputs": [
    {
     "data": {
      "text/html": [
       "<div>\n",
       "<style scoped>\n",
       "    .dataframe tbody tr th:only-of-type {\n",
       "        vertical-align: middle;\n",
       "    }\n",
       "\n",
       "    .dataframe tbody tr th {\n",
       "        vertical-align: top;\n",
       "    }\n",
       "\n",
       "    .dataframe thead th {\n",
       "        text-align: right;\n",
       "    }\n",
       "</style>\n",
       "<table border=\"1\" class=\"dataframe\">\n",
       "  <thead>\n",
       "    <tr style=\"text-align: right;\">\n",
       "      <th></th>\n",
       "      <th>Precision</th>\n",
       "      <th>Recall</th>\n",
       "      <th>F1-score</th>\n",
       "    </tr>\n",
       "  </thead>\n",
       "  <tbody>\n",
       "    <tr>\n",
       "      <th>0.100</th>\n",
       "      <td>0.901893</td>\n",
       "      <td>0.884608</td>\n",
       "      <td>0.893167</td>\n",
       "    </tr>\n",
       "    <tr>\n",
       "      <th>0.200</th>\n",
       "      <td>0.851924</td>\n",
       "      <td>0.874253</td>\n",
       "      <td>0.862944</td>\n",
       "    </tr>\n",
       "    <tr>\n",
       "      <th>0.300</th>\n",
       "      <td>0.809717</td>\n",
       "      <td>0.883978</td>\n",
       "      <td>0.845219</td>\n",
       "    </tr>\n",
       "    <tr>\n",
       "      <th>0.010</th>\n",
       "      <td>0.994765</td>\n",
       "      <td>0.914051</td>\n",
       "      <td>0.952701</td>\n",
       "    </tr>\n",
       "    <tr>\n",
       "      <th>0.001</th>\n",
       "      <td>1.000000</td>\n",
       "      <td>0.926375</td>\n",
       "      <td>0.961781</td>\n",
       "    </tr>\n",
       "  </tbody>\n",
       "</table>\n",
       "</div>"
      ],
      "text/plain": [
       "       Precision    Recall  F1-score\n",
       "0.100   0.901893  0.884608  0.893167\n",
       "0.200   0.851924  0.874253  0.862944\n",
       "0.300   0.809717  0.883978  0.845219\n",
       "0.010   0.994765  0.914051  0.952701\n",
       "0.001   1.000000  0.926375  0.961781"
      ]
     },
     "execution_count": 23,
     "metadata": {},
     "output_type": "execute_result"
    }
   ],
   "source": [
    "d"
   ]
  },
  {
   "cell_type": "code",
   "execution_count": null,
   "id": "5e18763e",
   "metadata": {},
   "outputs": [],
   "source": [
    "Prediction"
   ]
  },
  {
   "cell_type": "code",
   "execution_count": null,
   "id": "4081f075",
   "metadata": {},
   "outputs": [],
   "source": []
  }
 ],
 "metadata": {
  "kernelspec": {
   "display_name": "Python [conda env:ML]",
   "language": "python",
   "name": "conda-env-ML-py"
  },
  "language_info": {
   "codemirror_mode": {
    "name": "ipython",
    "version": 3
   },
   "file_extension": ".py",
   "mimetype": "text/x-python",
   "name": "python",
   "nbconvert_exporter": "python",
   "pygments_lexer": "ipython3",
   "version": "3.10.4"
  }
 },
 "nbformat": 4,
 "nbformat_minor": 5
}
