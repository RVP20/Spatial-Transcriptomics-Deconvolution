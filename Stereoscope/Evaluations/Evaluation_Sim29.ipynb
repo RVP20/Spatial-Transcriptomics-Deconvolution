{
 "cells": [
  {
   "cell_type": "code",
   "execution_count": 147,
   "id": "82a8cdee",
   "metadata": {},
   "outputs": [],
   "source": [
    "import numpy as np\n",
    "import pandas as pd\n",
    "import scipy\n",
    "from scipy.spatial import distance\n",
    "from sklearn.metrics import f1_score\n",
    "from sklearn.metrics import precision_score\n",
    "from sklearn.metrics import recall_score\n",
    "from scipy.special import rel_entr\n",
    "import math\n",
    "from scipy.stats import wasserstein_distance"
   ]
  },
  {
   "cell_type": "code",
   "execution_count": 214,
   "id": "988d85de",
   "metadata": {},
   "outputs": [],
   "source": [
    "Predicted = pd.read_csv(\"./Seurat/Outputs/output_Sim21.csv\")\n",
    "Target=pd.read_csv(\"./Data/Sim21/target.csv\")"
   ]
  },
  {
   "cell_type": "code",
   "execution_count": 215,
   "id": "a34657d9",
   "metadata": {},
   "outputs": [],
   "source": [
    "Predicted.drop(columns=\"Unnamed: 0\", inplace=True)\n",
    "#Predicted.drop(columns=\"cell_ID\", inplace=True)\n",
    "Predicted.drop(columns=\"prediction.score.max\",inplace=True)\n"
   ]
  },
  {
   "cell_type": "code",
   "execution_count": 216,
   "id": "28aaf864",
   "metadata": {},
   "outputs": [],
   "source": [
    "Target.drop(columns=\"Unnamed: 0\", inplace=True)"
   ]
  },
  {
   "cell_type": "code",
   "execution_count": 217,
   "id": "bb1bc8f7",
   "metadata": {},
   "outputs": [],
   "source": [
    "for i in range(len(Target)):\n",
    "    Target.loc[i,:]=Target.loc[i,:]/Target.loc[i,:].sum()"
   ]
  },
  {
   "cell_type": "code",
   "execution_count": 218,
   "id": "a2579017",
   "metadata": {},
   "outputs": [],
   "source": [
    "for i in range(len(Predicted)):\n",
    "    Predicted.loc[i,:]=Predicted.loc[i,:]/Predicted.loc[i,:].sum()\n",
    " "
   ]
  },
  {
   "cell_type": "code",
   "execution_count": 219,
   "id": "e92060f1",
   "metadata": {},
   "outputs": [],
   "source": [
    "columns_p=[]\n",
    "for i in range(Predicted.shape[1]):\n",
    "    columns_p.append(Predicted.columns[i])\n",
    "    "
   ]
  },
  {
   "cell_type": "code",
   "execution_count": 220,
   "id": "cc86d88d",
   "metadata": {},
   "outputs": [],
   "source": [
    "columns_t=[]\n",
    "for i in range(Target.shape[1]):\n",
    "    columns_t.append(Target.columns[i])\n",
    "    "
   ]
  },
  {
   "cell_type": "code",
   "execution_count": 221,
   "id": "7b5fa8c8",
   "metadata": {},
   "outputs": [],
   "source": [
    "columns_p=sorted(columns_p)\n",
    "columns_t=sorted(columns_t)"
   ]
  },
  {
   "cell_type": "code",
   "execution_count": 222,
   "id": "ca3ee0e8",
   "metadata": {},
   "outputs": [],
   "source": [
    "Predicted=Predicted[columns_p]\n",
    "Target=Target[columns_t]"
   ]
  },
  {
   "cell_type": "code",
   "execution_count": 223,
   "id": "e63415a8",
   "metadata": {},
   "outputs": [],
   "source": [
    "Target=Target.to_numpy()\n",
    "Predicted=Predicted.to_numpy()"
   ]
  },
  {
   "cell_type": "markdown",
   "id": "2122d92f",
   "metadata": {},
   "source": [
    "## Pearson Correlation"
   ]
  },
  {
   "cell_type": "code",
   "execution_count": 224,
   "id": "c7a7e96e",
   "metadata": {},
   "outputs": [],
   "source": [
    "num_celltypes=Predicted.shape[1]\n",
    "d = np.zeros(num_celltypes)\n",
    "for i in range(0,num_celltypes):\n",
    "    p=Predicted[:,i]\n",
    "    t=Target[:,i]\n",
    "    prs=(np.corrcoef(p,t,rowvar=False))\n",
    "    d[i]=prs[0,1]"
   ]
  },
  {
   "cell_type": "code",
   "execution_count": 225,
   "id": "09670934",
   "metadata": {},
   "outputs": [
    {
     "data": {
      "text/plain": [
       "0.6814257079195042"
      ]
     },
     "execution_count": 225,
     "metadata": {},
     "output_type": "execute_result"
    }
   ],
   "source": [
    "np.mean(np.nan_to_num(d))"
   ]
  },
  {
   "cell_type": "code",
   "execution_count": 226,
   "id": "0870b0fe",
   "metadata": {},
   "outputs": [
    {
     "data": {
      "text/plain": [
       "array([0.57732741, 0.78693739, 0.47840145, 0.87301899, 0.87643662,\n",
       "       0.6242692 , 0.82649088, 0.82836524, 0.56981083, 0.7903215 ,\n",
       "       0.50019517, 0.65149755, 0.47546197])"
      ]
     },
     "execution_count": 226,
     "metadata": {},
     "output_type": "execute_result"
    }
   ],
   "source": [
    "d"
   ]
  },
  {
   "cell_type": "markdown",
   "id": "945cc302",
   "metadata": {},
   "source": [
    "## Jenson Shannon Divergence"
   ]
  },
  {
   "cell_type": "code",
   "execution_count": 227,
   "id": "5769211b",
   "metadata": {},
   "outputs": [
    {
     "data": {
      "text/plain": [
       "0.4598845460155602"
      ]
     },
     "execution_count": 227,
     "metadata": {},
     "output_type": "execute_result"
    }
   ],
   "source": [
    "jns=distance.jensenshannon(Predicted,Target,axis=1)\n",
    "jns=jns[~np.isinf(jns).squeeze()]\n",
    "np.mean(jns)"
   ]
  },
  {
   "cell_type": "markdown",
   "id": "21f44549",
   "metadata": {},
   "source": [
    "## F1 Score, Precision, Recall"
   ]
  },
  {
   "cell_type": "code",
   "execution_count": 228,
   "id": "5aedb288",
   "metadata": {},
   "outputs": [],
   "source": [
    "thresholds={0.001,0.01,0.1,0.2,0.3}"
   ]
  },
  {
   "cell_type": "code",
   "execution_count": 229,
   "id": "31a9b585",
   "metadata": {},
   "outputs": [],
   "source": [
    "d = pd.DataFrame(0, index=np.arange(len(thresholds)), columns=[\"Precision\",\"Recall\",\"F1-score\"])\n",
    "d.index=thresholds\n",
    "for t in thresholds:\n",
    "    Predicted_logical=(Predicted>t).astype(int)\n",
    "    Target_logical=(Target>t).astype(int)\n",
    "    d.loc[t,\"Precision\"]=precision_score(Target_logical,Predicted_logical,average=\"micro\")\n",
    "    d.loc[t,\"Recall\"]=recall_score(Target_logical,Predicted_logical,average=\"micro\")\n",
    "    d.loc[t,\"F1-score\"]=f1_score(Target_logical,Predicted_logical,average=\"micro\")"
   ]
  },
  {
   "cell_type": "code",
   "execution_count": 230,
   "id": "fa27573a",
   "metadata": {},
   "outputs": [
    {
     "data": {
      "text/html": [
       "<div>\n",
       "<style scoped>\n",
       "    .dataframe tbody tr th:only-of-type {\n",
       "        vertical-align: middle;\n",
       "    }\n",
       "\n",
       "    .dataframe tbody tr th {\n",
       "        vertical-align: top;\n",
       "    }\n",
       "\n",
       "    .dataframe thead th {\n",
       "        text-align: right;\n",
       "    }\n",
       "</style>\n",
       "<table border=\"1\" class=\"dataframe\">\n",
       "  <thead>\n",
       "    <tr style=\"text-align: right;\">\n",
       "      <th></th>\n",
       "      <th>Precision</th>\n",
       "      <th>Recall</th>\n",
       "      <th>F1-score</th>\n",
       "    </tr>\n",
       "  </thead>\n",
       "  <tbody>\n",
       "    <tr>\n",
       "      <th>0.100</th>\n",
       "      <td>0.900990</td>\n",
       "      <td>0.429825</td>\n",
       "      <td>0.582001</td>\n",
       "    </tr>\n",
       "    <tr>\n",
       "      <th>0.200</th>\n",
       "      <td>0.867987</td>\n",
       "      <td>0.455411</td>\n",
       "      <td>0.597388</td>\n",
       "    </tr>\n",
       "    <tr>\n",
       "      <th>0.300</th>\n",
       "      <td>0.690647</td>\n",
       "      <td>0.497409</td>\n",
       "      <td>0.578313</td>\n",
       "    </tr>\n",
       "    <tr>\n",
       "      <th>0.010</th>\n",
       "      <td>0.749889</td>\n",
       "      <td>0.537266</td>\n",
       "      <td>0.626016</td>\n",
       "    </tr>\n",
       "    <tr>\n",
       "      <th>0.001</th>\n",
       "      <td>0.722837</td>\n",
       "      <td>0.559150</td>\n",
       "      <td>0.630544</td>\n",
       "    </tr>\n",
       "  </tbody>\n",
       "</table>\n",
       "</div>"
      ],
      "text/plain": [
       "       Precision    Recall  F1-score\n",
       "0.100   0.900990  0.429825  0.582001\n",
       "0.200   0.867987  0.455411  0.597388\n",
       "0.300   0.690647  0.497409  0.578313\n",
       "0.010   0.749889  0.537266  0.626016\n",
       "0.001   0.722837  0.559150  0.630544"
      ]
     },
     "execution_count": 230,
     "metadata": {},
     "output_type": "execute_result"
    }
   ],
   "source": [
    "d"
   ]
  },
  {
   "cell_type": "markdown",
   "id": "b6b1da98",
   "metadata": {},
   "source": [
    "## Wasserstein Distance"
   ]
  },
  {
   "cell_type": "code",
   "execution_count": 231,
   "id": "625f4162",
   "metadata": {},
   "outputs": [
    {
     "data": {
      "text/plain": [
       "0.05697945952009553"
      ]
     },
     "execution_count": 231,
     "metadata": {},
     "output_type": "execute_result"
    }
   ],
   "source": [
    "scipy.stats.wasserstein_distance(np.reshape(Target,(Target.shape[0]*Target.shape[1])),np.reshape(Predicted,(Predicted.shape[0]*Predicted.shape[1])))"
   ]
  },
  {
   "cell_type": "markdown",
   "id": "6ace44cf",
   "metadata": {},
   "source": [
    "## KL Divergence"
   ]
  },
  {
   "cell_type": "code",
   "execution_count": 232,
   "id": "37ebee76",
   "metadata": {
    "scrolled": true
   },
   "outputs": [],
   "source": [
    "to_be_kept=(Predicted>0)"
   ]
  },
  {
   "cell_type": "code",
   "execution_count": 233,
   "id": "2055ba94",
   "metadata": {},
   "outputs": [],
   "source": [
    "Predicted=Predicted[to_be_kept]\n",
    "Target=Target[to_be_kept]"
   ]
  },
  {
   "cell_type": "code",
   "execution_count": 234,
   "id": "e258f0ab",
   "metadata": {},
   "outputs": [],
   "source": [
    "kl=scipy.special.rel_entr(Target,Predicted)"
   ]
  },
  {
   "cell_type": "code",
   "execution_count": 235,
   "id": "d1faa1f5",
   "metadata": {},
   "outputs": [
    {
     "data": {
      "text/plain": [
       "0.04480631330969528"
      ]
     },
     "execution_count": 235,
     "metadata": {},
     "output_type": "execute_result"
    }
   ],
   "source": [
    "np.mean(kl)"
   ]
  },
  {
   "cell_type": "code",
   "execution_count": null,
   "id": "006536f1",
   "metadata": {},
   "outputs": [],
   "source": []
  }
 ],
 "metadata": {
  "kernelspec": {
   "display_name": "Python [conda env:ML]",
   "language": "python",
   "name": "conda-env-ML-py"
  },
  "language_info": {
   "codemirror_mode": {
    "name": "ipython",
    "version": 3
   },
   "file_extension": ".py",
   "mimetype": "text/x-python",
   "name": "python",
   "nbconvert_exporter": "python",
   "pygments_lexer": "ipython3",
   "version": "3.10.4"
  }
 },
 "nbformat": 4,
 "nbformat_minor": 5
}
