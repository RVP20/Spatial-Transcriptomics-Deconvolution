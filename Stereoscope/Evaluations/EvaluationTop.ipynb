{
 "cells": [
  {
   "cell_type": "code",
   "execution_count": 6,
   "id": "6a6b17ef",
   "metadata": {},
   "outputs": [],
   "source": [
    "import scipy\n",
    "import numpy as np\n",
    "import pandas as pd\n",
    "import anndata\n",
    "import scvi \n",
    "import scanpy as sc"
   ]
  },
  {
   "cell_type": "code",
   "execution_count": 125,
   "id": "1fe36520",
   "metadata": {},
   "outputs": [],
   "source": [
    "Ann = sc.read_h5ad(\"./Data/exp0/sc_data_filtered.h5ad\")\n",
    "annotations=pd.read_csv(\"./Data/exp0/Ann.csv\")"
   ]
  },
  {
   "cell_type": "code",
   "execution_count": 126,
   "id": "ba335cc7",
   "metadata": {},
   "outputs": [],
   "source": [
    "annotations.drop(columns=\"Unnamed: 0\", inplace=True)\n"
   ]
  },
  {
   "cell_type": "code",
   "execution_count": 127,
   "id": "439bbf69",
   "metadata": {},
   "outputs": [],
   "source": [
    "t20=[]\n",
    "for i in range(20):\n",
    "    t20.append(annotations.value_counts().index[i][0])"
   ]
  },
  {
   "cell_type": "code",
   "execution_count": 128,
   "id": "35ac0a7e",
   "metadata": {},
   "outputs": [],
   "source": [
    "t10=t20[0:10]\n",
    "t15=t20[0:15]"
   ]
  },
  {
   "cell_type": "code",
   "execution_count": 129,
   "id": "5e588618",
   "metadata": {},
   "outputs": [],
   "source": [
    "predicted=pd.read_csv(\"./Stereoscope/Outputs/output_exp0.csv\")\n",
    "target=pd.read_csv(\"./Data/exp0/target.csv\")"
   ]
  },
  {
   "cell_type": "code",
   "execution_count": 130,
   "id": "e916dcfe",
   "metadata": {},
   "outputs": [],
   "source": [
    "predicted.drop(columns=\"Unnamed: 0\", inplace=True)"
   ]
  },
  {
   "cell_type": "code",
   "execution_count": 131,
   "id": "38f87d5d",
   "metadata": {},
   "outputs": [],
   "source": [
    "target.drop(columns=\"Unnamed: 0\", inplace=True)"
   ]
  },
  {
   "cell_type": "code",
   "execution_count": 132,
   "id": "9e026c1d",
   "metadata": {},
   "outputs": [],
   "source": [
    "predicted_20=predicted[t20]\n",
    "predicted_10=predicted[t10]\n",
    "predicted_15=predicted[t15]"
   ]
  },
  {
   "cell_type": "code",
   "execution_count": 133,
   "id": "d267184c",
   "metadata": {},
   "outputs": [],
   "source": [
    "target_t20=t20\n",
    "for i in range(20):\n",
    "    target_t20[i]=\"cell_abundances_\"+target_t20[i]"
   ]
  },
  {
   "cell_type": "code",
   "execution_count": 134,
   "id": "d6b2ad8f",
   "metadata": {},
   "outputs": [],
   "source": [
    "target_20=target[target_t20]\n",
    "target_15=target[target_t20[0:15]]\n",
    "target_10=target[target_t20[0:10]]"
   ]
  },
  {
   "cell_type": "code",
   "execution_count": 135,
   "id": "dc83ae04",
   "metadata": {},
   "outputs": [],
   "source": [
    "predicted=predicted.to_numpy()\n",
    "predicted_20=predicted_20.to_numpy()\n",
    "predicted_15=predicted_15.to_numpy()\n",
    "predicted_10=predicted_10.to_numpy()\n",
    "target_20=target_20.to_numpy()\n",
    "target_15=target_15.to_numpy()\n",
    "target_10=target_10.to_numpy()\n",
    "target=target.to_numpy()"
   ]
  },
  {
   "cell_type": "markdown",
   "id": "5cf356ab",
   "metadata": {},
   "source": [
    "## Pearson Correlation\n",
    "Entire output:"
   ]
  },
  {
   "cell_type": "code",
   "execution_count": 136,
   "id": "521604a1",
   "metadata": {},
   "outputs": [],
   "source": [
    "num_celltypes=49\n",
    "d = np.zeros(num_celltypes)"
   ]
  },
  {
   "cell_type": "code",
   "execution_count": 137,
   "id": "41298fac",
   "metadata": {},
   "outputs": [],
   "source": [
    "for i in range(0,num_celltypes):\n",
    "    p=predicted[:,i]\n",
    "    t=target[:,i]\n",
    "    prs=(np.corrcoef(p,t,rowvar=False))\n",
    "    d[i]=prs[0,1]\n"
   ]
  },
  {
   "cell_type": "code",
   "execution_count": 138,
   "id": "507c180f",
   "metadata": {},
   "outputs": [
    {
     "data": {
      "text/plain": [
       "0.6820255721166141"
      ]
     },
     "execution_count": 138,
     "metadata": {},
     "output_type": "execute_result"
    }
   ],
   "source": [
    "np.mean(d)"
   ]
  },
  {
   "cell_type": "markdown",
   "id": "438dd527",
   "metadata": {},
   "source": [
    "Top 10:"
   ]
  },
  {
   "cell_type": "code",
   "execution_count": 139,
   "id": "a2874e7d",
   "metadata": {},
   "outputs": [],
   "source": [
    "num_celltypes=10\n",
    "d = np.zeros(num_celltypes)"
   ]
  },
  {
   "cell_type": "code",
   "execution_count": 140,
   "id": "384a2288",
   "metadata": {},
   "outputs": [],
   "source": [
    "for i in range(0,num_celltypes):\n",
    "    p=predicted_10[:,i]\n",
    "    t=target_10[:,i]\n",
    "    prs=(np.corrcoef(p,t,rowvar=False))\n",
    "    d[i]=prs[0,1]\n",
    "\n"
   ]
  },
  {
   "cell_type": "code",
   "execution_count": 142,
   "id": "cc40328e",
   "metadata": {},
   "outputs": [
    {
     "data": {
      "text/plain": [
       "0.572459549252842"
      ]
     },
     "execution_count": 142,
     "metadata": {},
     "output_type": "execute_result"
    }
   ],
   "source": [
    "np.mean(d)"
   ]
  },
  {
   "cell_type": "markdown",
   "id": "8cd48aef",
   "metadata": {},
   "source": [
    "Top 15:"
   ]
  },
  {
   "cell_type": "code",
   "execution_count": 143,
   "id": "2ddc7733",
   "metadata": {},
   "outputs": [],
   "source": [
    "num_celltypes=15\n",
    "d = np.zeros(num_celltypes)"
   ]
  },
  {
   "cell_type": "code",
   "execution_count": 144,
   "id": "7b88d926",
   "metadata": {},
   "outputs": [],
   "source": [
    "for i in range(0,num_celltypes):\n",
    "    p=predicted_15[:,i]\n",
    "    t=target_15[:,i]\n",
    "    prs=(np.corrcoef(p,t,rowvar=False))\n",
    "    d[i]=prs[0,1]\n",
    "\n",
    "\n"
   ]
  },
  {
   "cell_type": "code",
   "execution_count": 145,
   "id": "0a9f5285",
   "metadata": {},
   "outputs": [
    {
     "data": {
      "text/plain": [
       "0.5368788476492824"
      ]
     },
     "execution_count": 145,
     "metadata": {},
     "output_type": "execute_result"
    }
   ],
   "source": [
    "np.mean(d)"
   ]
  },
  {
   "cell_type": "markdown",
   "id": "77d268d5",
   "metadata": {},
   "source": [
    "Top 20"
   ]
  },
  {
   "cell_type": "code",
   "execution_count": 149,
   "id": "eae8446e",
   "metadata": {},
   "outputs": [],
   "source": [
    "num_celltypes=20\n",
    "d = np.zeros(num_celltypes)"
   ]
  },
  {
   "cell_type": "code",
   "execution_count": 150,
   "id": "5153efc5",
   "metadata": {},
   "outputs": [],
   "source": [
    "for i in range(0,num_celltypes):\n",
    "    p=predicted_20[:,i]\n",
    "    t=target_20[:,i]\n",
    "    prs=(np.corrcoef(p,t,rowvar=False))\n",
    "    d[i]=prs[0,1]\n",
    "\n"
   ]
  },
  {
   "cell_type": "code",
   "execution_count": 151,
   "id": "f0252cd1",
   "metadata": {},
   "outputs": [
    {
     "data": {
      "text/plain": [
       "0.6083303088287784"
      ]
     },
     "execution_count": 151,
     "metadata": {},
     "output_type": "execute_result"
    }
   ],
   "source": [
    "np.mean(d)"
   ]
  },
  {
   "cell_type": "markdown",
   "id": "e2d67200",
   "metadata": {},
   "source": [
    "## Jenson Shannon"
   ]
  },
  {
   "cell_type": "code",
   "execution_count": 152,
   "id": "2cb07f05",
   "metadata": {},
   "outputs": [],
   "source": [
    "from scipy.spatial import distance"
   ]
  },
  {
   "cell_type": "code",
   "execution_count": 153,
   "id": "b345f6b3",
   "metadata": {},
   "outputs": [
    {
     "data": {
      "text/plain": [
       "0.4282545067817724"
      ]
     },
     "execution_count": 153,
     "metadata": {},
     "output_type": "execute_result"
    }
   ],
   "source": [
    "jns=distance.jensenshannon(predicted,target,axis=1)\n",
    "np.mean(jns)"
   ]
  },
  {
   "cell_type": "markdown",
   "id": "d6693fec",
   "metadata": {},
   "source": [
    "Top 10:"
   ]
  },
  {
   "cell_type": "code",
   "execution_count": 156,
   "id": "a47a708a",
   "metadata": {},
   "outputs": [
    {
     "data": {
      "text/plain": [
       "nan"
      ]
     },
     "execution_count": 156,
     "metadata": {},
     "output_type": "execute_result"
    }
   ],
   "source": [
    "jns=distance.jensenshannon(predicted_10,target_10,axis=1)\n",
    "jns=jns[~np.isinf(jns).squeeze()]\n",
    "np.mean(jns)"
   ]
  },
  {
   "cell_type": "code",
   "execution_count": null,
   "id": "5ad22750",
   "metadata": {},
   "outputs": [],
   "source": []
  },
  {
   "cell_type": "code",
   "execution_count": null,
   "id": "171c6dbd",
   "metadata": {},
   "outputs": [],
   "source": []
  },
  {
   "cell_type": "markdown",
   "id": "292c8811",
   "metadata": {},
   "source": [
    "Top 15:"
   ]
  },
  {
   "cell_type": "markdown",
   "id": "5ed93ca7",
   "metadata": {},
   "source": [
    "Top 20:"
   ]
  },
  {
   "cell_type": "markdown",
   "id": "c0234f7f",
   "metadata": {},
   "source": [
    "## F1 Score, Precision, Recall"
   ]
  },
  {
   "cell_type": "markdown",
   "id": "8444fba1",
   "metadata": {},
   "source": [
    "All"
   ]
  },
  {
   "cell_type": "code",
   "execution_count": 157,
   "id": "74126762",
   "metadata": {},
   "outputs": [],
   "source": [
    "from sklearn.metrics import f1_score\n",
    "from sklearn.metrics import precision_score\n",
    "from sklearn.metrics import recall_score"
   ]
  },
  {
   "cell_type": "code",
   "execution_count": 159,
   "id": "f2127ac2",
   "metadata": {},
   "outputs": [],
   "source": [
    "thresholds={0.001,0.01,0.1,0.2,0.3}"
   ]
  },
  {
   "cell_type": "code",
   "execution_count": 160,
   "id": "d2d142ad",
   "metadata": {},
   "outputs": [],
   "source": [
    "d = pd.DataFrame(0, index=np.arange(len(thresholds)), columns=[\"Precision\",\"Recall\",\"F1-score\"])\n",
    "d.index=thresholds\n"
   ]
  },
  {
   "cell_type": "code",
   "execution_count": 161,
   "id": "fdb0b9cd",
   "metadata": {},
   "outputs": [],
   "source": [
    "for t in thresholds:\n",
    "    Predicted_logical=(predicted>t).astype(int)\n",
    "    Target_logical=(target>t).astype(int)\n",
    "    d.loc[t,\"Precision\"]=precision_score(Target_logical,Predicted_logical,average=\"micro\")\n",
    "    d.loc[t,\"Recall\"]=recall_score(Target_logical,Predicted_logical,average=\"micro\")\n",
    "    d.loc[t,\"F1-score\"]=f1_score(Target_logical,Predicted_logical,average=\"micro\")"
   ]
  },
  {
   "cell_type": "code",
   "execution_count": 162,
   "id": "42ad539b",
   "metadata": {},
   "outputs": [
    {
     "data": {
      "text/html": [
       "<div>\n",
       "<style scoped>\n",
       "    .dataframe tbody tr th:only-of-type {\n",
       "        vertical-align: middle;\n",
       "    }\n",
       "\n",
       "    .dataframe tbody tr th {\n",
       "        vertical-align: top;\n",
       "    }\n",
       "\n",
       "    .dataframe thead th {\n",
       "        text-align: right;\n",
       "    }\n",
       "</style>\n",
       "<table border=\"1\" class=\"dataframe\">\n",
       "  <thead>\n",
       "    <tr style=\"text-align: right;\">\n",
       "      <th></th>\n",
       "      <th>Precision</th>\n",
       "      <th>Recall</th>\n",
       "      <th>F1-score</th>\n",
       "    </tr>\n",
       "  </thead>\n",
       "  <tbody>\n",
       "    <tr>\n",
       "      <th>0.100</th>\n",
       "      <td>0.590919</td>\n",
       "      <td>0.396304</td>\n",
       "      <td>0.474429</td>\n",
       "    </tr>\n",
       "    <tr>\n",
       "      <th>0.200</th>\n",
       "      <td>0.357143</td>\n",
       "      <td>0.046358</td>\n",
       "      <td>0.082063</td>\n",
       "    </tr>\n",
       "    <tr>\n",
       "      <th>0.300</th>\n",
       "      <td>0.200000</td>\n",
       "      <td>0.002933</td>\n",
       "      <td>0.005780</td>\n",
       "    </tr>\n",
       "    <tr>\n",
       "      <th>0.010</th>\n",
       "      <td>0.571113</td>\n",
       "      <td>0.769730</td>\n",
       "      <td>0.655711</td>\n",
       "    </tr>\n",
       "    <tr>\n",
       "      <th>0.001</th>\n",
       "      <td>0.518735</td>\n",
       "      <td>0.871973</td>\n",
       "      <td>0.650493</td>\n",
       "    </tr>\n",
       "  </tbody>\n",
       "</table>\n",
       "</div>"
      ],
      "text/plain": [
       "       Precision    Recall  F1-score\n",
       "0.100   0.590919  0.396304  0.474429\n",
       "0.200   0.357143  0.046358  0.082063\n",
       "0.300   0.200000  0.002933  0.005780\n",
       "0.010   0.571113  0.769730  0.655711\n",
       "0.001   0.518735  0.871973  0.650493"
      ]
     },
     "execution_count": 162,
     "metadata": {},
     "output_type": "execute_result"
    }
   ],
   "source": [
    "d"
   ]
  },
  {
   "cell_type": "markdown",
   "id": "82f3f64f",
   "metadata": {},
   "source": [
    "Top 10"
   ]
  },
  {
   "cell_type": "code",
   "execution_count": 166,
   "id": "548b947b",
   "metadata": {},
   "outputs": [],
   "source": [
    "d = pd.DataFrame(0, index=np.arange(len(thresholds)), columns=[\"Precision\",\"Recall\",\"F1-score\"])\n",
    "d.index=thresholds"
   ]
  },
  {
   "cell_type": "code",
   "execution_count": 167,
   "id": "fd126c88",
   "metadata": {},
   "outputs": [
    {
     "name": "stderr",
     "output_type": "stream",
     "text": [
      "/opt/homebrew/Caskroom/miniforge/base/envs/ML/lib/python3.10/site-packages/sklearn/metrics/_classification.py:1318: UndefinedMetricWarning: Precision is ill-defined and being set to 0.0 due to no predicted samples. Use `zero_division` parameter to control this behavior.\n",
      "  _warn_prf(average, modifier, msg_start, len(result))\n",
      "/opt/homebrew/Caskroom/miniforge/base/envs/ML/lib/python3.10/site-packages/sklearn/metrics/_classification.py:1318: UndefinedMetricWarning: Precision is ill-defined and being set to 0.0 due to no predicted samples. Use `zero_division` parameter to control this behavior.\n",
      "  _warn_prf(average, modifier, msg_start, len(result))\n"
     ]
    }
   ],
   "source": [
    "for t in thresholds:\n",
    "    Predicted_logical=(predicted_10>t).astype(int)\n",
    "    Target_logical=(target_10>t).astype(int)\n",
    "    d.loc[t,\"Precision\"]=precision_score(Target_logical,Predicted_logical,average=\"micro\")\n",
    "    d.loc[t,\"Recall\"]=recall_score(Target_logical,Predicted_logical,average=\"micro\")\n",
    "    d.loc[t,\"F1-score\"]=f1_score(Target_logical,Predicted_logical,average=\"micro\")"
   ]
  },
  {
   "cell_type": "code",
   "execution_count": 168,
   "id": "c6619179",
   "metadata": {},
   "outputs": [
    {
     "data": {
      "text/html": [
       "<div>\n",
       "<style scoped>\n",
       "    .dataframe tbody tr th:only-of-type {\n",
       "        vertical-align: middle;\n",
       "    }\n",
       "\n",
       "    .dataframe tbody tr th {\n",
       "        vertical-align: top;\n",
       "    }\n",
       "\n",
       "    .dataframe thead th {\n",
       "        text-align: right;\n",
       "    }\n",
       "</style>\n",
       "<table border=\"1\" class=\"dataframe\">\n",
       "  <thead>\n",
       "    <tr style=\"text-align: right;\">\n",
       "      <th></th>\n",
       "      <th>Precision</th>\n",
       "      <th>Recall</th>\n",
       "      <th>F1-score</th>\n",
       "    </tr>\n",
       "  </thead>\n",
       "  <tbody>\n",
       "    <tr>\n",
       "      <th>0.100</th>\n",
       "      <td>0.277519</td>\n",
       "      <td>0.257925</td>\n",
       "      <td>0.267364</td>\n",
       "    </tr>\n",
       "    <tr>\n",
       "      <th>0.200</th>\n",
       "      <td>0.000000</td>\n",
       "      <td>0.000000</td>\n",
       "      <td>0.000000</td>\n",
       "    </tr>\n",
       "    <tr>\n",
       "      <th>0.300</th>\n",
       "      <td>0.000000</td>\n",
       "      <td>0.000000</td>\n",
       "      <td>0.000000</td>\n",
       "    </tr>\n",
       "    <tr>\n",
       "      <th>0.010</th>\n",
       "      <td>0.412959</td>\n",
       "      <td>0.790246</td>\n",
       "      <td>0.542450</td>\n",
       "    </tr>\n",
       "    <tr>\n",
       "      <th>0.001</th>\n",
       "      <td>0.365608</td>\n",
       "      <td>0.879662</td>\n",
       "      <td>0.516533</td>\n",
       "    </tr>\n",
       "  </tbody>\n",
       "</table>\n",
       "</div>"
      ],
      "text/plain": [
       "       Precision    Recall  F1-score\n",
       "0.100   0.277519  0.257925  0.267364\n",
       "0.200   0.000000  0.000000  0.000000\n",
       "0.300   0.000000  0.000000  0.000000\n",
       "0.010   0.412959  0.790246  0.542450\n",
       "0.001   0.365608  0.879662  0.516533"
      ]
     },
     "execution_count": 168,
     "metadata": {},
     "output_type": "execute_result"
    }
   ],
   "source": [
    "d"
   ]
  },
  {
   "cell_type": "markdown",
   "id": "58e71e51",
   "metadata": {},
   "source": [
    "Top 15"
   ]
  },
  {
   "cell_type": "code",
   "execution_count": 169,
   "id": "854031f0",
   "metadata": {},
   "outputs": [],
   "source": [
    "d = pd.DataFrame(0, index=np.arange(len(thresholds)), columns=[\"Precision\",\"Recall\",\"F1-score\"])\n",
    "d.index=thresholds"
   ]
  },
  {
   "cell_type": "code",
   "execution_count": 170,
   "id": "1759e3d0",
   "metadata": {},
   "outputs": [],
   "source": [
    "for t in thresholds:\n",
    "    Predicted_logical=(predicted_15>t).astype(int)\n",
    "    Target_logical=(target_15>t).astype(int)\n",
    "    d.loc[t,\"Precision\"]=precision_score(Target_logical,Predicted_logical,average=\"micro\")\n",
    "    d.loc[t,\"Recall\"]=recall_score(Target_logical,Predicted_logical,average=\"micro\")\n",
    "    d.loc[t,\"F1-score\"]=f1_score(Target_logical,Predicted_logical,average=\"micro\")"
   ]
  },
  {
   "cell_type": "code",
   "execution_count": 171,
   "id": "8bf1cb31",
   "metadata": {},
   "outputs": [
    {
     "data": {
      "text/html": [
       "<div>\n",
       "<style scoped>\n",
       "    .dataframe tbody tr th:only-of-type {\n",
       "        vertical-align: middle;\n",
       "    }\n",
       "\n",
       "    .dataframe tbody tr th {\n",
       "        vertical-align: top;\n",
       "    }\n",
       "\n",
       "    .dataframe thead th {\n",
       "        text-align: right;\n",
       "    }\n",
       "</style>\n",
       "<table border=\"1\" class=\"dataframe\">\n",
       "  <thead>\n",
       "    <tr style=\"text-align: right;\">\n",
       "      <th></th>\n",
       "      <th>Precision</th>\n",
       "      <th>Recall</th>\n",
       "      <th>F1-score</th>\n",
       "    </tr>\n",
       "  </thead>\n",
       "  <tbody>\n",
       "    <tr>\n",
       "      <th>0.100</th>\n",
       "      <td>0.327184</td>\n",
       "      <td>0.382955</td>\n",
       "      <td>0.352880</td>\n",
       "    </tr>\n",
       "    <tr>\n",
       "      <th>0.200</th>\n",
       "      <td>0.389610</td>\n",
       "      <td>0.197368</td>\n",
       "      <td>0.262009</td>\n",
       "    </tr>\n",
       "    <tr>\n",
       "      <th>0.300</th>\n",
       "      <td>0.200000</td>\n",
       "      <td>0.050000</td>\n",
       "      <td>0.080000</td>\n",
       "    </tr>\n",
       "    <tr>\n",
       "      <th>0.010</th>\n",
       "      <td>0.364413</td>\n",
       "      <td>0.780366</td>\n",
       "      <td>0.496822</td>\n",
       "    </tr>\n",
       "    <tr>\n",
       "      <th>0.001</th>\n",
       "      <td>0.339823</td>\n",
       "      <td>0.855401</td>\n",
       "      <td>0.486410</td>\n",
       "    </tr>\n",
       "  </tbody>\n",
       "</table>\n",
       "</div>"
      ],
      "text/plain": [
       "       Precision    Recall  F1-score\n",
       "0.100   0.327184  0.382955  0.352880\n",
       "0.200   0.389610  0.197368  0.262009\n",
       "0.300   0.200000  0.050000  0.080000\n",
       "0.010   0.364413  0.780366  0.496822\n",
       "0.001   0.339823  0.855401  0.486410"
      ]
     },
     "execution_count": 171,
     "metadata": {},
     "output_type": "execute_result"
    }
   ],
   "source": [
    "d"
   ]
  },
  {
   "cell_type": "markdown",
   "id": "8e162177",
   "metadata": {},
   "source": [
    "Top 20"
   ]
  },
  {
   "cell_type": "code",
   "execution_count": null,
   "id": "1890e41e",
   "metadata": {},
   "outputs": [],
   "source": [
    "d = pd.DataFrame(0, index=np.arange(len(thresholds)), columns=[\"Precision\",\"Recall\",\"F1-score\"])\n",
    "d.index=thresholds"
   ]
  },
  {
   "cell_type": "code",
   "execution_count": 172,
   "id": "3ed2d6b8",
   "metadata": {},
   "outputs": [],
   "source": [
    "for t in thresholds:\n",
    "    Predicted_logical=(predicted_20>t).astype(int)\n",
    "    Target_logical=(target_20>t).astype(int)\n",
    "    d.loc[t,\"Precision\"]=precision_score(Target_logical,Predicted_logical,average=\"micro\")\n",
    "    d.loc[t,\"Recall\"]=recall_score(Target_logical,Predicted_logical,average=\"micro\")\n",
    "    d.loc[t,\"F1-score\"]=f1_score(Target_logical,Predicted_logical,average=\"micro\")"
   ]
  },
  {
   "cell_type": "code",
   "execution_count": 173,
   "id": "569a5d67",
   "metadata": {},
   "outputs": [
    {
     "data": {
      "text/html": [
       "<div>\n",
       "<style scoped>\n",
       "    .dataframe tbody tr th:only-of-type {\n",
       "        vertical-align: middle;\n",
       "    }\n",
       "\n",
       "    .dataframe tbody tr th {\n",
       "        vertical-align: top;\n",
       "    }\n",
       "\n",
       "    .dataframe thead th {\n",
       "        text-align: right;\n",
       "    }\n",
       "</style>\n",
       "<table border=\"1\" class=\"dataframe\">\n",
       "  <thead>\n",
       "    <tr style=\"text-align: right;\">\n",
       "      <th></th>\n",
       "      <th>Precision</th>\n",
       "      <th>Recall</th>\n",
       "      <th>F1-score</th>\n",
       "    </tr>\n",
       "  </thead>\n",
       "  <tbody>\n",
       "    <tr>\n",
       "      <th>0.100</th>\n",
       "      <td>0.545309</td>\n",
       "      <td>0.558711</td>\n",
       "      <td>0.551929</td>\n",
       "    </tr>\n",
       "    <tr>\n",
       "      <th>0.200</th>\n",
       "      <td>0.395833</td>\n",
       "      <td>0.079332</td>\n",
       "      <td>0.132174</td>\n",
       "    </tr>\n",
       "    <tr>\n",
       "      <th>0.300</th>\n",
       "      <td>0.200000</td>\n",
       "      <td>0.010101</td>\n",
       "      <td>0.019231</td>\n",
       "    </tr>\n",
       "    <tr>\n",
       "      <th>0.010</th>\n",
       "      <td>0.405319</td>\n",
       "      <td>0.816183</td>\n",
       "      <td>0.541652</td>\n",
       "    </tr>\n",
       "    <tr>\n",
       "      <th>0.001</th>\n",
       "      <td>0.357980</td>\n",
       "      <td>0.878939</td>\n",
       "      <td>0.508752</td>\n",
       "    </tr>\n",
       "  </tbody>\n",
       "</table>\n",
       "</div>"
      ],
      "text/plain": [
       "       Precision    Recall  F1-score\n",
       "0.100   0.545309  0.558711  0.551929\n",
       "0.200   0.395833  0.079332  0.132174\n",
       "0.300   0.200000  0.010101  0.019231\n",
       "0.010   0.405319  0.816183  0.541652\n",
       "0.001   0.357980  0.878939  0.508752"
      ]
     },
     "execution_count": 173,
     "metadata": {},
     "output_type": "execute_result"
    }
   ],
   "source": [
    "d"
   ]
  }
 ],
 "metadata": {
  "kernelspec": {
   "display_name": "Python [conda env:ML]",
   "language": "python",
   "name": "conda-env-ML-py"
  },
  "language_info": {
   "codemirror_mode": {
    "name": "ipython",
    "version": 3
   },
   "file_extension": ".py",
   "mimetype": "text/x-python",
   "name": "python",
   "nbconvert_exporter": "python",
   "pygments_lexer": "ipython3",
   "version": "3.10.4"
  }
 },
 "nbformat": 4,
 "nbformat_minor": 5
}
