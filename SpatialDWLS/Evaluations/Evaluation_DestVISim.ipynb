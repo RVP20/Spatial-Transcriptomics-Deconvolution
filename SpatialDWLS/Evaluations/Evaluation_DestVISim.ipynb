{
 "cells": [
  {
   "cell_type": "code",
   "execution_count": 3,
   "id": "82a8cdee",
   "metadata": {},
   "outputs": [],
   "source": [
    "import numpy as np\n",
    "import pandas as pd\n",
    "import scipy\n",
    "from scipy.spatial import distance\n",
    "from sklearn.metrics import f1_score\n",
    "from sklearn.metrics import precision_score\n",
    "from sklearn.metrics import recall_score\n",
    "from scipy.special import rel_entr"
   ]
  },
  {
   "cell_type": "code",
   "execution_count": 78,
   "id": "988d85de",
   "metadata": {},
   "outputs": [],
   "source": [
    "Predicted = pd.read_csv(\"./SpatialDWLS/Outputs/output_DestVISim.csv\")\n",
    "Target=pd.read_csv(\"./Data/DestVISim/target.csv\")"
   ]
  },
  {
   "cell_type": "code",
   "execution_count": 79,
   "id": "eb12e521",
   "metadata": {},
   "outputs": [
    {
     "data": {
      "text/html": [
       "<div>\n",
       "<style scoped>\n",
       "    .dataframe tbody tr th:only-of-type {\n",
       "        vertical-align: middle;\n",
       "    }\n",
       "\n",
       "    .dataframe tbody tr th {\n",
       "        vertical-align: top;\n",
       "    }\n",
       "\n",
       "    .dataframe thead th {\n",
       "        text-align: right;\n",
       "    }\n",
       "</style>\n",
       "<table border=\"1\" class=\"dataframe\">\n",
       "  <thead>\n",
       "    <tr style=\"text-align: right;\">\n",
       "      <th></th>\n",
       "      <th>Unnamed: 0</th>\n",
       "      <th>cell_ID</th>\n",
       "      <th>0</th>\n",
       "      <th>1</th>\n",
       "      <th>2</th>\n",
       "      <th>3</th>\n",
       "      <th>4</th>\n",
       "    </tr>\n",
       "  </thead>\n",
       "  <tbody>\n",
       "    <tr>\n",
       "      <th>0</th>\n",
       "      <td>1</td>\n",
       "      <td>0</td>\n",
       "      <td>0.000000</td>\n",
       "      <td>0.543554</td>\n",
       "      <td>0.456446</td>\n",
       "      <td>0.0</td>\n",
       "      <td>0.000000</td>\n",
       "    </tr>\n",
       "    <tr>\n",
       "      <th>1</th>\n",
       "      <td>2</td>\n",
       "      <td>1</td>\n",
       "      <td>0.000000</td>\n",
       "      <td>0.669134</td>\n",
       "      <td>0.330866</td>\n",
       "      <td>0.0</td>\n",
       "      <td>0.000000</td>\n",
       "    </tr>\n",
       "    <tr>\n",
       "      <th>2</th>\n",
       "      <td>3</td>\n",
       "      <td>2</td>\n",
       "      <td>0.000000</td>\n",
       "      <td>0.646285</td>\n",
       "      <td>0.353715</td>\n",
       "      <td>0.0</td>\n",
       "      <td>0.000000</td>\n",
       "    </tr>\n",
       "    <tr>\n",
       "      <th>3</th>\n",
       "      <td>4</td>\n",
       "      <td>3</td>\n",
       "      <td>0.000000</td>\n",
       "      <td>1.000000</td>\n",
       "      <td>0.000000</td>\n",
       "      <td>0.0</td>\n",
       "      <td>0.000000</td>\n",
       "    </tr>\n",
       "    <tr>\n",
       "      <th>4</th>\n",
       "      <td>5</td>\n",
       "      <td>4</td>\n",
       "      <td>0.000000</td>\n",
       "      <td>1.000000</td>\n",
       "      <td>0.000000</td>\n",
       "      <td>0.0</td>\n",
       "      <td>0.000000</td>\n",
       "    </tr>\n",
       "    <tr>\n",
       "      <th>...</th>\n",
       "      <td>...</td>\n",
       "      <td>...</td>\n",
       "      <td>...</td>\n",
       "      <td>...</td>\n",
       "      <td>...</td>\n",
       "      <td>...</td>\n",
       "      <td>...</td>\n",
       "    </tr>\n",
       "    <tr>\n",
       "      <th>1595</th>\n",
       "      <td>1596</td>\n",
       "      <td>1595</td>\n",
       "      <td>0.000000</td>\n",
       "      <td>0.000000</td>\n",
       "      <td>0.000000</td>\n",
       "      <td>0.0</td>\n",
       "      <td>1.000000</td>\n",
       "    </tr>\n",
       "    <tr>\n",
       "      <th>1596</th>\n",
       "      <td>1597</td>\n",
       "      <td>1596</td>\n",
       "      <td>0.300741</td>\n",
       "      <td>0.000000</td>\n",
       "      <td>0.000000</td>\n",
       "      <td>0.0</td>\n",
       "      <td>0.699259</td>\n",
       "    </tr>\n",
       "    <tr>\n",
       "      <th>1597</th>\n",
       "      <td>1598</td>\n",
       "      <td>1597</td>\n",
       "      <td>0.275665</td>\n",
       "      <td>0.000000</td>\n",
       "      <td>0.000000</td>\n",
       "      <td>0.0</td>\n",
       "      <td>0.724335</td>\n",
       "    </tr>\n",
       "    <tr>\n",
       "      <th>1598</th>\n",
       "      <td>1599</td>\n",
       "      <td>1598</td>\n",
       "      <td>0.423454</td>\n",
       "      <td>0.000000</td>\n",
       "      <td>0.000000</td>\n",
       "      <td>0.0</td>\n",
       "      <td>0.576546</td>\n",
       "    </tr>\n",
       "    <tr>\n",
       "      <th>1599</th>\n",
       "      <td>1600</td>\n",
       "      <td>1599</td>\n",
       "      <td>0.547751</td>\n",
       "      <td>0.000000</td>\n",
       "      <td>0.000000</td>\n",
       "      <td>0.0</td>\n",
       "      <td>0.452249</td>\n",
       "    </tr>\n",
       "  </tbody>\n",
       "</table>\n",
       "<p>1600 rows × 7 columns</p>\n",
       "</div>"
      ],
      "text/plain": [
       "      Unnamed: 0  cell_ID         0         1         2    3         4\n",
       "0              1        0  0.000000  0.543554  0.456446  0.0  0.000000\n",
       "1              2        1  0.000000  0.669134  0.330866  0.0  0.000000\n",
       "2              3        2  0.000000  0.646285  0.353715  0.0  0.000000\n",
       "3              4        3  0.000000  1.000000  0.000000  0.0  0.000000\n",
       "4              5        4  0.000000  1.000000  0.000000  0.0  0.000000\n",
       "...          ...      ...       ...       ...       ...  ...       ...\n",
       "1595        1596     1595  0.000000  0.000000  0.000000  0.0  1.000000\n",
       "1596        1597     1596  0.300741  0.000000  0.000000  0.0  0.699259\n",
       "1597        1598     1597  0.275665  0.000000  0.000000  0.0  0.724335\n",
       "1598        1599     1598  0.423454  0.000000  0.000000  0.0  0.576546\n",
       "1599        1600     1599  0.547751  0.000000  0.000000  0.0  0.452249\n",
       "\n",
       "[1600 rows x 7 columns]"
      ]
     },
     "execution_count": 79,
     "metadata": {},
     "output_type": "execute_result"
    }
   ],
   "source": [
    "Predicted"
   ]
  },
  {
   "cell_type": "code",
   "execution_count": 80,
   "id": "6bde132c",
   "metadata": {},
   "outputs": [
    {
     "data": {
      "text/html": [
       "<div>\n",
       "<style scoped>\n",
       "    .dataframe tbody tr th:only-of-type {\n",
       "        vertical-align: middle;\n",
       "    }\n",
       "\n",
       "    .dataframe tbody tr th {\n",
       "        vertical-align: top;\n",
       "    }\n",
       "\n",
       "    .dataframe thead th {\n",
       "        text-align: right;\n",
       "    }\n",
       "</style>\n",
       "<table border=\"1\" class=\"dataframe\">\n",
       "  <thead>\n",
       "    <tr style=\"text-align: right;\">\n",
       "      <th></th>\n",
       "      <th>Unnamed: 0</th>\n",
       "      <th>0</th>\n",
       "      <th>1</th>\n",
       "      <th>2</th>\n",
       "      <th>3</th>\n",
       "      <th>4</th>\n",
       "    </tr>\n",
       "  </thead>\n",
       "  <tbody>\n",
       "    <tr>\n",
       "      <th>0</th>\n",
       "      <td>0</td>\n",
       "      <td>0.109382</td>\n",
       "      <td>0.458548</td>\n",
       "      <td>0.240255</td>\n",
       "      <td>0.117889</td>\n",
       "      <td>0.073926</td>\n",
       "    </tr>\n",
       "    <tr>\n",
       "      <th>1</th>\n",
       "      <td>1</td>\n",
       "      <td>0.106379</td>\n",
       "      <td>0.542767</td>\n",
       "      <td>0.192066</td>\n",
       "      <td>0.080376</td>\n",
       "      <td>0.078412</td>\n",
       "    </tr>\n",
       "    <tr>\n",
       "      <th>2</th>\n",
       "      <td>2</td>\n",
       "      <td>0.115552</td>\n",
       "      <td>0.584335</td>\n",
       "      <td>0.148478</td>\n",
       "      <td>0.063775</td>\n",
       "      <td>0.087860</td>\n",
       "    </tr>\n",
       "    <tr>\n",
       "      <th>3</th>\n",
       "      <td>3</td>\n",
       "      <td>0.134864</td>\n",
       "      <td>0.583714</td>\n",
       "      <td>0.119500</td>\n",
       "      <td>0.059645</td>\n",
       "      <td>0.102278</td>\n",
       "    </tr>\n",
       "    <tr>\n",
       "      <th>4</th>\n",
       "      <td>4</td>\n",
       "      <td>0.156835</td>\n",
       "      <td>0.555801</td>\n",
       "      <td>0.104024</td>\n",
       "      <td>0.063044</td>\n",
       "      <td>0.120296</td>\n",
       "    </tr>\n",
       "    <tr>\n",
       "      <th>...</th>\n",
       "      <td>...</td>\n",
       "      <td>...</td>\n",
       "      <td>...</td>\n",
       "      <td>...</td>\n",
       "      <td>...</td>\n",
       "      <td>...</td>\n",
       "    </tr>\n",
       "    <tr>\n",
       "      <th>1595</th>\n",
       "      <td>1595</td>\n",
       "      <td>0.270532</td>\n",
       "      <td>0.229576</td>\n",
       "      <td>0.079589</td>\n",
       "      <td>0.065887</td>\n",
       "      <td>0.354416</td>\n",
       "    </tr>\n",
       "    <tr>\n",
       "      <th>1596</th>\n",
       "      <td>1596</td>\n",
       "      <td>0.331026</td>\n",
       "      <td>0.218634</td>\n",
       "      <td>0.057692</td>\n",
       "      <td>0.046939</td>\n",
       "      <td>0.345709</td>\n",
       "    </tr>\n",
       "    <tr>\n",
       "      <th>1597</th>\n",
       "      <td>1597</td>\n",
       "      <td>0.401695</td>\n",
       "      <td>0.196309</td>\n",
       "      <td>0.046337</td>\n",
       "      <td>0.036350</td>\n",
       "      <td>0.319309</td>\n",
       "    </tr>\n",
       "    <tr>\n",
       "      <th>1598</th>\n",
       "      <td>1598</td>\n",
       "      <td>0.478614</td>\n",
       "      <td>0.162905</td>\n",
       "      <td>0.039004</td>\n",
       "      <td>0.030636</td>\n",
       "      <td>0.288841</td>\n",
       "    </tr>\n",
       "    <tr>\n",
       "      <th>1599</th>\n",
       "      <td>1599</td>\n",
       "      <td>0.555623</td>\n",
       "      <td>0.123283</td>\n",
       "      <td>0.031429</td>\n",
       "      <td>0.027442</td>\n",
       "      <td>0.262223</td>\n",
       "    </tr>\n",
       "  </tbody>\n",
       "</table>\n",
       "<p>1600 rows × 6 columns</p>\n",
       "</div>"
      ],
      "text/plain": [
       "      Unnamed: 0         0         1         2         3         4\n",
       "0              0  0.109382  0.458548  0.240255  0.117889  0.073926\n",
       "1              1  0.106379  0.542767  0.192066  0.080376  0.078412\n",
       "2              2  0.115552  0.584335  0.148478  0.063775  0.087860\n",
       "3              3  0.134864  0.583714  0.119500  0.059645  0.102278\n",
       "4              4  0.156835  0.555801  0.104024  0.063044  0.120296\n",
       "...          ...       ...       ...       ...       ...       ...\n",
       "1595        1595  0.270532  0.229576  0.079589  0.065887  0.354416\n",
       "1596        1596  0.331026  0.218634  0.057692  0.046939  0.345709\n",
       "1597        1597  0.401695  0.196309  0.046337  0.036350  0.319309\n",
       "1598        1598  0.478614  0.162905  0.039004  0.030636  0.288841\n",
       "1599        1599  0.555623  0.123283  0.031429  0.027442  0.262223\n",
       "\n",
       "[1600 rows x 6 columns]"
      ]
     },
     "execution_count": 80,
     "metadata": {},
     "output_type": "execute_result"
    }
   ],
   "source": [
    "Target"
   ]
  },
  {
   "cell_type": "code",
   "execution_count": 81,
   "id": "a34657d9",
   "metadata": {},
   "outputs": [],
   "source": [
    "Predicted.drop(columns=\"Unnamed: 0\", inplace=True)\n",
    "Predicted.drop(columns=\"cell_ID\", inplace=True)\n"
   ]
  },
  {
   "cell_type": "code",
   "execution_count": 82,
   "id": "28aaf864",
   "metadata": {},
   "outputs": [],
   "source": [
    "Target.drop(columns=\"Unnamed: 0\", inplace=True)"
   ]
  },
  {
   "cell_type": "code",
   "execution_count": 83,
   "id": "bb1bc8f7",
   "metadata": {},
   "outputs": [],
   "source": [
    "for i in range(len(Target)):\n",
    "    Target.loc[i,:]=Target.loc[i,:]/Target.loc[i,:].sum()"
   ]
  },
  {
   "cell_type": "code",
   "execution_count": 84,
   "id": "a2579017",
   "metadata": {},
   "outputs": [],
   "source": [
    "for i in range(len(Predicted)):\n",
    "    Predicted.loc[i,:]=Predicted.loc[i,:]/Predicted.loc[i,:].sum()\n",
    " "
   ]
  },
  {
   "cell_type": "code",
   "execution_count": 85,
   "id": "e92060f1",
   "metadata": {},
   "outputs": [],
   "source": [
    "columns_p=[]\n",
    "for i in range(Predicted.shape[1]):\n",
    "    columns_p.append(Predicted.columns[i])\n",
    "    "
   ]
  },
  {
   "cell_type": "code",
   "execution_count": 86,
   "id": "cc86d88d",
   "metadata": {},
   "outputs": [],
   "source": [
    "columns_t=[]\n",
    "for i in range(Target.shape[1]):\n",
    "    columns_t.append(Target.columns[i])\n",
    "    "
   ]
  },
  {
   "cell_type": "code",
   "execution_count": 87,
   "id": "7b5fa8c8",
   "metadata": {},
   "outputs": [],
   "source": [
    "columns_p=sorted(columns_p)\n",
    "columns_t=sorted(columns_t)"
   ]
  },
  {
   "cell_type": "code",
   "execution_count": 88,
   "id": "ca3ee0e8",
   "metadata": {},
   "outputs": [],
   "source": [
    "Predicted=Predicted[columns_p]\n",
    "Target=Target[columns_t]"
   ]
  },
  {
   "cell_type": "code",
   "execution_count": 89,
   "id": "e63415a8",
   "metadata": {},
   "outputs": [],
   "source": [
    "Target=Target.to_numpy()\n",
    "Predicted=Predicted.to_numpy()"
   ]
  },
  {
   "cell_type": "markdown",
   "id": "2122d92f",
   "metadata": {},
   "source": [
    "## Pearson Correlation"
   ]
  },
  {
   "cell_type": "code",
   "execution_count": 90,
   "id": "c7a7e96e",
   "metadata": {},
   "outputs": [],
   "source": [
    "num_celltypes=Predicted.shape[1]\n",
    "d = np.zeros(num_celltypes)\n",
    "for i in range(0,num_celltypes):\n",
    "    p=Predicted[:,i]\n",
    "    t=Target[:,i]\n",
    "    prs=(np.corrcoef(p,t,rowvar=False))\n",
    "    d[i]=prs[0,1]"
   ]
  },
  {
   "cell_type": "code",
   "execution_count": 91,
   "id": "09670934",
   "metadata": {},
   "outputs": [
    {
     "data": {
      "text/plain": [
       "0.8514759819590522"
      ]
     },
     "execution_count": 91,
     "metadata": {},
     "output_type": "execute_result"
    }
   ],
   "source": [
    "np.mean(np.nan_to_num(d))"
   ]
  },
  {
   "cell_type": "code",
   "execution_count": 92,
   "id": "0870b0fe",
   "metadata": {},
   "outputs": [
    {
     "data": {
      "text/plain": [
       "array([0.87977541, 0.84693234, 0.87668254, 0.78488766, 0.86910196])"
      ]
     },
     "execution_count": 92,
     "metadata": {},
     "output_type": "execute_result"
    }
   ],
   "source": [
    "d"
   ]
  },
  {
   "cell_type": "markdown",
   "id": "945cc302",
   "metadata": {},
   "source": [
    "## Jenson Shannon Divergence"
   ]
  },
  {
   "cell_type": "code",
   "execution_count": 93,
   "id": "5769211b",
   "metadata": {},
   "outputs": [
    {
     "data": {
      "text/plain": [
       "0.34597655960712076"
      ]
     },
     "execution_count": 93,
     "metadata": {},
     "output_type": "execute_result"
    }
   ],
   "source": [
    "jns=distance.jensenshannon(Predicted,Target,axis=1)\n",
    "jns=jns[~np.isinf(jns).squeeze()]\n",
    "np.mean(jns)"
   ]
  },
  {
   "cell_type": "markdown",
   "id": "21f44549",
   "metadata": {},
   "source": [
    "## F1 Score, Precision, Recall"
   ]
  },
  {
   "cell_type": "code",
   "execution_count": 94,
   "id": "5aedb288",
   "metadata": {},
   "outputs": [],
   "source": [
    "thresholds={0.001,0.01,0.1,0.2,0.3}"
   ]
  },
  {
   "cell_type": "code",
   "execution_count": 95,
   "id": "31a9b585",
   "metadata": {},
   "outputs": [],
   "source": [
    "d = pd.DataFrame(0, index=np.arange(len(thresholds)), columns=[\"Precision\",\"Recall\",\"F1-score\"])\n",
    "d.index=thresholds\n",
    "for t in thresholds:\n",
    "    Predicted_logical=(Predicted>t).astype(int)\n",
    "    Target_logical=(Target>t).astype(int)\n",
    "    d.loc[t,\"Precision\"]=precision_score(Target_logical,Predicted_logical,average=\"micro\")\n",
    "    d.loc[t,\"Recall\"]=recall_score(Target_logical,Predicted_logical,average=\"micro\")\n",
    "    d.loc[t,\"F1-score\"]=f1_score(Target_logical,Predicted_logical,average=\"micro\")"
   ]
  },
  {
   "cell_type": "code",
   "execution_count": 96,
   "id": "fa27573a",
   "metadata": {},
   "outputs": [
    {
     "data": {
      "text/html": [
       "<div>\n",
       "<style scoped>\n",
       "    .dataframe tbody tr th:only-of-type {\n",
       "        vertical-align: middle;\n",
       "    }\n",
       "\n",
       "    .dataframe tbody tr th {\n",
       "        vertical-align: top;\n",
       "    }\n",
       "\n",
       "    .dataframe thead th {\n",
       "        text-align: right;\n",
       "    }\n",
       "</style>\n",
       "<table border=\"1\" class=\"dataframe\">\n",
       "  <thead>\n",
       "    <tr style=\"text-align: right;\">\n",
       "      <th></th>\n",
       "      <th>Precision</th>\n",
       "      <th>Recall</th>\n",
       "      <th>F1-score</th>\n",
       "    </tr>\n",
       "  </thead>\n",
       "  <tbody>\n",
       "    <tr>\n",
       "      <th>0.100</th>\n",
       "      <td>0.988564</td>\n",
       "      <td>0.586744</td>\n",
       "      <td>0.736407</td>\n",
       "    </tr>\n",
       "    <tr>\n",
       "      <th>0.200</th>\n",
       "      <td>0.866375</td>\n",
       "      <td>0.854015</td>\n",
       "      <td>0.860150</td>\n",
       "    </tr>\n",
       "    <tr>\n",
       "      <th>0.300</th>\n",
       "      <td>0.672577</td>\n",
       "      <td>0.943094</td>\n",
       "      <td>0.785189</td>\n",
       "    </tr>\n",
       "    <tr>\n",
       "      <th>0.010</th>\n",
       "      <td>1.000000</td>\n",
       "      <td>0.376329</td>\n",
       "      <td>0.546859</td>\n",
       "    </tr>\n",
       "    <tr>\n",
       "      <th>0.001</th>\n",
       "      <td>1.000000</td>\n",
       "      <td>0.371625</td>\n",
       "      <td>0.541876</td>\n",
       "    </tr>\n",
       "  </tbody>\n",
       "</table>\n",
       "</div>"
      ],
      "text/plain": [
       "       Precision    Recall  F1-score\n",
       "0.100   0.988564  0.586744  0.736407\n",
       "0.200   0.866375  0.854015  0.860150\n",
       "0.300   0.672577  0.943094  0.785189\n",
       "0.010   1.000000  0.376329  0.546859\n",
       "0.001   1.000000  0.371625  0.541876"
      ]
     },
     "execution_count": 96,
     "metadata": {},
     "output_type": "execute_result"
    }
   ],
   "source": [
    "d"
   ]
  },
  {
   "cell_type": "code",
   "execution_count": null,
   "id": "5e18763e",
   "metadata": {},
   "outputs": [],
   "source": []
  },
  {
   "cell_type": "code",
   "execution_count": null,
   "id": "4081f075",
   "metadata": {},
   "outputs": [],
   "source": []
  }
 ],
 "metadata": {
  "kernelspec": {
   "display_name": "Python [conda env:ML]",
   "language": "python",
   "name": "conda-env-ML-py"
  },
  "language_info": {
   "codemirror_mode": {
    "name": "ipython",
    "version": 3
   },
   "file_extension": ".py",
   "mimetype": "text/x-python",
   "name": "python",
   "nbconvert_exporter": "python",
   "pygments_lexer": "ipython3",
   "version": "3.10.4"
  }
 },
 "nbformat": 4,
 "nbformat_minor": 5
}
