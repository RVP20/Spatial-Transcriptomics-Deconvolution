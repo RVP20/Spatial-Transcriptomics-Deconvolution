{
 "cells": [
  {
   "cell_type": "code",
   "execution_count": 101,
   "id": "82a8cdee",
   "metadata": {},
   "outputs": [],
   "source": [
    "import numpy as np\n",
    "import pandas as pd\n",
    "import scipy\n",
    "from scipy.spatial import distance\n",
    "from sklearn.metrics import f1_score\n",
    "from sklearn.metrics import precision_score\n",
    "from sklearn.metrics import recall_score\n",
    "from scipy.special import rel_entr\n",
    "import math\n",
    "from scipy.stats import wasserstein_distance"
   ]
  },
  {
   "cell_type": "code",
   "execution_count": 102,
   "id": "988d85de",
   "metadata": {},
   "outputs": [],
   "source": [
    "Predicted = pd.read_csv(\"./SpatialDWLS/Outputs/output_Sim13.csv\")\n",
    "Target=pd.read_csv(\"./Data/Sim13/target.csv\")"
   ]
  },
  {
   "cell_type": "code",
   "execution_count": 103,
   "id": "a34657d9",
   "metadata": {},
   "outputs": [],
   "source": [
    "Predicted.drop(columns=\"Unnamed: 0\", inplace=True)\n",
    "Predicted.drop(columns=\"cell_ID\", inplace=True)\n",
    "#Predicted.drop(columns=\"prediction.score.max\",inplace=True)\n"
   ]
  },
  {
   "cell_type": "code",
   "execution_count": 104,
   "id": "28aaf864",
   "metadata": {},
   "outputs": [],
   "source": [
    "Target.drop(columns=\"Unnamed: 0\", inplace=True)"
   ]
  },
  {
   "cell_type": "code",
   "execution_count": 105,
   "id": "bb1bc8f7",
   "metadata": {},
   "outputs": [],
   "source": [
    "for i in range(len(Target)):\n",
    "    Target.loc[i,:]=Target.loc[i,:]/Target.loc[i,:].sum()"
   ]
  },
  {
   "cell_type": "code",
   "execution_count": 106,
   "id": "a2579017",
   "metadata": {},
   "outputs": [],
   "source": [
    "for i in range(len(Predicted)):\n",
    "    Predicted.loc[i,:]=Predicted.loc[i,:]/Predicted.loc[i,:].sum()\n",
    " "
   ]
  },
  {
   "cell_type": "code",
   "execution_count": 107,
   "id": "e92060f1",
   "metadata": {},
   "outputs": [],
   "source": [
    "columns_p=[]\n",
    "for i in range(Predicted.shape[1]):\n",
    "    columns_p.append(Predicted.columns[i])\n",
    "    "
   ]
  },
  {
   "cell_type": "code",
   "execution_count": 108,
   "id": "cc86d88d",
   "metadata": {},
   "outputs": [],
   "source": [
    "columns_t=[]\n",
    "for i in range(Target.shape[1]):\n",
    "    columns_t.append(Target.columns[i])\n",
    "    "
   ]
  },
  {
   "cell_type": "code",
   "execution_count": 109,
   "id": "7b5fa8c8",
   "metadata": {},
   "outputs": [],
   "source": [
    "columns_p=sorted(columns_p)\n",
    "columns_t=sorted(columns_t)"
   ]
  },
  {
   "cell_type": "code",
   "execution_count": 110,
   "id": "ca3ee0e8",
   "metadata": {},
   "outputs": [],
   "source": [
    "Predicted=Predicted[columns_p]\n",
    "Target=Target[columns_t]"
   ]
  },
  {
   "cell_type": "code",
   "execution_count": 111,
   "id": "e63415a8",
   "metadata": {},
   "outputs": [],
   "source": [
    "Target=Target.to_numpy()\n",
    "Predicted=Predicted.to_numpy()"
   ]
  },
  {
   "cell_type": "markdown",
   "id": "2122d92f",
   "metadata": {},
   "source": [
    "## Pearson Correlation"
   ]
  },
  {
   "cell_type": "code",
   "execution_count": 112,
   "id": "c7a7e96e",
   "metadata": {},
   "outputs": [],
   "source": [
    "num_celltypes=Predicted.shape[1]\n",
    "d = np.zeros(num_celltypes)\n",
    "for i in range(0,num_celltypes):\n",
    "    p=Predicted[:,i]\n",
    "    t=Target[:,i]\n",
    "    prs=(np.corrcoef(p,t,rowvar=False))\n",
    "    d[i]=prs[0,1]"
   ]
  },
  {
   "cell_type": "code",
   "execution_count": 113,
   "id": "09670934",
   "metadata": {},
   "outputs": [
    {
     "data": {
      "text/plain": [
       "0.8081361060814958"
      ]
     },
     "execution_count": 113,
     "metadata": {},
     "output_type": "execute_result"
    }
   ],
   "source": [
    "np.mean(np.nan_to_num(d))"
   ]
  },
  {
   "cell_type": "code",
   "execution_count": 114,
   "id": "0870b0fe",
   "metadata": {},
   "outputs": [
    {
     "data": {
      "text/plain": [
       "array([0.91576508, 0.24550005, 0.86511059, 0.88311656, 0.89108735,\n",
       "       0.91968386, 0.86383506, 0.75130675, 0.88040784, 0.86554793])"
      ]
     },
     "execution_count": 114,
     "metadata": {},
     "output_type": "execute_result"
    }
   ],
   "source": [
    "d"
   ]
  },
  {
   "cell_type": "markdown",
   "id": "945cc302",
   "metadata": {},
   "source": [
    "## Jenson Shannon Divergence"
   ]
  },
  {
   "cell_type": "code",
   "execution_count": 115,
   "id": "5769211b",
   "metadata": {},
   "outputs": [
    {
     "data": {
      "text/plain": [
       "0.20446705907883522"
      ]
     },
     "execution_count": 115,
     "metadata": {},
     "output_type": "execute_result"
    }
   ],
   "source": [
    "jns=distance.jensenshannon(Predicted,Target,axis=1)\n",
    "jns=jns[~np.isinf(jns).squeeze()]\n",
    "np.mean(jns)"
   ]
  },
  {
   "cell_type": "markdown",
   "id": "21f44549",
   "metadata": {},
   "source": [
    "## F1 Score, Precision, Recall"
   ]
  },
  {
   "cell_type": "code",
   "execution_count": 116,
   "id": "5aedb288",
   "metadata": {},
   "outputs": [],
   "source": [
    "thresholds={0.001,0.01,0.1,0.2,0.3}"
   ]
  },
  {
   "cell_type": "code",
   "execution_count": 117,
   "id": "31a9b585",
   "metadata": {},
   "outputs": [],
   "source": [
    "d = pd.DataFrame(0, index=np.arange(len(thresholds)), columns=[\"Precision\",\"Recall\",\"F1-score\"])\n",
    "d.index=thresholds\n",
    "for t in thresholds:\n",
    "    Predicted_logical=(Predicted>t).astype(int)\n",
    "    Target_logical=(Target>t).astype(int)\n",
    "    d.loc[t,\"Precision\"]=precision_score(Target_logical,Predicted_logical,average=\"micro\")\n",
    "    d.loc[t,\"Recall\"]=recall_score(Target_logical,Predicted_logical,average=\"micro\")\n",
    "    d.loc[t,\"F1-score\"]=f1_score(Target_logical,Predicted_logical,average=\"micro\")"
   ]
  },
  {
   "cell_type": "code",
   "execution_count": 118,
   "id": "fa27573a",
   "metadata": {},
   "outputs": [
    {
     "data": {
      "text/html": [
       "<div>\n",
       "<style scoped>\n",
       "    .dataframe tbody tr th:only-of-type {\n",
       "        vertical-align: middle;\n",
       "    }\n",
       "\n",
       "    .dataframe tbody tr th {\n",
       "        vertical-align: top;\n",
       "    }\n",
       "\n",
       "    .dataframe thead th {\n",
       "        text-align: right;\n",
       "    }\n",
       "</style>\n",
       "<table border=\"1\" class=\"dataframe\">\n",
       "  <thead>\n",
       "    <tr style=\"text-align: right;\">\n",
       "      <th></th>\n",
       "      <th>Precision</th>\n",
       "      <th>Recall</th>\n",
       "      <th>F1-score</th>\n",
       "    </tr>\n",
       "  </thead>\n",
       "  <tbody>\n",
       "    <tr>\n",
       "      <th>0.100</th>\n",
       "      <td>0.947492</td>\n",
       "      <td>0.842802</td>\n",
       "      <td>0.892086</td>\n",
       "    </tr>\n",
       "    <tr>\n",
       "      <th>0.200</th>\n",
       "      <td>0.858046</td>\n",
       "      <td>0.801908</td>\n",
       "      <td>0.829028</td>\n",
       "    </tr>\n",
       "    <tr>\n",
       "      <th>0.300</th>\n",
       "      <td>0.756402</td>\n",
       "      <td>0.735163</td>\n",
       "      <td>0.745631</td>\n",
       "    </tr>\n",
       "    <tr>\n",
       "      <th>0.010</th>\n",
       "      <td>0.965478</td>\n",
       "      <td>0.849455</td>\n",
       "      <td>0.903758</td>\n",
       "    </tr>\n",
       "    <tr>\n",
       "      <th>0.001</th>\n",
       "      <td>0.960075</td>\n",
       "      <td>0.849455</td>\n",
       "      <td>0.901384</td>\n",
       "    </tr>\n",
       "  </tbody>\n",
       "</table>\n",
       "</div>"
      ],
      "text/plain": [
       "       Precision    Recall  F1-score\n",
       "0.100   0.947492  0.842802  0.892086\n",
       "0.200   0.858046  0.801908  0.829028\n",
       "0.300   0.756402  0.735163  0.745631\n",
       "0.010   0.965478  0.849455  0.903758\n",
       "0.001   0.960075  0.849455  0.901384"
      ]
     },
     "execution_count": 118,
     "metadata": {},
     "output_type": "execute_result"
    }
   ],
   "source": [
    "d"
   ]
  },
  {
   "cell_type": "markdown",
   "id": "b6b1da98",
   "metadata": {},
   "source": [
    "## Wasserstein Distance"
   ]
  },
  {
   "cell_type": "code",
   "execution_count": 119,
   "id": "625f4162",
   "metadata": {},
   "outputs": [
    {
     "data": {
      "text/plain": [
       "0.016553612843457938"
      ]
     },
     "execution_count": 119,
     "metadata": {},
     "output_type": "execute_result"
    }
   ],
   "source": [
    "scipy.stats.wasserstein_distance(np.reshape(Target,(Target.shape[0]*Target.shape[1])),np.reshape(Predicted,(Predicted.shape[0]*Predicted.shape[1])))"
   ]
  },
  {
   "cell_type": "markdown",
   "id": "6ace44cf",
   "metadata": {},
   "source": [
    "## KL Divergence"
   ]
  },
  {
   "cell_type": "code",
   "execution_count": 120,
   "id": "37ebee76",
   "metadata": {
    "scrolled": true
   },
   "outputs": [],
   "source": [
    "to_be_kept=(Predicted>0)"
   ]
  },
  {
   "cell_type": "code",
   "execution_count": 121,
   "id": "2055ba94",
   "metadata": {},
   "outputs": [],
   "source": [
    "Predicted=Predicted[to_be_kept]\n",
    "Target=Target[to_be_kept]"
   ]
  },
  {
   "cell_type": "code",
   "execution_count": 122,
   "id": "e258f0ab",
   "metadata": {},
   "outputs": [],
   "source": [
    "kl=scipy.special.rel_entr(Target,Predicted)"
   ]
  },
  {
   "cell_type": "code",
   "execution_count": 123,
   "id": "d1faa1f5",
   "metadata": {},
   "outputs": [
    {
     "data": {
      "text/plain": [
       "0.01756192682135398"
      ]
     },
     "execution_count": 123,
     "metadata": {},
     "output_type": "execute_result"
    }
   ],
   "source": [
    "np.mean(kl)"
   ]
  },
  {
   "cell_type": "code",
   "execution_count": null,
   "id": "006536f1",
   "metadata": {},
   "outputs": [],
   "source": []
  }
 ],
 "metadata": {
  "kernelspec": {
   "display_name": "Python [conda env:ML]",
   "language": "python",
   "name": "conda-env-ML-py"
  },
  "language_info": {
   "codemirror_mode": {
    "name": "ipython",
    "version": 3
   },
   "file_extension": ".py",
   "mimetype": "text/x-python",
   "name": "python",
   "nbconvert_exporter": "python",
   "pygments_lexer": "ipython3",
   "version": "3.10.4"
  }
 },
 "nbformat": 4,
 "nbformat_minor": 5
}
