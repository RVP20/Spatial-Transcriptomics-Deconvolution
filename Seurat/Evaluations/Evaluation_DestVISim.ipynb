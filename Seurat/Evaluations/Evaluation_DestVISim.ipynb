{
  "nbformat": 4,
  "nbformat_minor": 0,
  "metadata": {
    "colab": {
      "name": "Evaluation.ipynb",
      "provenance": [],
      "collapsed_sections": []
    },
    "kernelspec": {
      "name": "python3",
      "display_name": "Python 3"
    },
    "language_info": {
      "name": "python"
    }
  },
  "cells": [
    {
      "cell_type": "code",
      "execution_count": 1,
      "metadata": {
        "id": "wBbnopyKCaMC"
      },
      "outputs": [],
      "source": [
        "import numpy as np\n",
        "import pandas as pd"
      ]
    },
    {
      "cell_type": "code",
      "source": [
        "!pip install scipy==1.7.0\n",
        "import scipy"
      ],
      "metadata": {
        "colab": {
          "base_uri": "https://localhost:8080/"
        },
        "id": "M1yk9v6qFL54",
        "outputId": "c28d0a8a-dc87-4c66-f16a-f8191492651d"
      },
      "execution_count": 2,
      "outputs": [
        {
          "output_type": "stream",
          "name": "stdout",
          "text": [
            "Looking in indexes: https://pypi.org/simple, https://us-python.pkg.dev/colab-wheels/public/simple/\n",
            "Collecting scipy==1.7.0\n",
            "  Downloading scipy-1.7.0-cp37-cp37m-manylinux_2_5_x86_64.manylinux1_x86_64.whl (28.5 MB)\n",
            "\u001b[K     |████████████████████████████████| 28.5 MB 1.6 MB/s \n",
            "\u001b[?25hRequirement already satisfied: numpy<1.23.0,>=1.16.5 in /usr/local/lib/python3.7/dist-packages (from scipy==1.7.0) (1.21.6)\n",
            "Installing collected packages: scipy\n",
            "  Attempting uninstall: scipy\n",
            "    Found existing installation: scipy 1.4.1\n",
            "    Uninstalling scipy-1.4.1:\n",
            "      Successfully uninstalled scipy-1.4.1\n",
            "\u001b[31mERROR: pip's dependency resolver does not currently take into account all the packages that are installed. This behaviour is the source of the following dependency conflicts.\n",
            "albumentations 0.1.12 requires imgaug<0.2.7,>=0.2.5, but you have imgaug 0.2.9 which is incompatible.\u001b[0m\n",
            "Successfully installed scipy-1.7.0\n"
          ]
        }
      ]
    },
    {
      "cell_type": "code",
      "source": [
        "from google.colab import drive\n",
        "drive.mount('/content/gdrive')"
      ],
      "metadata": {
        "colab": {
          "base_uri": "https://localhost:8080/"
        },
        "id": "7UGcGEjUDfE-",
        "outputId": "c59a5d2c-1fb7-43ae-8e35-a234d6a55c55"
      },
      "execution_count": 3,
      "outputs": [
        {
          "output_type": "stream",
          "name": "stdout",
          "text": [
            "Mounted at /content/gdrive\n"
          ]
        }
      ]
    },
    {
      "cell_type": "code",
      "source": [
        "Predicted = pd.read_csv(\"./gdrive/MyDrive/ST_Project/SimulatedData/output_Seurat.csv\")\n",
        "Target=pd.read_csv(\"./gdrive/MyDrive/ST_Project/SimulatedData/target.csv\")\n"
      ],
      "metadata": {
        "id": "hyic1SVBDpPj"
      },
      "execution_count": 4,
      "outputs": []
    },
    {
      "cell_type": "code",
      "source": [
        "Predicted=Predicted.drop(columns=\"Unnamed: 0\")\n",
        "Target=Target.drop(columns=\"Unnamed: 0\")\n",
        "Predicted=Predicted.to_numpy()\n",
        "Target=Target.to_numpy()"
      ],
      "metadata": {
        "id": "12EMxTGel8fm"
      },
      "execution_count": 6,
      "outputs": []
    },
    {
      "cell_type": "markdown",
      "source": [
        "# Pearson Correlation\n",
        "All at once:"
      ],
      "metadata": {
        "id": "VqyzX0kdEVux"
      }
    },
    {
      "cell_type": "code",
      "source": [
        "prs=(np.corrcoef(Predicted,Target,rowvar=False))\n",
        "prs=pd.DataFrame(prs)"
      ],
      "metadata": {
        "id": "eG5n1ZhmEQOh"
      },
      "execution_count": 8,
      "outputs": []
    },
    {
      "cell_type": "code",
      "source": [
        "prs"
      ],
      "metadata": {
        "colab": {
          "base_uri": "https://localhost:8080/",
          "height": 359
        },
        "id": "Vowc6sIhEiYq",
        "outputId": "2dd571c1-0804-4d81-d480-97f669832984"
      },
      "execution_count": 9,
      "outputs": [
        {
          "output_type": "execute_result",
          "data": {
            "text/plain": [
              "          0         1         2         3         4         5         6  \\\n",
              "0  1.000000 -0.391862 -0.394430 -0.297442 -0.328501  0.848878 -0.246584   \n",
              "1 -0.391862  1.000000  0.126081 -0.312494  0.075146 -0.433548  0.677736   \n",
              "2 -0.394430  0.126081  1.000000 -0.305173 -0.294131 -0.517140 -0.089721   \n",
              "3 -0.297442 -0.312494 -0.305173  1.000000 -0.216189 -0.079400 -0.041292   \n",
              "4 -0.328501  0.075146 -0.294131 -0.216189  1.000000 -0.209688  0.016809   \n",
              "5  0.848878 -0.433548 -0.517140 -0.079400 -0.209688  1.000000 -0.237878   \n",
              "6 -0.246584  0.677736 -0.089721 -0.041292  0.016809 -0.237878  1.000000   \n",
              "7 -0.332657  0.156365  0.873447 -0.253711 -0.321834 -0.475712 -0.142213   \n",
              "8 -0.118116 -0.322491 -0.426649  0.781028 -0.061880  0.028090 -0.174821   \n",
              "9 -0.046507 -0.156958 -0.311805 -0.082862  0.627545 -0.099725 -0.306100   \n",
              "\n",
              "          7         8         9  \n",
              "0 -0.332657 -0.118116 -0.046507  \n",
              "1  0.156365 -0.322491 -0.156958  \n",
              "2  0.873447 -0.426649 -0.311805  \n",
              "3 -0.253711  0.781028 -0.082862  \n",
              "4 -0.321834 -0.061880  0.627545  \n",
              "5 -0.475712  0.028090 -0.099725  \n",
              "6 -0.142213 -0.174821 -0.306100  \n",
              "7  1.000000 -0.388622 -0.493745  \n",
              "8 -0.388622  1.000000 -0.039719  \n",
              "9 -0.493745 -0.039719  1.000000  "
            ],
            "text/html": [
              "\n",
              "  <div id=\"df-24ff5452-e131-43d1-a889-65caa5434866\">\n",
              "    <div class=\"colab-df-container\">\n",
              "      <div>\n",
              "<style scoped>\n",
              "    .dataframe tbody tr th:only-of-type {\n",
              "        vertical-align: middle;\n",
              "    }\n",
              "\n",
              "    .dataframe tbody tr th {\n",
              "        vertical-align: top;\n",
              "    }\n",
              "\n",
              "    .dataframe thead th {\n",
              "        text-align: right;\n",
              "    }\n",
              "</style>\n",
              "<table border=\"1\" class=\"dataframe\">\n",
              "  <thead>\n",
              "    <tr style=\"text-align: right;\">\n",
              "      <th></th>\n",
              "      <th>0</th>\n",
              "      <th>1</th>\n",
              "      <th>2</th>\n",
              "      <th>3</th>\n",
              "      <th>4</th>\n",
              "      <th>5</th>\n",
              "      <th>6</th>\n",
              "      <th>7</th>\n",
              "      <th>8</th>\n",
              "      <th>9</th>\n",
              "    </tr>\n",
              "  </thead>\n",
              "  <tbody>\n",
              "    <tr>\n",
              "      <th>0</th>\n",
              "      <td>1.000000</td>\n",
              "      <td>-0.391862</td>\n",
              "      <td>-0.394430</td>\n",
              "      <td>-0.297442</td>\n",
              "      <td>-0.328501</td>\n",
              "      <td>0.848878</td>\n",
              "      <td>-0.246584</td>\n",
              "      <td>-0.332657</td>\n",
              "      <td>-0.118116</td>\n",
              "      <td>-0.046507</td>\n",
              "    </tr>\n",
              "    <tr>\n",
              "      <th>1</th>\n",
              "      <td>-0.391862</td>\n",
              "      <td>1.000000</td>\n",
              "      <td>0.126081</td>\n",
              "      <td>-0.312494</td>\n",
              "      <td>0.075146</td>\n",
              "      <td>-0.433548</td>\n",
              "      <td>0.677736</td>\n",
              "      <td>0.156365</td>\n",
              "      <td>-0.322491</td>\n",
              "      <td>-0.156958</td>\n",
              "    </tr>\n",
              "    <tr>\n",
              "      <th>2</th>\n",
              "      <td>-0.394430</td>\n",
              "      <td>0.126081</td>\n",
              "      <td>1.000000</td>\n",
              "      <td>-0.305173</td>\n",
              "      <td>-0.294131</td>\n",
              "      <td>-0.517140</td>\n",
              "      <td>-0.089721</td>\n",
              "      <td>0.873447</td>\n",
              "      <td>-0.426649</td>\n",
              "      <td>-0.311805</td>\n",
              "    </tr>\n",
              "    <tr>\n",
              "      <th>3</th>\n",
              "      <td>-0.297442</td>\n",
              "      <td>-0.312494</td>\n",
              "      <td>-0.305173</td>\n",
              "      <td>1.000000</td>\n",
              "      <td>-0.216189</td>\n",
              "      <td>-0.079400</td>\n",
              "      <td>-0.041292</td>\n",
              "      <td>-0.253711</td>\n",
              "      <td>0.781028</td>\n",
              "      <td>-0.082862</td>\n",
              "    </tr>\n",
              "    <tr>\n",
              "      <th>4</th>\n",
              "      <td>-0.328501</td>\n",
              "      <td>0.075146</td>\n",
              "      <td>-0.294131</td>\n",
              "      <td>-0.216189</td>\n",
              "      <td>1.000000</td>\n",
              "      <td>-0.209688</td>\n",
              "      <td>0.016809</td>\n",
              "      <td>-0.321834</td>\n",
              "      <td>-0.061880</td>\n",
              "      <td>0.627545</td>\n",
              "    </tr>\n",
              "    <tr>\n",
              "      <th>5</th>\n",
              "      <td>0.848878</td>\n",
              "      <td>-0.433548</td>\n",
              "      <td>-0.517140</td>\n",
              "      <td>-0.079400</td>\n",
              "      <td>-0.209688</td>\n",
              "      <td>1.000000</td>\n",
              "      <td>-0.237878</td>\n",
              "      <td>-0.475712</td>\n",
              "      <td>0.028090</td>\n",
              "      <td>-0.099725</td>\n",
              "    </tr>\n",
              "    <tr>\n",
              "      <th>6</th>\n",
              "      <td>-0.246584</td>\n",
              "      <td>0.677736</td>\n",
              "      <td>-0.089721</td>\n",
              "      <td>-0.041292</td>\n",
              "      <td>0.016809</td>\n",
              "      <td>-0.237878</td>\n",
              "      <td>1.000000</td>\n",
              "      <td>-0.142213</td>\n",
              "      <td>-0.174821</td>\n",
              "      <td>-0.306100</td>\n",
              "    </tr>\n",
              "    <tr>\n",
              "      <th>7</th>\n",
              "      <td>-0.332657</td>\n",
              "      <td>0.156365</td>\n",
              "      <td>0.873447</td>\n",
              "      <td>-0.253711</td>\n",
              "      <td>-0.321834</td>\n",
              "      <td>-0.475712</td>\n",
              "      <td>-0.142213</td>\n",
              "      <td>1.000000</td>\n",
              "      <td>-0.388622</td>\n",
              "      <td>-0.493745</td>\n",
              "    </tr>\n",
              "    <tr>\n",
              "      <th>8</th>\n",
              "      <td>-0.118116</td>\n",
              "      <td>-0.322491</td>\n",
              "      <td>-0.426649</td>\n",
              "      <td>0.781028</td>\n",
              "      <td>-0.061880</td>\n",
              "      <td>0.028090</td>\n",
              "      <td>-0.174821</td>\n",
              "      <td>-0.388622</td>\n",
              "      <td>1.000000</td>\n",
              "      <td>-0.039719</td>\n",
              "    </tr>\n",
              "    <tr>\n",
              "      <th>9</th>\n",
              "      <td>-0.046507</td>\n",
              "      <td>-0.156958</td>\n",
              "      <td>-0.311805</td>\n",
              "      <td>-0.082862</td>\n",
              "      <td>0.627545</td>\n",
              "      <td>-0.099725</td>\n",
              "      <td>-0.306100</td>\n",
              "      <td>-0.493745</td>\n",
              "      <td>-0.039719</td>\n",
              "      <td>1.000000</td>\n",
              "    </tr>\n",
              "  </tbody>\n",
              "</table>\n",
              "</div>\n",
              "      <button class=\"colab-df-convert\" onclick=\"convertToInteractive('df-24ff5452-e131-43d1-a889-65caa5434866')\"\n",
              "              title=\"Convert this dataframe to an interactive table.\"\n",
              "              style=\"display:none;\">\n",
              "        \n",
              "  <svg xmlns=\"http://www.w3.org/2000/svg\" height=\"24px\"viewBox=\"0 0 24 24\"\n",
              "       width=\"24px\">\n",
              "    <path d=\"M0 0h24v24H0V0z\" fill=\"none\"/>\n",
              "    <path d=\"M18.56 5.44l.94 2.06.94-2.06 2.06-.94-2.06-.94-.94-2.06-.94 2.06-2.06.94zm-11 1L8.5 8.5l.94-2.06 2.06-.94-2.06-.94L8.5 2.5l-.94 2.06-2.06.94zm10 10l.94 2.06.94-2.06 2.06-.94-2.06-.94-.94-2.06-.94 2.06-2.06.94z\"/><path d=\"M17.41 7.96l-1.37-1.37c-.4-.4-.92-.59-1.43-.59-.52 0-1.04.2-1.43.59L10.3 9.45l-7.72 7.72c-.78.78-.78 2.05 0 2.83L4 21.41c.39.39.9.59 1.41.59.51 0 1.02-.2 1.41-.59l7.78-7.78 2.81-2.81c.8-.78.8-2.07 0-2.86zM5.41 20L4 18.59l7.72-7.72 1.47 1.35L5.41 20z\"/>\n",
              "  </svg>\n",
              "      </button>\n",
              "      \n",
              "  <style>\n",
              "    .colab-df-container {\n",
              "      display:flex;\n",
              "      flex-wrap:wrap;\n",
              "      gap: 12px;\n",
              "    }\n",
              "\n",
              "    .colab-df-convert {\n",
              "      background-color: #E8F0FE;\n",
              "      border: none;\n",
              "      border-radius: 50%;\n",
              "      cursor: pointer;\n",
              "      display: none;\n",
              "      fill: #1967D2;\n",
              "      height: 32px;\n",
              "      padding: 0 0 0 0;\n",
              "      width: 32px;\n",
              "    }\n",
              "\n",
              "    .colab-df-convert:hover {\n",
              "      background-color: #E2EBFA;\n",
              "      box-shadow: 0px 1px 2px rgba(60, 64, 67, 0.3), 0px 1px 3px 1px rgba(60, 64, 67, 0.15);\n",
              "      fill: #174EA6;\n",
              "    }\n",
              "\n",
              "    [theme=dark] .colab-df-convert {\n",
              "      background-color: #3B4455;\n",
              "      fill: #D2E3FC;\n",
              "    }\n",
              "\n",
              "    [theme=dark] .colab-df-convert:hover {\n",
              "      background-color: #434B5C;\n",
              "      box-shadow: 0px 1px 3px 1px rgba(0, 0, 0, 0.15);\n",
              "      filter: drop-shadow(0px 1px 2px rgba(0, 0, 0, 0.3));\n",
              "      fill: #FFFFFF;\n",
              "    }\n",
              "  </style>\n",
              "\n",
              "      <script>\n",
              "        const buttonEl =\n",
              "          document.querySelector('#df-24ff5452-e131-43d1-a889-65caa5434866 button.colab-df-convert');\n",
              "        buttonEl.style.display =\n",
              "          google.colab.kernel.accessAllowed ? 'block' : 'none';\n",
              "\n",
              "        async function convertToInteractive(key) {\n",
              "          const element = document.querySelector('#df-24ff5452-e131-43d1-a889-65caa5434866');\n",
              "          const dataTable =\n",
              "            await google.colab.kernel.invokeFunction('convertToInteractive',\n",
              "                                                     [key], {});\n",
              "          if (!dataTable) return;\n",
              "\n",
              "          const docLinkHtml = 'Like what you see? Visit the ' +\n",
              "            '<a target=\"_blank\" href=https://colab.research.google.com/notebooks/data_table.ipynb>data table notebook</a>'\n",
              "            + ' to learn more about interactive tables.';\n",
              "          element.innerHTML = '';\n",
              "          dataTable['output_type'] = 'display_data';\n",
              "          await google.colab.output.renderOutput(dataTable, element);\n",
              "          const docLink = document.createElement('div');\n",
              "          docLink.innerHTML = docLinkHtml;\n",
              "          element.appendChild(docLink);\n",
              "        }\n",
              "      </script>\n",
              "    </div>\n",
              "  </div>\n",
              "  "
            ]
          },
          "metadata": {},
          "execution_count": 9
        }
      ]
    },
    {
      "cell_type": "markdown",
      "source": [
        "One at a time:"
      ],
      "metadata": {
        "id": "AmbDRhjQcClO"
      }
    },
    {
      "cell_type": "code",
      "source": [
        "num_celltypes=5\n",
        "d = np.zeros(num_celltypes)"
      ],
      "metadata": {
        "id": "HRS5U1I9X1AE"
      },
      "execution_count": 10,
      "outputs": []
    },
    {
      "cell_type": "code",
      "source": [
        "for i in range(0,num_celltypes):\n",
        "  p=Predicted[:,i]\n",
        "  t=Target[:,i]\n",
        "  prs=(np.corrcoef(p,t,rowvar=False))\n",
        "  d[i]=prs[0,1]\n"
      ],
      "metadata": {
        "id": "2RLR3oL-ZHHM"
      },
      "execution_count": 11,
      "outputs": []
    },
    {
      "cell_type": "code",
      "source": [
        "d"
      ],
      "metadata": {
        "colab": {
          "base_uri": "https://localhost:8080/"
        },
        "id": "9XhA3TQDZwfX",
        "outputId": "8a9b45ce-d89e-43b8-fd7f-226d50e25b45"
      },
      "execution_count": 12,
      "outputs": [
        {
          "output_type": "execute_result",
          "data": {
            "text/plain": [
              "array([0.84887829, 0.67773616, 0.87344658, 0.7810277 , 0.62754486])"
            ]
          },
          "metadata": {},
          "execution_count": 12
        }
      ]
    },
    {
      "cell_type": "markdown",
      "source": [
        "# Jensen Shannon"
      ],
      "metadata": {
        "id": "Anzo7lbXEkTO"
      }
    },
    {
      "cell_type": "code",
      "source": [
        "from scipy.spatial import distance"
      ],
      "metadata": {
        "id": "zbP_nKcqEpxY"
      },
      "execution_count": 13,
      "outputs": []
    },
    {
      "cell_type": "code",
      "source": [
        "jns=distance.jensenshannon(Predicted,Target,axis=1)"
      ],
      "metadata": {
        "id": "4kT1wn_VEvHq"
      },
      "execution_count": 14,
      "outputs": []
    },
    {
      "cell_type": "code",
      "source": [
        "np.mean(jns)"
      ],
      "metadata": {
        "colab": {
          "base_uri": "https://localhost:8080/"
        },
        "id": "ACrv8nZe-IzF",
        "outputId": "eff7676e-cf65-41b2-8d9b-1cae3b2129f7"
      },
      "execution_count": 15,
      "outputs": [
        {
          "output_type": "execute_result",
          "data": {
            "text/plain": [
              "0.41936876756054386"
            ]
          },
          "metadata": {},
          "execution_count": 15
        }
      ]
    },
    {
      "cell_type": "code",
      "source": [
        "jns=pd.DataFrame(jns)"
      ],
      "metadata": {
        "id": "gcYaAP4sJpDk"
      },
      "execution_count": 16,
      "outputs": []
    },
    {
      "cell_type": "code",
      "source": [
        "jns.to_csv(\"jns.csv\")"
      ],
      "metadata": {
        "id": "_N0wPjjuJzrQ"
      },
      "execution_count": 17,
      "outputs": []
    },
    {
      "cell_type": "markdown",
      "source": [
        "# F1, Precision, Recall"
      ],
      "metadata": {
        "id": "fd1fxqGgF7aa"
      }
    },
    {
      "cell_type": "code",
      "source": [
        "from sklearn.metrics import f1_score\n",
        "from sklearn.metrics import precision_score\n",
        "from sklearn.metrics import recall_score"
      ],
      "metadata": {
        "id": "S_kfDLWIF_pE"
      },
      "execution_count": 18,
      "outputs": []
    },
    {
      "cell_type": "code",
      "source": [
        "thresholds={0.001,0.01,0.1,0.2,0.3}"
      ],
      "metadata": {
        "id": "N-mw6tzEVDbL"
      },
      "execution_count": 19,
      "outputs": []
    },
    {
      "cell_type": "code",
      "source": [
        "d = pd.DataFrame(0, index=np.arange(len(thresholds)), columns=[\"Precision\",\"Recall\",\"F1-score\"])\n",
        "d.index=thresholds\n"
      ],
      "metadata": {
        "id": "yVKbngPjGD3u"
      },
      "execution_count": 20,
      "outputs": []
    },
    {
      "cell_type": "code",
      "source": [
        "for t in thresholds:\n",
        "  Predicted_logical=(Predicted>t).astype(int)\n",
        "  Target_logical=(Target>t).astype(int)\n",
        "  d.loc[t,\"Precision\"]=precision_score(Target_logical,Predicted_logical,average=\"micro\")\n",
        "  d.loc[t,\"Recall\"]=recall_score(Target_logical,Predicted_logical,average=\"micro\")\n",
        "  d.loc[t,\"F1-score\"]=f1_score(Target_logical,Predicted_logical,average=\"micro\")"
      ],
      "metadata": {
        "id": "YFoLhv-9Vn7R"
      },
      "execution_count": 21,
      "outputs": []
    },
    {
      "cell_type": "code",
      "source": [
        "d"
      ],
      "metadata": {
        "colab": {
          "base_uri": "https://localhost:8080/",
          "height": 204
        },
        "id": "m-ulaqVoGGm_",
        "outputId": "4f032512-a87c-42ba-9b0d-7061aba1bbb4"
      },
      "execution_count": 22,
      "outputs": [
        {
          "output_type": "execute_result",
          "data": {
            "text/plain": [
              "       Precision    Recall  F1-score\n",
              "0.100   0.896371  0.443801  0.593671\n",
              "0.300   0.717622  0.746961  0.731998\n",
              "0.200   0.835828  0.592900  0.693711\n",
              "0.010   0.999316  0.369747  0.539776\n",
              "0.001   1.000000  0.367375  0.537343"
            ],
            "text/html": [
              "\n",
              "  <div id=\"df-0b7ada8e-aafb-489f-b72a-10009a8df438\">\n",
              "    <div class=\"colab-df-container\">\n",
              "      <div>\n",
              "<style scoped>\n",
              "    .dataframe tbody tr th:only-of-type {\n",
              "        vertical-align: middle;\n",
              "    }\n",
              "\n",
              "    .dataframe tbody tr th {\n",
              "        vertical-align: top;\n",
              "    }\n",
              "\n",
              "    .dataframe thead th {\n",
              "        text-align: right;\n",
              "    }\n",
              "</style>\n",
              "<table border=\"1\" class=\"dataframe\">\n",
              "  <thead>\n",
              "    <tr style=\"text-align: right;\">\n",
              "      <th></th>\n",
              "      <th>Precision</th>\n",
              "      <th>Recall</th>\n",
              "      <th>F1-score</th>\n",
              "    </tr>\n",
              "  </thead>\n",
              "  <tbody>\n",
              "    <tr>\n",
              "      <th>0.100</th>\n",
              "      <td>0.896371</td>\n",
              "      <td>0.443801</td>\n",
              "      <td>0.593671</td>\n",
              "    </tr>\n",
              "    <tr>\n",
              "      <th>0.300</th>\n",
              "      <td>0.717622</td>\n",
              "      <td>0.746961</td>\n",
              "      <td>0.731998</td>\n",
              "    </tr>\n",
              "    <tr>\n",
              "      <th>0.200</th>\n",
              "      <td>0.835828</td>\n",
              "      <td>0.592900</td>\n",
              "      <td>0.693711</td>\n",
              "    </tr>\n",
              "    <tr>\n",
              "      <th>0.010</th>\n",
              "      <td>0.999316</td>\n",
              "      <td>0.369747</td>\n",
              "      <td>0.539776</td>\n",
              "    </tr>\n",
              "    <tr>\n",
              "      <th>0.001</th>\n",
              "      <td>1.000000</td>\n",
              "      <td>0.367375</td>\n",
              "      <td>0.537343</td>\n",
              "    </tr>\n",
              "  </tbody>\n",
              "</table>\n",
              "</div>\n",
              "      <button class=\"colab-df-convert\" onclick=\"convertToInteractive('df-0b7ada8e-aafb-489f-b72a-10009a8df438')\"\n",
              "              title=\"Convert this dataframe to an interactive table.\"\n",
              "              style=\"display:none;\">\n",
              "        \n",
              "  <svg xmlns=\"http://www.w3.org/2000/svg\" height=\"24px\"viewBox=\"0 0 24 24\"\n",
              "       width=\"24px\">\n",
              "    <path d=\"M0 0h24v24H0V0z\" fill=\"none\"/>\n",
              "    <path d=\"M18.56 5.44l.94 2.06.94-2.06 2.06-.94-2.06-.94-.94-2.06-.94 2.06-2.06.94zm-11 1L8.5 8.5l.94-2.06 2.06-.94-2.06-.94L8.5 2.5l-.94 2.06-2.06.94zm10 10l.94 2.06.94-2.06 2.06-.94-2.06-.94-.94-2.06-.94 2.06-2.06.94z\"/><path d=\"M17.41 7.96l-1.37-1.37c-.4-.4-.92-.59-1.43-.59-.52 0-1.04.2-1.43.59L10.3 9.45l-7.72 7.72c-.78.78-.78 2.05 0 2.83L4 21.41c.39.39.9.59 1.41.59.51 0 1.02-.2 1.41-.59l7.78-7.78 2.81-2.81c.8-.78.8-2.07 0-2.86zM5.41 20L4 18.59l7.72-7.72 1.47 1.35L5.41 20z\"/>\n",
              "  </svg>\n",
              "      </button>\n",
              "      \n",
              "  <style>\n",
              "    .colab-df-container {\n",
              "      display:flex;\n",
              "      flex-wrap:wrap;\n",
              "      gap: 12px;\n",
              "    }\n",
              "\n",
              "    .colab-df-convert {\n",
              "      background-color: #E8F0FE;\n",
              "      border: none;\n",
              "      border-radius: 50%;\n",
              "      cursor: pointer;\n",
              "      display: none;\n",
              "      fill: #1967D2;\n",
              "      height: 32px;\n",
              "      padding: 0 0 0 0;\n",
              "      width: 32px;\n",
              "    }\n",
              "\n",
              "    .colab-df-convert:hover {\n",
              "      background-color: #E2EBFA;\n",
              "      box-shadow: 0px 1px 2px rgba(60, 64, 67, 0.3), 0px 1px 3px 1px rgba(60, 64, 67, 0.15);\n",
              "      fill: #174EA6;\n",
              "    }\n",
              "\n",
              "    [theme=dark] .colab-df-convert {\n",
              "      background-color: #3B4455;\n",
              "      fill: #D2E3FC;\n",
              "    }\n",
              "\n",
              "    [theme=dark] .colab-df-convert:hover {\n",
              "      background-color: #434B5C;\n",
              "      box-shadow: 0px 1px 3px 1px rgba(0, 0, 0, 0.15);\n",
              "      filter: drop-shadow(0px 1px 2px rgba(0, 0, 0, 0.3));\n",
              "      fill: #FFFFFF;\n",
              "    }\n",
              "  </style>\n",
              "\n",
              "      <script>\n",
              "        const buttonEl =\n",
              "          document.querySelector('#df-0b7ada8e-aafb-489f-b72a-10009a8df438 button.colab-df-convert');\n",
              "        buttonEl.style.display =\n",
              "          google.colab.kernel.accessAllowed ? 'block' : 'none';\n",
              "\n",
              "        async function convertToInteractive(key) {\n",
              "          const element = document.querySelector('#df-0b7ada8e-aafb-489f-b72a-10009a8df438');\n",
              "          const dataTable =\n",
              "            await google.colab.kernel.invokeFunction('convertToInteractive',\n",
              "                                                     [key], {});\n",
              "          if (!dataTable) return;\n",
              "\n",
              "          const docLinkHtml = 'Like what you see? Visit the ' +\n",
              "            '<a target=\"_blank\" href=https://colab.research.google.com/notebooks/data_table.ipynb>data table notebook</a>'\n",
              "            + ' to learn more about interactive tables.';\n",
              "          element.innerHTML = '';\n",
              "          dataTable['output_type'] = 'display_data';\n",
              "          await google.colab.output.renderOutput(dataTable, element);\n",
              "          const docLink = document.createElement('div');\n",
              "          docLink.innerHTML = docLinkHtml;\n",
              "          element.appendChild(docLink);\n",
              "        }\n",
              "      </script>\n",
              "    </div>\n",
              "  </div>\n",
              "  "
            ]
          },
          "metadata": {},
          "execution_count": 22
        }
      ]
    }
  ]
}