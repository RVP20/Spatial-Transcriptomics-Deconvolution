{
  "nbformat": 4,
  "nbformat_minor": 0,
  "metadata": {
    "colab": {
      "name": "Evaluation.ipynb",
      "provenance": [],
      "collapsed_sections": []
    },
    "kernelspec": {
      "name": "python3",
      "display_name": "Python 3"
    },
    "language_info": {
      "name": "python"
    }
  },
  "cells": [
    {
      "cell_type": "code",
      "execution_count": 1,
      "metadata": {
        "id": "wBbnopyKCaMC"
      },
      "outputs": [],
      "source": [
        "import numpy as np\n",
        "import pandas as pd"
      ]
    },
    {
      "cell_type": "code",
      "source": [
        "!pip install scipy==1.7.0\n",
        "import scipy"
      ],
      "metadata": {
        "colab": {
          "base_uri": "https://localhost:8080/"
        },
        "id": "M1yk9v6qFL54",
        "outputId": "8fd55262-54e2-41fa-8d56-432a0abb8e36"
      },
      "execution_count": 2,
      "outputs": [
        {
          "output_type": "stream",
          "name": "stdout",
          "text": [
            "Looking in indexes: https://pypi.org/simple, https://us-python.pkg.dev/colab-wheels/public/simple/\n",
            "Collecting scipy==1.7.0\n",
            "  Downloading scipy-1.7.0-cp37-cp37m-manylinux_2_5_x86_64.manylinux1_x86_64.whl (28.5 MB)\n",
            "\u001b[K     |████████████████████████████████| 28.5 MB 1.6 MB/s \n",
            "\u001b[?25hRequirement already satisfied: numpy<1.23.0,>=1.16.5 in /usr/local/lib/python3.7/dist-packages (from scipy==1.7.0) (1.21.6)\n",
            "Installing collected packages: scipy\n",
            "  Attempting uninstall: scipy\n",
            "    Found existing installation: scipy 1.4.1\n",
            "    Uninstalling scipy-1.4.1:\n",
            "      Successfully uninstalled scipy-1.4.1\n",
            "\u001b[31mERROR: pip's dependency resolver does not currently take into account all the packages that are installed. This behaviour is the source of the following dependency conflicts.\n",
            "albumentations 0.1.12 requires imgaug<0.2.7,>=0.2.5, but you have imgaug 0.2.9 which is incompatible.\u001b[0m\n",
            "Successfully installed scipy-1.7.0\n"
          ]
        }
      ]
    },
    {
      "cell_type": "code",
      "source": [
        "from google.colab import drive\n",
        "drive.mount('/content/gdrive')"
      ],
      "metadata": {
        "colab": {
          "base_uri": "https://localhost:8080/"
        },
        "id": "7UGcGEjUDfE-",
        "outputId": "2dd56551-0a27-45f4-f799-00f42464c757"
      },
      "execution_count": 3,
      "outputs": [
        {
          "output_type": "stream",
          "name": "stdout",
          "text": [
            "Mounted at /content/gdrive\n"
          ]
        }
      ]
    },
    {
      "cell_type": "code",
      "source": [
        "Predicted = pd.read_csv(\"./gdrive/MyDrive/ST_Project/Outputs/Seurat/output_exp0.csv\")\n",
        "Target=pd.read_csv(\"./gdrive/MyDrive/ST_Project/Targets/exp0.csv\")\n"
      ],
      "metadata": {
        "id": "hyic1SVBDpPj"
      },
      "execution_count": 59,
      "outputs": []
    },
    {
      "cell_type": "code",
      "source": [
        "Predicted.shape\n"
      ],
      "metadata": {
        "colab": {
          "base_uri": "https://localhost:8080/"
        },
        "id": "TXIchyKujwGm",
        "outputId": "5f11ce36-21d0-42e6-8c79-4f942e571491"
      },
      "execution_count": 62,
      "outputs": [
        {
          "output_type": "execute_result",
          "data": {
            "text/plain": [
              "(2500, 49)"
            ]
          },
          "metadata": {},
          "execution_count": 62
        }
      ]
    },
    {
      "cell_type": "code",
      "source": [
        "#Predicted=Predicted.drop(columns=\"Unnamed: 49\")\n",
        "Target=Target.drop(columns=\"Unnamed: 0\")\n",
        "Predicted=Predicted.to_numpy().astype(np.float64)\n",
        "Target=Target.to_numpy().astype(np.float64)"
      ],
      "metadata": {
        "id": "12EMxTGel8fm"
      },
      "execution_count": 61,
      "outputs": []
    },
    {
      "cell_type": "markdown",
      "source": [
        "# Pearson Correlation\n",
        "All at once:"
      ],
      "metadata": {
        "id": "VqyzX0kdEVux"
      }
    },
    {
      "cell_type": "code",
      "source": [
        "prs=(np.corrcoef(Predicted,Target,rowvar=False))\n",
        "prs=pd.DataFrame(prs)"
      ],
      "metadata": {
        "id": "eG5n1ZhmEQOh",
        "colab": {
          "base_uri": "https://localhost:8080/"
        },
        "outputId": "04a85bb9-2892-4deb-e35d-f42014346c83"
      },
      "execution_count": 63,
      "outputs": [
        {
          "output_type": "stream",
          "name": "stderr",
          "text": [
            "/usr/local/lib/python3.7/dist-packages/numpy/lib/function_base.py:2691: RuntimeWarning: invalid value encountered in true_divide\n",
            "  c /= stddev[:, None]\n",
            "/usr/local/lib/python3.7/dist-packages/numpy/lib/function_base.py:2692: RuntimeWarning: invalid value encountered in true_divide\n",
            "  c /= stddev[None, :]\n"
          ]
        }
      ]
    },
    {
      "cell_type": "code",
      "source": [
        "prs"
      ],
      "metadata": {
        "colab": {
          "base_uri": "https://localhost:8080/",
          "height": 483
        },
        "id": "Vowc6sIhEiYq",
        "outputId": "2397324e-1bb8-45ef-ff7a-0fa17189b6c8"
      },
      "execution_count": 64,
      "outputs": [
        {
          "output_type": "execute_result",
          "data": {
            "text/plain": [
              "          0         1         2         3         4         5         6   \\\n",
              "0   1.000000  0.716861  0.925291  0.808508  0.270686  0.212960  0.261933   \n",
              "1   0.716861  1.000000  0.605055  0.722529  0.466174  0.238373  0.371827   \n",
              "2   0.925291  0.605055  1.000000  0.770576  0.281226  0.231482  0.278087   \n",
              "3   0.808508  0.722529  0.770576  1.000000  0.249553  0.156215  0.207663   \n",
              "4   0.270686  0.466174  0.281226  0.249553  1.000000  0.666556  0.916646   \n",
              "..       ...       ...       ...       ...       ...       ...       ...   \n",
              "93 -0.068211 -0.101118 -0.059494 -0.092564 -0.111579 -0.086878 -0.093902   \n",
              "94 -0.006225 -0.015006 -0.017669  0.156617 -0.072218 -0.056653 -0.063753   \n",
              "95 -0.051774 -0.052289 -0.047477 -0.065923 -0.056123 -0.053022 -0.053256   \n",
              "96 -0.073452 -0.110953 -0.062086 -0.100542 -0.110351 -0.085245 -0.093066   \n",
              "97 -0.083107 -0.120888 -0.072770 -0.095905 -0.132528 -0.103748 -0.111469   \n",
              "\n",
              "          7         8         9   ...        88        89        90        91  \\\n",
              "0   0.150231 -0.082041 -0.117107  ... -0.068466 -0.063552 -0.063616 -0.039802   \n",
              "1   0.248229 -0.123131 -0.162975  ... -0.102701 -0.082334 -0.082230 -0.066887   \n",
              "2   0.070800 -0.069672 -0.100920  ... -0.060094 -0.054781 -0.055155 -0.043449   \n",
              "3   0.445908 -0.095647 -0.136439  ... -0.096546 -0.093350 -0.092042 -0.033031   \n",
              "4   0.087232 -0.125228 -0.143863  ... -0.109832  0.059208  0.093459 -0.099327   \n",
              "..       ...       ...       ...  ...       ...       ...       ...       ...   \n",
              "93 -0.091542 -0.065477  0.009970  ...  0.888350 -0.134585 -0.133505 -0.082424   \n",
              "94  0.441624 -0.043043 -0.079582  ... -0.064518 -0.092540 -0.084292 -0.064319   \n",
              "95 -0.064924 -0.059108 -0.114877  ... -0.059281 -0.078636 -0.080421 -0.050324   \n",
              "96 -0.092664  0.421254  0.476828  ... -0.104337 -0.069278 -0.075692 -0.094840   \n",
              "97 -0.064604 -0.117394 -0.179318  ... -0.136855 -0.134349 -0.133811 -0.116551   \n",
              "\n",
              "          92        93        94        95        96        97  \n",
              "0   0.038244 -0.068211 -0.006225 -0.051774 -0.073452 -0.083107  \n",
              "1   0.047275 -0.101118 -0.015006 -0.052289 -0.110953 -0.120888  \n",
              "2   0.032346 -0.059494 -0.017669 -0.047477 -0.062086 -0.072770  \n",
              "3   0.077105 -0.092564  0.156617 -0.065923 -0.100542 -0.095905  \n",
              "4  -0.093669 -0.111579 -0.072218 -0.056123 -0.110351 -0.132528  \n",
              "..       ...       ...       ...       ...       ...       ...  \n",
              "93 -0.118288  1.000000 -0.071849 -0.057457 -0.100719 -0.133037  \n",
              "94  0.162991 -0.071849  1.000000 -0.069842 -0.062149 -0.015088  \n",
              "95  0.030119 -0.057457 -0.069842  1.000000 -0.067739 -0.087493  \n",
              "96 -0.142601 -0.100719 -0.062149 -0.067739  1.000000 -0.117986  \n",
              "97 -0.109159 -0.133037 -0.015088 -0.087493 -0.117986  1.000000  \n",
              "\n",
              "[98 rows x 98 columns]"
            ],
            "text/html": [
              "\n",
              "  <div id=\"df-95126ad5-fc5d-441c-b979-0f40e637aadc\">\n",
              "    <div class=\"colab-df-container\">\n",
              "      <div>\n",
              "<style scoped>\n",
              "    .dataframe tbody tr th:only-of-type {\n",
              "        vertical-align: middle;\n",
              "    }\n",
              "\n",
              "    .dataframe tbody tr th {\n",
              "        vertical-align: top;\n",
              "    }\n",
              "\n",
              "    .dataframe thead th {\n",
              "        text-align: right;\n",
              "    }\n",
              "</style>\n",
              "<table border=\"1\" class=\"dataframe\">\n",
              "  <thead>\n",
              "    <tr style=\"text-align: right;\">\n",
              "      <th></th>\n",
              "      <th>0</th>\n",
              "      <th>1</th>\n",
              "      <th>2</th>\n",
              "      <th>3</th>\n",
              "      <th>4</th>\n",
              "      <th>5</th>\n",
              "      <th>6</th>\n",
              "      <th>7</th>\n",
              "      <th>8</th>\n",
              "      <th>9</th>\n",
              "      <th>...</th>\n",
              "      <th>88</th>\n",
              "      <th>89</th>\n",
              "      <th>90</th>\n",
              "      <th>91</th>\n",
              "      <th>92</th>\n",
              "      <th>93</th>\n",
              "      <th>94</th>\n",
              "      <th>95</th>\n",
              "      <th>96</th>\n",
              "      <th>97</th>\n",
              "    </tr>\n",
              "  </thead>\n",
              "  <tbody>\n",
              "    <tr>\n",
              "      <th>0</th>\n",
              "      <td>1.000000</td>\n",
              "      <td>0.716861</td>\n",
              "      <td>0.925291</td>\n",
              "      <td>0.808508</td>\n",
              "      <td>0.270686</td>\n",
              "      <td>0.212960</td>\n",
              "      <td>0.261933</td>\n",
              "      <td>0.150231</td>\n",
              "      <td>-0.082041</td>\n",
              "      <td>-0.117107</td>\n",
              "      <td>...</td>\n",
              "      <td>-0.068466</td>\n",
              "      <td>-0.063552</td>\n",
              "      <td>-0.063616</td>\n",
              "      <td>-0.039802</td>\n",
              "      <td>0.038244</td>\n",
              "      <td>-0.068211</td>\n",
              "      <td>-0.006225</td>\n",
              "      <td>-0.051774</td>\n",
              "      <td>-0.073452</td>\n",
              "      <td>-0.083107</td>\n",
              "    </tr>\n",
              "    <tr>\n",
              "      <th>1</th>\n",
              "      <td>0.716861</td>\n",
              "      <td>1.000000</td>\n",
              "      <td>0.605055</td>\n",
              "      <td>0.722529</td>\n",
              "      <td>0.466174</td>\n",
              "      <td>0.238373</td>\n",
              "      <td>0.371827</td>\n",
              "      <td>0.248229</td>\n",
              "      <td>-0.123131</td>\n",
              "      <td>-0.162975</td>\n",
              "      <td>...</td>\n",
              "      <td>-0.102701</td>\n",
              "      <td>-0.082334</td>\n",
              "      <td>-0.082230</td>\n",
              "      <td>-0.066887</td>\n",
              "      <td>0.047275</td>\n",
              "      <td>-0.101118</td>\n",
              "      <td>-0.015006</td>\n",
              "      <td>-0.052289</td>\n",
              "      <td>-0.110953</td>\n",
              "      <td>-0.120888</td>\n",
              "    </tr>\n",
              "    <tr>\n",
              "      <th>2</th>\n",
              "      <td>0.925291</td>\n",
              "      <td>0.605055</td>\n",
              "      <td>1.000000</td>\n",
              "      <td>0.770576</td>\n",
              "      <td>0.281226</td>\n",
              "      <td>0.231482</td>\n",
              "      <td>0.278087</td>\n",
              "      <td>0.070800</td>\n",
              "      <td>-0.069672</td>\n",
              "      <td>-0.100920</td>\n",
              "      <td>...</td>\n",
              "      <td>-0.060094</td>\n",
              "      <td>-0.054781</td>\n",
              "      <td>-0.055155</td>\n",
              "      <td>-0.043449</td>\n",
              "      <td>0.032346</td>\n",
              "      <td>-0.059494</td>\n",
              "      <td>-0.017669</td>\n",
              "      <td>-0.047477</td>\n",
              "      <td>-0.062086</td>\n",
              "      <td>-0.072770</td>\n",
              "    </tr>\n",
              "    <tr>\n",
              "      <th>3</th>\n",
              "      <td>0.808508</td>\n",
              "      <td>0.722529</td>\n",
              "      <td>0.770576</td>\n",
              "      <td>1.000000</td>\n",
              "      <td>0.249553</td>\n",
              "      <td>0.156215</td>\n",
              "      <td>0.207663</td>\n",
              "      <td>0.445908</td>\n",
              "      <td>-0.095647</td>\n",
              "      <td>-0.136439</td>\n",
              "      <td>...</td>\n",
              "      <td>-0.096546</td>\n",
              "      <td>-0.093350</td>\n",
              "      <td>-0.092042</td>\n",
              "      <td>-0.033031</td>\n",
              "      <td>0.077105</td>\n",
              "      <td>-0.092564</td>\n",
              "      <td>0.156617</td>\n",
              "      <td>-0.065923</td>\n",
              "      <td>-0.100542</td>\n",
              "      <td>-0.095905</td>\n",
              "    </tr>\n",
              "    <tr>\n",
              "      <th>4</th>\n",
              "      <td>0.270686</td>\n",
              "      <td>0.466174</td>\n",
              "      <td>0.281226</td>\n",
              "      <td>0.249553</td>\n",
              "      <td>1.000000</td>\n",
              "      <td>0.666556</td>\n",
              "      <td>0.916646</td>\n",
              "      <td>0.087232</td>\n",
              "      <td>-0.125228</td>\n",
              "      <td>-0.143863</td>\n",
              "      <td>...</td>\n",
              "      <td>-0.109832</td>\n",
              "      <td>0.059208</td>\n",
              "      <td>0.093459</td>\n",
              "      <td>-0.099327</td>\n",
              "      <td>-0.093669</td>\n",
              "      <td>-0.111579</td>\n",
              "      <td>-0.072218</td>\n",
              "      <td>-0.056123</td>\n",
              "      <td>-0.110351</td>\n",
              "      <td>-0.132528</td>\n",
              "    </tr>\n",
              "    <tr>\n",
              "      <th>...</th>\n",
              "      <td>...</td>\n",
              "      <td>...</td>\n",
              "      <td>...</td>\n",
              "      <td>...</td>\n",
              "      <td>...</td>\n",
              "      <td>...</td>\n",
              "      <td>...</td>\n",
              "      <td>...</td>\n",
              "      <td>...</td>\n",
              "      <td>...</td>\n",
              "      <td>...</td>\n",
              "      <td>...</td>\n",
              "      <td>...</td>\n",
              "      <td>...</td>\n",
              "      <td>...</td>\n",
              "      <td>...</td>\n",
              "      <td>...</td>\n",
              "      <td>...</td>\n",
              "      <td>...</td>\n",
              "      <td>...</td>\n",
              "      <td>...</td>\n",
              "    </tr>\n",
              "    <tr>\n",
              "      <th>93</th>\n",
              "      <td>-0.068211</td>\n",
              "      <td>-0.101118</td>\n",
              "      <td>-0.059494</td>\n",
              "      <td>-0.092564</td>\n",
              "      <td>-0.111579</td>\n",
              "      <td>-0.086878</td>\n",
              "      <td>-0.093902</td>\n",
              "      <td>-0.091542</td>\n",
              "      <td>-0.065477</td>\n",
              "      <td>0.009970</td>\n",
              "      <td>...</td>\n",
              "      <td>0.888350</td>\n",
              "      <td>-0.134585</td>\n",
              "      <td>-0.133505</td>\n",
              "      <td>-0.082424</td>\n",
              "      <td>-0.118288</td>\n",
              "      <td>1.000000</td>\n",
              "      <td>-0.071849</td>\n",
              "      <td>-0.057457</td>\n",
              "      <td>-0.100719</td>\n",
              "      <td>-0.133037</td>\n",
              "    </tr>\n",
              "    <tr>\n",
              "      <th>94</th>\n",
              "      <td>-0.006225</td>\n",
              "      <td>-0.015006</td>\n",
              "      <td>-0.017669</td>\n",
              "      <td>0.156617</td>\n",
              "      <td>-0.072218</td>\n",
              "      <td>-0.056653</td>\n",
              "      <td>-0.063753</td>\n",
              "      <td>0.441624</td>\n",
              "      <td>-0.043043</td>\n",
              "      <td>-0.079582</td>\n",
              "      <td>...</td>\n",
              "      <td>-0.064518</td>\n",
              "      <td>-0.092540</td>\n",
              "      <td>-0.084292</td>\n",
              "      <td>-0.064319</td>\n",
              "      <td>0.162991</td>\n",
              "      <td>-0.071849</td>\n",
              "      <td>1.000000</td>\n",
              "      <td>-0.069842</td>\n",
              "      <td>-0.062149</td>\n",
              "      <td>-0.015088</td>\n",
              "    </tr>\n",
              "    <tr>\n",
              "      <th>95</th>\n",
              "      <td>-0.051774</td>\n",
              "      <td>-0.052289</td>\n",
              "      <td>-0.047477</td>\n",
              "      <td>-0.065923</td>\n",
              "      <td>-0.056123</td>\n",
              "      <td>-0.053022</td>\n",
              "      <td>-0.053256</td>\n",
              "      <td>-0.064924</td>\n",
              "      <td>-0.059108</td>\n",
              "      <td>-0.114877</td>\n",
              "      <td>...</td>\n",
              "      <td>-0.059281</td>\n",
              "      <td>-0.078636</td>\n",
              "      <td>-0.080421</td>\n",
              "      <td>-0.050324</td>\n",
              "      <td>0.030119</td>\n",
              "      <td>-0.057457</td>\n",
              "      <td>-0.069842</td>\n",
              "      <td>1.000000</td>\n",
              "      <td>-0.067739</td>\n",
              "      <td>-0.087493</td>\n",
              "    </tr>\n",
              "    <tr>\n",
              "      <th>96</th>\n",
              "      <td>-0.073452</td>\n",
              "      <td>-0.110953</td>\n",
              "      <td>-0.062086</td>\n",
              "      <td>-0.100542</td>\n",
              "      <td>-0.110351</td>\n",
              "      <td>-0.085245</td>\n",
              "      <td>-0.093066</td>\n",
              "      <td>-0.092664</td>\n",
              "      <td>0.421254</td>\n",
              "      <td>0.476828</td>\n",
              "      <td>...</td>\n",
              "      <td>-0.104337</td>\n",
              "      <td>-0.069278</td>\n",
              "      <td>-0.075692</td>\n",
              "      <td>-0.094840</td>\n",
              "      <td>-0.142601</td>\n",
              "      <td>-0.100719</td>\n",
              "      <td>-0.062149</td>\n",
              "      <td>-0.067739</td>\n",
              "      <td>1.000000</td>\n",
              "      <td>-0.117986</td>\n",
              "    </tr>\n",
              "    <tr>\n",
              "      <th>97</th>\n",
              "      <td>-0.083107</td>\n",
              "      <td>-0.120888</td>\n",
              "      <td>-0.072770</td>\n",
              "      <td>-0.095905</td>\n",
              "      <td>-0.132528</td>\n",
              "      <td>-0.103748</td>\n",
              "      <td>-0.111469</td>\n",
              "      <td>-0.064604</td>\n",
              "      <td>-0.117394</td>\n",
              "      <td>-0.179318</td>\n",
              "      <td>...</td>\n",
              "      <td>-0.136855</td>\n",
              "      <td>-0.134349</td>\n",
              "      <td>-0.133811</td>\n",
              "      <td>-0.116551</td>\n",
              "      <td>-0.109159</td>\n",
              "      <td>-0.133037</td>\n",
              "      <td>-0.015088</td>\n",
              "      <td>-0.087493</td>\n",
              "      <td>-0.117986</td>\n",
              "      <td>1.000000</td>\n",
              "    </tr>\n",
              "  </tbody>\n",
              "</table>\n",
              "<p>98 rows × 98 columns</p>\n",
              "</div>\n",
              "      <button class=\"colab-df-convert\" onclick=\"convertToInteractive('df-95126ad5-fc5d-441c-b979-0f40e637aadc')\"\n",
              "              title=\"Convert this dataframe to an interactive table.\"\n",
              "              style=\"display:none;\">\n",
              "        \n",
              "  <svg xmlns=\"http://www.w3.org/2000/svg\" height=\"24px\"viewBox=\"0 0 24 24\"\n",
              "       width=\"24px\">\n",
              "    <path d=\"M0 0h24v24H0V0z\" fill=\"none\"/>\n",
              "    <path d=\"M18.56 5.44l.94 2.06.94-2.06 2.06-.94-2.06-.94-.94-2.06-.94 2.06-2.06.94zm-11 1L8.5 8.5l.94-2.06 2.06-.94-2.06-.94L8.5 2.5l-.94 2.06-2.06.94zm10 10l.94 2.06.94-2.06 2.06-.94-2.06-.94-.94-2.06-.94 2.06-2.06.94z\"/><path d=\"M17.41 7.96l-1.37-1.37c-.4-.4-.92-.59-1.43-.59-.52 0-1.04.2-1.43.59L10.3 9.45l-7.72 7.72c-.78.78-.78 2.05 0 2.83L4 21.41c.39.39.9.59 1.41.59.51 0 1.02-.2 1.41-.59l7.78-7.78 2.81-2.81c.8-.78.8-2.07 0-2.86zM5.41 20L4 18.59l7.72-7.72 1.47 1.35L5.41 20z\"/>\n",
              "  </svg>\n",
              "      </button>\n",
              "      \n",
              "  <style>\n",
              "    .colab-df-container {\n",
              "      display:flex;\n",
              "      flex-wrap:wrap;\n",
              "      gap: 12px;\n",
              "    }\n",
              "\n",
              "    .colab-df-convert {\n",
              "      background-color: #E8F0FE;\n",
              "      border: none;\n",
              "      border-radius: 50%;\n",
              "      cursor: pointer;\n",
              "      display: none;\n",
              "      fill: #1967D2;\n",
              "      height: 32px;\n",
              "      padding: 0 0 0 0;\n",
              "      width: 32px;\n",
              "    }\n",
              "\n",
              "    .colab-df-convert:hover {\n",
              "      background-color: #E2EBFA;\n",
              "      box-shadow: 0px 1px 2px rgba(60, 64, 67, 0.3), 0px 1px 3px 1px rgba(60, 64, 67, 0.15);\n",
              "      fill: #174EA6;\n",
              "    }\n",
              "\n",
              "    [theme=dark] .colab-df-convert {\n",
              "      background-color: #3B4455;\n",
              "      fill: #D2E3FC;\n",
              "    }\n",
              "\n",
              "    [theme=dark] .colab-df-convert:hover {\n",
              "      background-color: #434B5C;\n",
              "      box-shadow: 0px 1px 3px 1px rgba(0, 0, 0, 0.15);\n",
              "      filter: drop-shadow(0px 1px 2px rgba(0, 0, 0, 0.3));\n",
              "      fill: #FFFFFF;\n",
              "    }\n",
              "  </style>\n",
              "\n",
              "      <script>\n",
              "        const buttonEl =\n",
              "          document.querySelector('#df-95126ad5-fc5d-441c-b979-0f40e637aadc button.colab-df-convert');\n",
              "        buttonEl.style.display =\n",
              "          google.colab.kernel.accessAllowed ? 'block' : 'none';\n",
              "\n",
              "        async function convertToInteractive(key) {\n",
              "          const element = document.querySelector('#df-95126ad5-fc5d-441c-b979-0f40e637aadc');\n",
              "          const dataTable =\n",
              "            await google.colab.kernel.invokeFunction('convertToInteractive',\n",
              "                                                     [key], {});\n",
              "          if (!dataTable) return;\n",
              "\n",
              "          const docLinkHtml = 'Like what you see? Visit the ' +\n",
              "            '<a target=\"_blank\" href=https://colab.research.google.com/notebooks/data_table.ipynb>data table notebook</a>'\n",
              "            + ' to learn more about interactive tables.';\n",
              "          element.innerHTML = '';\n",
              "          dataTable['output_type'] = 'display_data';\n",
              "          await google.colab.output.renderOutput(dataTable, element);\n",
              "          const docLink = document.createElement('div');\n",
              "          docLink.innerHTML = docLinkHtml;\n",
              "          element.appendChild(docLink);\n",
              "        }\n",
              "      </script>\n",
              "    </div>\n",
              "  </div>\n",
              "  "
            ]
          },
          "metadata": {},
          "execution_count": 64
        }
      ]
    },
    {
      "cell_type": "markdown",
      "source": [
        "One at a time:"
      ],
      "metadata": {
        "id": "AmbDRhjQcClO"
      }
    },
    {
      "cell_type": "code",
      "source": [
        "num_celltypes=49\n",
        "d = np.zeros(num_celltypes)"
      ],
      "metadata": {
        "id": "HRS5U1I9X1AE"
      },
      "execution_count": 65,
      "outputs": []
    },
    {
      "cell_type": "code",
      "source": [
        "for i in range(0,num_celltypes):\n",
        "  p=Predicted[:,i]\n",
        "  t=Target[:,i]\n",
        "  prs=(np.corrcoef(p,t,rowvar=False))\n",
        "  d[i]=prs[0,1]\n",
        "  \n"
      ],
      "metadata": {
        "id": "2RLR3oL-ZHHM",
        "colab": {
          "base_uri": "https://localhost:8080/"
        },
        "outputId": "fdc3d19e-d6ad-43bb-f581-eb35badebcf0"
      },
      "execution_count": 66,
      "outputs": [
        {
          "output_type": "stream",
          "name": "stderr",
          "text": [
            "/usr/local/lib/python3.7/dist-packages/numpy/lib/function_base.py:2691: RuntimeWarning: invalid value encountered in true_divide\n",
            "  c /= stddev[:, None]\n",
            "/usr/local/lib/python3.7/dist-packages/numpy/lib/function_base.py:2692: RuntimeWarning: invalid value encountered in true_divide\n",
            "  c /= stddev[None, :]\n"
          ]
        }
      ]
    },
    {
      "cell_type": "code",
      "source": [
        "d"
      ],
      "metadata": {
        "colab": {
          "base_uri": "https://localhost:8080/"
        },
        "id": "9XhA3TQDZwfX",
        "outputId": "a52081aa-699b-4ce2-c64a-4a07390aacd7"
      },
      "execution_count": 67,
      "outputs": [
        {
          "output_type": "execute_result",
          "data": {
            "text/plain": [
              "array([ 0.05663128,  0.50737597,  0.5586814 ,  0.03329353, -0.01208262,\n",
              "        0.55975627,  0.37602031,  0.13307904,  0.29551407,  0.53060168,\n",
              "        0.55917928,  0.87501269,         nan,         nan, -0.04848634,\n",
              "       -0.04601143,  0.1099322 ,  0.02583581,  0.77755138,  0.69231273,\n",
              "        0.50338164,  0.15709334,  0.65085999,  0.20283506,  0.82761343,\n",
              "        0.44153093,  0.26166719,  0.03011865, -0.01121779,  0.0941047 ,\n",
              "               nan,  0.57940743, -0.03440178, -0.0034311 ,  0.237549  ,\n",
              "        0.65518173,  0.78227252,  0.83622825,  0.25741045,  0.78063089,\n",
              "               nan,         nan,  0.25293231,  0.49087263,  0.37002468,\n",
              "               nan, -0.02310618,  0.61522933, -0.08145013])"
            ]
          },
          "metadata": {},
          "execution_count": 67
        }
      ]
    },
    {
      "cell_type": "markdown",
      "source": [
        "# Jensen Shannon"
      ],
      "metadata": {
        "id": "Anzo7lbXEkTO"
      }
    },
    {
      "cell_type": "code",
      "source": [
        "from scipy.spatial import distance"
      ],
      "metadata": {
        "id": "zbP_nKcqEpxY"
      },
      "execution_count": 68,
      "outputs": []
    },
    {
      "cell_type": "code",
      "source": [
        "jns=distance.jensenshannon(Predicted,Target,axis=1)"
      ],
      "metadata": {
        "id": "4kT1wn_VEvHq"
      },
      "execution_count": 69,
      "outputs": []
    },
    {
      "cell_type": "code",
      "source": [
        "jns=jns[~np.isinf(jns).squeeze()]\n",
        "np.mean(jns)"
      ],
      "metadata": {
        "colab": {
          "base_uri": "https://localhost:8080/"
        },
        "id": "ACrv8nZe-IzF",
        "outputId": "34587aad-ce27-4b51-8af6-8a9ca1d4480b"
      },
      "execution_count": 70,
      "outputs": [
        {
          "output_type": "execute_result",
          "data": {
            "text/plain": [
              "0.6239818275385125"
            ]
          },
          "metadata": {},
          "execution_count": 70
        }
      ]
    },
    {
      "cell_type": "code",
      "source": [
        "jns.to_csv(\"jns.csv\")"
      ],
      "metadata": {
        "id": "_N0wPjjuJzrQ"
      },
      "execution_count": null,
      "outputs": []
    },
    {
      "cell_type": "markdown",
      "source": [
        "# F1, Precision, Recall"
      ],
      "metadata": {
        "id": "fd1fxqGgF7aa"
      }
    },
    {
      "cell_type": "code",
      "source": [
        "from sklearn.metrics import f1_score\n",
        "from sklearn.metrics import precision_score\n",
        "from sklearn.metrics import recall_score"
      ],
      "metadata": {
        "id": "S_kfDLWIF_pE"
      },
      "execution_count": 71,
      "outputs": []
    },
    {
      "cell_type": "code",
      "source": [
        "thresholds={0.001,0.01,0.1,0.2,0.3}"
      ],
      "metadata": {
        "id": "N-mw6tzEVDbL"
      },
      "execution_count": 72,
      "outputs": []
    },
    {
      "cell_type": "code",
      "source": [
        "d = pd.DataFrame(0, index=np.arange(len(thresholds)), columns=[\"Precision\",\"Recall\",\"F1-score\"])\n",
        "d.index=thresholds\n"
      ],
      "metadata": {
        "id": "yVKbngPjGD3u"
      },
      "execution_count": 73,
      "outputs": []
    },
    {
      "cell_type": "code",
      "source": [
        "for t in thresholds:\n",
        "  Predicted_logical=(Predicted>t).astype(int)\n",
        "  Target_logical=(Target>t).astype(int)\n",
        "  d.loc[t,\"Precision\"]=precision_score(Target_logical,Predicted_logical,average=\"micro\")\n",
        "  d.loc[t,\"Recall\"]=recall_score(Target_logical,Predicted_logical,average=\"micro\")\n",
        "  d.loc[t,\"F1-score\"]=f1_score(Target_logical,Predicted_logical,average=\"micro\")"
      ],
      "metadata": {
        "id": "YFoLhv-9Vn7R"
      },
      "execution_count": 74,
      "outputs": []
    },
    {
      "cell_type": "code",
      "source": [
        "d"
      ],
      "metadata": {
        "colab": {
          "base_uri": "https://localhost:8080/",
          "height": 204
        },
        "id": "m-ulaqVoGGm_",
        "outputId": "de82463f-f89f-48c7-837e-415de044168c"
      },
      "execution_count": 75,
      "outputs": [
        {
          "output_type": "execute_result",
          "data": {
            "text/plain": [
              "       Precision    Recall  F1-score\n",
              "0.100   0.368053  0.302984  0.332364\n",
              "0.300   0.188324  0.586510  0.285103\n",
              "0.200   0.283284  0.441060  0.344988\n",
              "0.010   0.481981  0.251024  0.330117\n",
              "0.001   0.475681  0.297966  0.366412"
            ],
            "text/html": [
              "\n",
              "  <div id=\"df-079f1cac-f1ef-432c-8afc-c5b94ac74d67\">\n",
              "    <div class=\"colab-df-container\">\n",
              "      <div>\n",
              "<style scoped>\n",
              "    .dataframe tbody tr th:only-of-type {\n",
              "        vertical-align: middle;\n",
              "    }\n",
              "\n",
              "    .dataframe tbody tr th {\n",
              "        vertical-align: top;\n",
              "    }\n",
              "\n",
              "    .dataframe thead th {\n",
              "        text-align: right;\n",
              "    }\n",
              "</style>\n",
              "<table border=\"1\" class=\"dataframe\">\n",
              "  <thead>\n",
              "    <tr style=\"text-align: right;\">\n",
              "      <th></th>\n",
              "      <th>Precision</th>\n",
              "      <th>Recall</th>\n",
              "      <th>F1-score</th>\n",
              "    </tr>\n",
              "  </thead>\n",
              "  <tbody>\n",
              "    <tr>\n",
              "      <th>0.100</th>\n",
              "      <td>0.368053</td>\n",
              "      <td>0.302984</td>\n",
              "      <td>0.332364</td>\n",
              "    </tr>\n",
              "    <tr>\n",
              "      <th>0.300</th>\n",
              "      <td>0.188324</td>\n",
              "      <td>0.586510</td>\n",
              "      <td>0.285103</td>\n",
              "    </tr>\n",
              "    <tr>\n",
              "      <th>0.200</th>\n",
              "      <td>0.283284</td>\n",
              "      <td>0.441060</td>\n",
              "      <td>0.344988</td>\n",
              "    </tr>\n",
              "    <tr>\n",
              "      <th>0.010</th>\n",
              "      <td>0.481981</td>\n",
              "      <td>0.251024</td>\n",
              "      <td>0.330117</td>\n",
              "    </tr>\n",
              "    <tr>\n",
              "      <th>0.001</th>\n",
              "      <td>0.475681</td>\n",
              "      <td>0.297966</td>\n",
              "      <td>0.366412</td>\n",
              "    </tr>\n",
              "  </tbody>\n",
              "</table>\n",
              "</div>\n",
              "      <button class=\"colab-df-convert\" onclick=\"convertToInteractive('df-079f1cac-f1ef-432c-8afc-c5b94ac74d67')\"\n",
              "              title=\"Convert this dataframe to an interactive table.\"\n",
              "              style=\"display:none;\">\n",
              "        \n",
              "  <svg xmlns=\"http://www.w3.org/2000/svg\" height=\"24px\"viewBox=\"0 0 24 24\"\n",
              "       width=\"24px\">\n",
              "    <path d=\"M0 0h24v24H0V0z\" fill=\"none\"/>\n",
              "    <path d=\"M18.56 5.44l.94 2.06.94-2.06 2.06-.94-2.06-.94-.94-2.06-.94 2.06-2.06.94zm-11 1L8.5 8.5l.94-2.06 2.06-.94-2.06-.94L8.5 2.5l-.94 2.06-2.06.94zm10 10l.94 2.06.94-2.06 2.06-.94-2.06-.94-.94-2.06-.94 2.06-2.06.94z\"/><path d=\"M17.41 7.96l-1.37-1.37c-.4-.4-.92-.59-1.43-.59-.52 0-1.04.2-1.43.59L10.3 9.45l-7.72 7.72c-.78.78-.78 2.05 0 2.83L4 21.41c.39.39.9.59 1.41.59.51 0 1.02-.2 1.41-.59l7.78-7.78 2.81-2.81c.8-.78.8-2.07 0-2.86zM5.41 20L4 18.59l7.72-7.72 1.47 1.35L5.41 20z\"/>\n",
              "  </svg>\n",
              "      </button>\n",
              "      \n",
              "  <style>\n",
              "    .colab-df-container {\n",
              "      display:flex;\n",
              "      flex-wrap:wrap;\n",
              "      gap: 12px;\n",
              "    }\n",
              "\n",
              "    .colab-df-convert {\n",
              "      background-color: #E8F0FE;\n",
              "      border: none;\n",
              "      border-radius: 50%;\n",
              "      cursor: pointer;\n",
              "      display: none;\n",
              "      fill: #1967D2;\n",
              "      height: 32px;\n",
              "      padding: 0 0 0 0;\n",
              "      width: 32px;\n",
              "    }\n",
              "\n",
              "    .colab-df-convert:hover {\n",
              "      background-color: #E2EBFA;\n",
              "      box-shadow: 0px 1px 2px rgba(60, 64, 67, 0.3), 0px 1px 3px 1px rgba(60, 64, 67, 0.15);\n",
              "      fill: #174EA6;\n",
              "    }\n",
              "\n",
              "    [theme=dark] .colab-df-convert {\n",
              "      background-color: #3B4455;\n",
              "      fill: #D2E3FC;\n",
              "    }\n",
              "\n",
              "    [theme=dark] .colab-df-convert:hover {\n",
              "      background-color: #434B5C;\n",
              "      box-shadow: 0px 1px 3px 1px rgba(0, 0, 0, 0.15);\n",
              "      filter: drop-shadow(0px 1px 2px rgba(0, 0, 0, 0.3));\n",
              "      fill: #FFFFFF;\n",
              "    }\n",
              "  </style>\n",
              "\n",
              "      <script>\n",
              "        const buttonEl =\n",
              "          document.querySelector('#df-079f1cac-f1ef-432c-8afc-c5b94ac74d67 button.colab-df-convert');\n",
              "        buttonEl.style.display =\n",
              "          google.colab.kernel.accessAllowed ? 'block' : 'none';\n",
              "\n",
              "        async function convertToInteractive(key) {\n",
              "          const element = document.querySelector('#df-079f1cac-f1ef-432c-8afc-c5b94ac74d67');\n",
              "          const dataTable =\n",
              "            await google.colab.kernel.invokeFunction('convertToInteractive',\n",
              "                                                     [key], {});\n",
              "          if (!dataTable) return;\n",
              "\n",
              "          const docLinkHtml = 'Like what you see? Visit the ' +\n",
              "            '<a target=\"_blank\" href=https://colab.research.google.com/notebooks/data_table.ipynb>data table notebook</a>'\n",
              "            + ' to learn more about interactive tables.';\n",
              "          element.innerHTML = '';\n",
              "          dataTable['output_type'] = 'display_data';\n",
              "          await google.colab.output.renderOutput(dataTable, element);\n",
              "          const docLink = document.createElement('div');\n",
              "          docLink.innerHTML = docLinkHtml;\n",
              "          element.appendChild(docLink);\n",
              "        }\n",
              "      </script>\n",
              "    </div>\n",
              "  </div>\n",
              "  "
            ]
          },
          "metadata": {},
          "execution_count": 75
        }
      ]
    }
  ]
}