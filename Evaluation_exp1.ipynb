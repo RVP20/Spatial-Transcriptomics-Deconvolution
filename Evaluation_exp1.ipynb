{
  "nbformat": 4,
  "nbformat_minor": 0,
  "metadata": {
    "colab": {
      "name": "Evaluation.ipynb",
      "provenance": [],
      "collapsed_sections": []
    },
    "kernelspec": {
      "name": "python3",
      "display_name": "Python 3"
    },
    "language_info": {
      "name": "python"
    }
  },
  "cells": [
    {
      "cell_type": "code",
      "execution_count": 1,
      "metadata": {
        "id": "wBbnopyKCaMC"
      },
      "outputs": [],
      "source": [
        "import numpy as np\n",
        "import pandas as pd"
      ]
    },
    {
      "cell_type": "code",
      "source": [
        "!pip install scipy==1.7.0\n",
        "import scipy"
      ],
      "metadata": {
        "colab": {
          "base_uri": "https://localhost:8080/"
        },
        "id": "M1yk9v6qFL54",
        "outputId": "8fd55262-54e2-41fa-8d56-432a0abb8e36"
      },
      "execution_count": 2,
      "outputs": [
        {
          "output_type": "stream",
          "name": "stdout",
          "text": [
            "Looking in indexes: https://pypi.org/simple, https://us-python.pkg.dev/colab-wheels/public/simple/\n",
            "Collecting scipy==1.7.0\n",
            "  Downloading scipy-1.7.0-cp37-cp37m-manylinux_2_5_x86_64.manylinux1_x86_64.whl (28.5 MB)\n",
            "\u001b[K     |████████████████████████████████| 28.5 MB 1.6 MB/s \n",
            "\u001b[?25hRequirement already satisfied: numpy<1.23.0,>=1.16.5 in /usr/local/lib/python3.7/dist-packages (from scipy==1.7.0) (1.21.6)\n",
            "Installing collected packages: scipy\n",
            "  Attempting uninstall: scipy\n",
            "    Found existing installation: scipy 1.4.1\n",
            "    Uninstalling scipy-1.4.1:\n",
            "      Successfully uninstalled scipy-1.4.1\n",
            "\u001b[31mERROR: pip's dependency resolver does not currently take into account all the packages that are installed. This behaviour is the source of the following dependency conflicts.\n",
            "albumentations 0.1.12 requires imgaug<0.2.7,>=0.2.5, but you have imgaug 0.2.9 which is incompatible.\u001b[0m\n",
            "Successfully installed scipy-1.7.0\n"
          ]
        }
      ]
    },
    {
      "cell_type": "code",
      "source": [
        "from google.colab import drive\n",
        "drive.mount('/content/gdrive')"
      ],
      "metadata": {
        "colab": {
          "base_uri": "https://localhost:8080/"
        },
        "id": "7UGcGEjUDfE-",
        "outputId": "2dd56551-0a27-45f4-f799-00f42464c757"
      },
      "execution_count": 3,
      "outputs": [
        {
          "output_type": "stream",
          "name": "stdout",
          "text": [
            "Mounted at /content/gdrive\n"
          ]
        }
      ]
    },
    {
      "cell_type": "code",
      "source": [
        "Predicted = pd.read_csv(\"./gdrive/MyDrive/ST_Project/Outputs/Seurat/output_exp1.csv\")\n",
        "Target=pd.read_csv(\"./gdrive/MyDrive/ST_Project/Targets/exp1.csv\")\n"
      ],
      "metadata": {
        "id": "hyic1SVBDpPj"
      },
      "execution_count": 76,
      "outputs": []
    },
    {
      "cell_type": "code",
      "source": [
        "Predicted.shape\n"
      ],
      "metadata": {
        "colab": {
          "base_uri": "https://localhost:8080/"
        },
        "id": "TXIchyKujwGm",
        "outputId": "d9f89ff7-ca5c-409b-bb20-ec1144ca0efa"
      },
      "execution_count": 78,
      "outputs": [
        {
          "output_type": "execute_result",
          "data": {
            "text/plain": [
              "(2500, 49)"
            ]
          },
          "metadata": {},
          "execution_count": 78
        }
      ]
    },
    {
      "cell_type": "code",
      "source": [
        "#Predicted=Predicted.drop(columns=\"Unnamed: 49\")\n",
        "Target=Target.drop(columns=\"Unnamed: 0\")\n",
        "Predicted=Predicted.to_numpy().astype(np.float64)\n",
        "Target=Target.to_numpy().astype(np.float64)"
      ],
      "metadata": {
        "id": "12EMxTGel8fm"
      },
      "execution_count": 77,
      "outputs": []
    },
    {
      "cell_type": "markdown",
      "source": [
        "# Pearson Correlation\n",
        "All at once:"
      ],
      "metadata": {
        "id": "VqyzX0kdEVux"
      }
    },
    {
      "cell_type": "code",
      "source": [
        "prs=(np.corrcoef(Predicted,Target,rowvar=False))\n",
        "prs=pd.DataFrame(prs)"
      ],
      "metadata": {
        "id": "eG5n1ZhmEQOh",
        "colab": {
          "base_uri": "https://localhost:8080/"
        },
        "outputId": "b610d310-ea59-4023-d612-da267bd0b8b3"
      },
      "execution_count": 79,
      "outputs": [
        {
          "output_type": "stream",
          "name": "stderr",
          "text": [
            "/usr/local/lib/python3.7/dist-packages/numpy/lib/function_base.py:2691: RuntimeWarning: invalid value encountered in true_divide\n",
            "  c /= stddev[:, None]\n",
            "/usr/local/lib/python3.7/dist-packages/numpy/lib/function_base.py:2692: RuntimeWarning: invalid value encountered in true_divide\n",
            "  c /= stddev[None, :]\n"
          ]
        }
      ]
    },
    {
      "cell_type": "code",
      "source": [
        "prs"
      ],
      "metadata": {
        "colab": {
          "base_uri": "https://localhost:8080/",
          "height": 483
        },
        "id": "Vowc6sIhEiYq",
        "outputId": "37c4a645-6138-4319-a4be-9c39c0b1635c"
      },
      "execution_count": 80,
      "outputs": [
        {
          "output_type": "execute_result",
          "data": {
            "text/plain": [
              "          0   1         2         3         4         5         6         7   \\\n",
              "0   1.000000 NaN -0.079262 -0.087771 -0.113802 -0.085967  0.088809  0.124018   \n",
              "1        NaN NaN       NaN       NaN       NaN       NaN       NaN       NaN   \n",
              "2  -0.079262 NaN  1.000000 -0.042210 -0.061720 -0.011611 -0.018334 -0.071303   \n",
              "3  -0.087771 NaN -0.042210  1.000000 -0.039675 -0.069360 -0.020402 -0.028991   \n",
              "4  -0.113802 NaN -0.061720 -0.039675  1.000000 -0.075498 -0.033515 -0.118261   \n",
              "..       ...  ..       ...       ...       ...       ...       ...       ...   \n",
              "93 -0.043639 NaN -0.066175  0.061374 -0.058481 -0.107697 -0.031064 -0.005380   \n",
              "94 -0.096626 NaN -0.062214 -0.063331  0.286856  0.024661 -0.030888  0.083694   \n",
              "95 -0.102906 NaN -0.063025 -0.063525 -0.012134 -0.090769 -0.026457 -0.098827   \n",
              "96 -0.055213 NaN -0.043619 -0.049436 -0.073197 -0.061014 -0.020764  0.005323   \n",
              "97 -0.141781 NaN -0.069198 -0.079919 -0.082703  0.496213 -0.030893 -0.007227   \n",
              "\n",
              "          8         9   ...        88        89        90        91        92  \\\n",
              "0   0.498822 -0.094257  ... -0.051904  0.681236  0.570284 -0.059416 -0.195312   \n",
              "1        NaN       NaN  ...       NaN       NaN       NaN       NaN       NaN   \n",
              "2  -0.080151  0.124123  ... -0.065715 -0.048200 -0.047942 -0.063024 -0.096938   \n",
              "3  -0.045217 -0.045185  ...  0.061924 -0.080554 -0.082700  0.444774  0.104055   \n",
              "4  -0.124329 -0.069397  ... -0.062187 -0.138207 -0.138412 -0.027753  0.176042   \n",
              "..       ...       ...  ...       ...       ...       ...       ...       ...   \n",
              "93  0.422879 -0.066909  ...  0.862937 -0.095227 -0.095224 -0.090084 -0.167747   \n",
              "94 -0.124052 -0.057881  ... -0.099477 -0.144557 -0.145228 -0.092305  0.343227   \n",
              "95 -0.119557 -0.051359  ... -0.068665 -0.115540 -0.117431 -0.111033 -0.068934   \n",
              "96 -0.053790 -0.041068  ... -0.055165 -0.059720 -0.054989 -0.068077 -0.054271   \n",
              "97 -0.151362 -0.081773  ... -0.111846 -0.124225 -0.124546 -0.082637 -0.135656   \n",
              "\n",
              "          93        94        95        96        97  \n",
              "0  -0.043639 -0.096626 -0.102906 -0.055213 -0.141781  \n",
              "1        NaN       NaN       NaN       NaN       NaN  \n",
              "2  -0.066175 -0.062214 -0.063025 -0.043619 -0.069198  \n",
              "3   0.061374 -0.063331 -0.063525 -0.049436 -0.079919  \n",
              "4  -0.058481  0.286856 -0.012134 -0.073197 -0.082703  \n",
              "..       ...       ...       ...       ...       ...  \n",
              "93  1.000000 -0.099844 -0.068792 -0.049101 -0.114638  \n",
              "94 -0.099844  1.000000 -0.112559 -0.057693 -0.098354  \n",
              "95 -0.068792 -0.112559  1.000000 -0.041958 -0.085854  \n",
              "96 -0.049101 -0.057693 -0.041958  1.000000 -0.082270  \n",
              "97 -0.114638 -0.098354 -0.085854 -0.082270  1.000000  \n",
              "\n",
              "[98 rows x 98 columns]"
            ],
            "text/html": [
              "\n",
              "  <div id=\"df-a28908f3-57df-431a-99e8-b8230d9a0e30\">\n",
              "    <div class=\"colab-df-container\">\n",
              "      <div>\n",
              "<style scoped>\n",
              "    .dataframe tbody tr th:only-of-type {\n",
              "        vertical-align: middle;\n",
              "    }\n",
              "\n",
              "    .dataframe tbody tr th {\n",
              "        vertical-align: top;\n",
              "    }\n",
              "\n",
              "    .dataframe thead th {\n",
              "        text-align: right;\n",
              "    }\n",
              "</style>\n",
              "<table border=\"1\" class=\"dataframe\">\n",
              "  <thead>\n",
              "    <tr style=\"text-align: right;\">\n",
              "      <th></th>\n",
              "      <th>0</th>\n",
              "      <th>1</th>\n",
              "      <th>2</th>\n",
              "      <th>3</th>\n",
              "      <th>4</th>\n",
              "      <th>5</th>\n",
              "      <th>6</th>\n",
              "      <th>7</th>\n",
              "      <th>8</th>\n",
              "      <th>9</th>\n",
              "      <th>...</th>\n",
              "      <th>88</th>\n",
              "      <th>89</th>\n",
              "      <th>90</th>\n",
              "      <th>91</th>\n",
              "      <th>92</th>\n",
              "      <th>93</th>\n",
              "      <th>94</th>\n",
              "      <th>95</th>\n",
              "      <th>96</th>\n",
              "      <th>97</th>\n",
              "    </tr>\n",
              "  </thead>\n",
              "  <tbody>\n",
              "    <tr>\n",
              "      <th>0</th>\n",
              "      <td>1.000000</td>\n",
              "      <td>NaN</td>\n",
              "      <td>-0.079262</td>\n",
              "      <td>-0.087771</td>\n",
              "      <td>-0.113802</td>\n",
              "      <td>-0.085967</td>\n",
              "      <td>0.088809</td>\n",
              "      <td>0.124018</td>\n",
              "      <td>0.498822</td>\n",
              "      <td>-0.094257</td>\n",
              "      <td>...</td>\n",
              "      <td>-0.051904</td>\n",
              "      <td>0.681236</td>\n",
              "      <td>0.570284</td>\n",
              "      <td>-0.059416</td>\n",
              "      <td>-0.195312</td>\n",
              "      <td>-0.043639</td>\n",
              "      <td>-0.096626</td>\n",
              "      <td>-0.102906</td>\n",
              "      <td>-0.055213</td>\n",
              "      <td>-0.141781</td>\n",
              "    </tr>\n",
              "    <tr>\n",
              "      <th>1</th>\n",
              "      <td>NaN</td>\n",
              "      <td>NaN</td>\n",
              "      <td>NaN</td>\n",
              "      <td>NaN</td>\n",
              "      <td>NaN</td>\n",
              "      <td>NaN</td>\n",
              "      <td>NaN</td>\n",
              "      <td>NaN</td>\n",
              "      <td>NaN</td>\n",
              "      <td>NaN</td>\n",
              "      <td>...</td>\n",
              "      <td>NaN</td>\n",
              "      <td>NaN</td>\n",
              "      <td>NaN</td>\n",
              "      <td>NaN</td>\n",
              "      <td>NaN</td>\n",
              "      <td>NaN</td>\n",
              "      <td>NaN</td>\n",
              "      <td>NaN</td>\n",
              "      <td>NaN</td>\n",
              "      <td>NaN</td>\n",
              "    </tr>\n",
              "    <tr>\n",
              "      <th>2</th>\n",
              "      <td>-0.079262</td>\n",
              "      <td>NaN</td>\n",
              "      <td>1.000000</td>\n",
              "      <td>-0.042210</td>\n",
              "      <td>-0.061720</td>\n",
              "      <td>-0.011611</td>\n",
              "      <td>-0.018334</td>\n",
              "      <td>-0.071303</td>\n",
              "      <td>-0.080151</td>\n",
              "      <td>0.124123</td>\n",
              "      <td>...</td>\n",
              "      <td>-0.065715</td>\n",
              "      <td>-0.048200</td>\n",
              "      <td>-0.047942</td>\n",
              "      <td>-0.063024</td>\n",
              "      <td>-0.096938</td>\n",
              "      <td>-0.066175</td>\n",
              "      <td>-0.062214</td>\n",
              "      <td>-0.063025</td>\n",
              "      <td>-0.043619</td>\n",
              "      <td>-0.069198</td>\n",
              "    </tr>\n",
              "    <tr>\n",
              "      <th>3</th>\n",
              "      <td>-0.087771</td>\n",
              "      <td>NaN</td>\n",
              "      <td>-0.042210</td>\n",
              "      <td>1.000000</td>\n",
              "      <td>-0.039675</td>\n",
              "      <td>-0.069360</td>\n",
              "      <td>-0.020402</td>\n",
              "      <td>-0.028991</td>\n",
              "      <td>-0.045217</td>\n",
              "      <td>-0.045185</td>\n",
              "      <td>...</td>\n",
              "      <td>0.061924</td>\n",
              "      <td>-0.080554</td>\n",
              "      <td>-0.082700</td>\n",
              "      <td>0.444774</td>\n",
              "      <td>0.104055</td>\n",
              "      <td>0.061374</td>\n",
              "      <td>-0.063331</td>\n",
              "      <td>-0.063525</td>\n",
              "      <td>-0.049436</td>\n",
              "      <td>-0.079919</td>\n",
              "    </tr>\n",
              "    <tr>\n",
              "      <th>4</th>\n",
              "      <td>-0.113802</td>\n",
              "      <td>NaN</td>\n",
              "      <td>-0.061720</td>\n",
              "      <td>-0.039675</td>\n",
              "      <td>1.000000</td>\n",
              "      <td>-0.075498</td>\n",
              "      <td>-0.033515</td>\n",
              "      <td>-0.118261</td>\n",
              "      <td>-0.124329</td>\n",
              "      <td>-0.069397</td>\n",
              "      <td>...</td>\n",
              "      <td>-0.062187</td>\n",
              "      <td>-0.138207</td>\n",
              "      <td>-0.138412</td>\n",
              "      <td>-0.027753</td>\n",
              "      <td>0.176042</td>\n",
              "      <td>-0.058481</td>\n",
              "      <td>0.286856</td>\n",
              "      <td>-0.012134</td>\n",
              "      <td>-0.073197</td>\n",
              "      <td>-0.082703</td>\n",
              "    </tr>\n",
              "    <tr>\n",
              "      <th>...</th>\n",
              "      <td>...</td>\n",
              "      <td>...</td>\n",
              "      <td>...</td>\n",
              "      <td>...</td>\n",
              "      <td>...</td>\n",
              "      <td>...</td>\n",
              "      <td>...</td>\n",
              "      <td>...</td>\n",
              "      <td>...</td>\n",
              "      <td>...</td>\n",
              "      <td>...</td>\n",
              "      <td>...</td>\n",
              "      <td>...</td>\n",
              "      <td>...</td>\n",
              "      <td>...</td>\n",
              "      <td>...</td>\n",
              "      <td>...</td>\n",
              "      <td>...</td>\n",
              "      <td>...</td>\n",
              "      <td>...</td>\n",
              "      <td>...</td>\n",
              "    </tr>\n",
              "    <tr>\n",
              "      <th>93</th>\n",
              "      <td>-0.043639</td>\n",
              "      <td>NaN</td>\n",
              "      <td>-0.066175</td>\n",
              "      <td>0.061374</td>\n",
              "      <td>-0.058481</td>\n",
              "      <td>-0.107697</td>\n",
              "      <td>-0.031064</td>\n",
              "      <td>-0.005380</td>\n",
              "      <td>0.422879</td>\n",
              "      <td>-0.066909</td>\n",
              "      <td>...</td>\n",
              "      <td>0.862937</td>\n",
              "      <td>-0.095227</td>\n",
              "      <td>-0.095224</td>\n",
              "      <td>-0.090084</td>\n",
              "      <td>-0.167747</td>\n",
              "      <td>1.000000</td>\n",
              "      <td>-0.099844</td>\n",
              "      <td>-0.068792</td>\n",
              "      <td>-0.049101</td>\n",
              "      <td>-0.114638</td>\n",
              "    </tr>\n",
              "    <tr>\n",
              "      <th>94</th>\n",
              "      <td>-0.096626</td>\n",
              "      <td>NaN</td>\n",
              "      <td>-0.062214</td>\n",
              "      <td>-0.063331</td>\n",
              "      <td>0.286856</td>\n",
              "      <td>0.024661</td>\n",
              "      <td>-0.030888</td>\n",
              "      <td>0.083694</td>\n",
              "      <td>-0.124052</td>\n",
              "      <td>-0.057881</td>\n",
              "      <td>...</td>\n",
              "      <td>-0.099477</td>\n",
              "      <td>-0.144557</td>\n",
              "      <td>-0.145228</td>\n",
              "      <td>-0.092305</td>\n",
              "      <td>0.343227</td>\n",
              "      <td>-0.099844</td>\n",
              "      <td>1.000000</td>\n",
              "      <td>-0.112559</td>\n",
              "      <td>-0.057693</td>\n",
              "      <td>-0.098354</td>\n",
              "    </tr>\n",
              "    <tr>\n",
              "      <th>95</th>\n",
              "      <td>-0.102906</td>\n",
              "      <td>NaN</td>\n",
              "      <td>-0.063025</td>\n",
              "      <td>-0.063525</td>\n",
              "      <td>-0.012134</td>\n",
              "      <td>-0.090769</td>\n",
              "      <td>-0.026457</td>\n",
              "      <td>-0.098827</td>\n",
              "      <td>-0.119557</td>\n",
              "      <td>-0.051359</td>\n",
              "      <td>...</td>\n",
              "      <td>-0.068665</td>\n",
              "      <td>-0.115540</td>\n",
              "      <td>-0.117431</td>\n",
              "      <td>-0.111033</td>\n",
              "      <td>-0.068934</td>\n",
              "      <td>-0.068792</td>\n",
              "      <td>-0.112559</td>\n",
              "      <td>1.000000</td>\n",
              "      <td>-0.041958</td>\n",
              "      <td>-0.085854</td>\n",
              "    </tr>\n",
              "    <tr>\n",
              "      <th>96</th>\n",
              "      <td>-0.055213</td>\n",
              "      <td>NaN</td>\n",
              "      <td>-0.043619</td>\n",
              "      <td>-0.049436</td>\n",
              "      <td>-0.073197</td>\n",
              "      <td>-0.061014</td>\n",
              "      <td>-0.020764</td>\n",
              "      <td>0.005323</td>\n",
              "      <td>-0.053790</td>\n",
              "      <td>-0.041068</td>\n",
              "      <td>...</td>\n",
              "      <td>-0.055165</td>\n",
              "      <td>-0.059720</td>\n",
              "      <td>-0.054989</td>\n",
              "      <td>-0.068077</td>\n",
              "      <td>-0.054271</td>\n",
              "      <td>-0.049101</td>\n",
              "      <td>-0.057693</td>\n",
              "      <td>-0.041958</td>\n",
              "      <td>1.000000</td>\n",
              "      <td>-0.082270</td>\n",
              "    </tr>\n",
              "    <tr>\n",
              "      <th>97</th>\n",
              "      <td>-0.141781</td>\n",
              "      <td>NaN</td>\n",
              "      <td>-0.069198</td>\n",
              "      <td>-0.079919</td>\n",
              "      <td>-0.082703</td>\n",
              "      <td>0.496213</td>\n",
              "      <td>-0.030893</td>\n",
              "      <td>-0.007227</td>\n",
              "      <td>-0.151362</td>\n",
              "      <td>-0.081773</td>\n",
              "      <td>...</td>\n",
              "      <td>-0.111846</td>\n",
              "      <td>-0.124225</td>\n",
              "      <td>-0.124546</td>\n",
              "      <td>-0.082637</td>\n",
              "      <td>-0.135656</td>\n",
              "      <td>-0.114638</td>\n",
              "      <td>-0.098354</td>\n",
              "      <td>-0.085854</td>\n",
              "      <td>-0.082270</td>\n",
              "      <td>1.000000</td>\n",
              "    </tr>\n",
              "  </tbody>\n",
              "</table>\n",
              "<p>98 rows × 98 columns</p>\n",
              "</div>\n",
              "      <button class=\"colab-df-convert\" onclick=\"convertToInteractive('df-a28908f3-57df-431a-99e8-b8230d9a0e30')\"\n",
              "              title=\"Convert this dataframe to an interactive table.\"\n",
              "              style=\"display:none;\">\n",
              "        \n",
              "  <svg xmlns=\"http://www.w3.org/2000/svg\" height=\"24px\"viewBox=\"0 0 24 24\"\n",
              "       width=\"24px\">\n",
              "    <path d=\"M0 0h24v24H0V0z\" fill=\"none\"/>\n",
              "    <path d=\"M18.56 5.44l.94 2.06.94-2.06 2.06-.94-2.06-.94-.94-2.06-.94 2.06-2.06.94zm-11 1L8.5 8.5l.94-2.06 2.06-.94-2.06-.94L8.5 2.5l-.94 2.06-2.06.94zm10 10l.94 2.06.94-2.06 2.06-.94-2.06-.94-.94-2.06-.94 2.06-2.06.94z\"/><path d=\"M17.41 7.96l-1.37-1.37c-.4-.4-.92-.59-1.43-.59-.52 0-1.04.2-1.43.59L10.3 9.45l-7.72 7.72c-.78.78-.78 2.05 0 2.83L4 21.41c.39.39.9.59 1.41.59.51 0 1.02-.2 1.41-.59l7.78-7.78 2.81-2.81c.8-.78.8-2.07 0-2.86zM5.41 20L4 18.59l7.72-7.72 1.47 1.35L5.41 20z\"/>\n",
              "  </svg>\n",
              "      </button>\n",
              "      \n",
              "  <style>\n",
              "    .colab-df-container {\n",
              "      display:flex;\n",
              "      flex-wrap:wrap;\n",
              "      gap: 12px;\n",
              "    }\n",
              "\n",
              "    .colab-df-convert {\n",
              "      background-color: #E8F0FE;\n",
              "      border: none;\n",
              "      border-radius: 50%;\n",
              "      cursor: pointer;\n",
              "      display: none;\n",
              "      fill: #1967D2;\n",
              "      height: 32px;\n",
              "      padding: 0 0 0 0;\n",
              "      width: 32px;\n",
              "    }\n",
              "\n",
              "    .colab-df-convert:hover {\n",
              "      background-color: #E2EBFA;\n",
              "      box-shadow: 0px 1px 2px rgba(60, 64, 67, 0.3), 0px 1px 3px 1px rgba(60, 64, 67, 0.15);\n",
              "      fill: #174EA6;\n",
              "    }\n",
              "\n",
              "    [theme=dark] .colab-df-convert {\n",
              "      background-color: #3B4455;\n",
              "      fill: #D2E3FC;\n",
              "    }\n",
              "\n",
              "    [theme=dark] .colab-df-convert:hover {\n",
              "      background-color: #434B5C;\n",
              "      box-shadow: 0px 1px 3px 1px rgba(0, 0, 0, 0.15);\n",
              "      filter: drop-shadow(0px 1px 2px rgba(0, 0, 0, 0.3));\n",
              "      fill: #FFFFFF;\n",
              "    }\n",
              "  </style>\n",
              "\n",
              "      <script>\n",
              "        const buttonEl =\n",
              "          document.querySelector('#df-a28908f3-57df-431a-99e8-b8230d9a0e30 button.colab-df-convert');\n",
              "        buttonEl.style.display =\n",
              "          google.colab.kernel.accessAllowed ? 'block' : 'none';\n",
              "\n",
              "        async function convertToInteractive(key) {\n",
              "          const element = document.querySelector('#df-a28908f3-57df-431a-99e8-b8230d9a0e30');\n",
              "          const dataTable =\n",
              "            await google.colab.kernel.invokeFunction('convertToInteractive',\n",
              "                                                     [key], {});\n",
              "          if (!dataTable) return;\n",
              "\n",
              "          const docLinkHtml = 'Like what you see? Visit the ' +\n",
              "            '<a target=\"_blank\" href=https://colab.research.google.com/notebooks/data_table.ipynb>data table notebook</a>'\n",
              "            + ' to learn more about interactive tables.';\n",
              "          element.innerHTML = '';\n",
              "          dataTable['output_type'] = 'display_data';\n",
              "          await google.colab.output.renderOutput(dataTable, element);\n",
              "          const docLink = document.createElement('div');\n",
              "          docLink.innerHTML = docLinkHtml;\n",
              "          element.appendChild(docLink);\n",
              "        }\n",
              "      </script>\n",
              "    </div>\n",
              "  </div>\n",
              "  "
            ]
          },
          "metadata": {},
          "execution_count": 80
        }
      ]
    },
    {
      "cell_type": "markdown",
      "source": [
        "One at a time:"
      ],
      "metadata": {
        "id": "AmbDRhjQcClO"
      }
    },
    {
      "cell_type": "code",
      "source": [
        "num_celltypes=49\n",
        "d = np.zeros(num_celltypes)"
      ],
      "metadata": {
        "id": "HRS5U1I9X1AE"
      },
      "execution_count": 81,
      "outputs": []
    },
    {
      "cell_type": "code",
      "source": [
        "for i in range(0,num_celltypes):\n",
        "  p=Predicted[:,i]\n",
        "  t=Target[:,i]\n",
        "  prs=(np.corrcoef(p,t,rowvar=False))\n",
        "  d[i]=prs[0,1]\n",
        "  \n"
      ],
      "metadata": {
        "id": "2RLR3oL-ZHHM",
        "colab": {
          "base_uri": "https://localhost:8080/"
        },
        "outputId": "f46fb604-18f7-4a86-b591-74b11182ee7e"
      },
      "execution_count": 82,
      "outputs": [
        {
          "output_type": "stream",
          "name": "stderr",
          "text": [
            "/usr/local/lib/python3.7/dist-packages/numpy/lib/function_base.py:2691: RuntimeWarning: invalid value encountered in true_divide\n",
            "  c /= stddev[:, None]\n",
            "/usr/local/lib/python3.7/dist-packages/numpy/lib/function_base.py:2692: RuntimeWarning: invalid value encountered in true_divide\n",
            "  c /= stddev[None, :]\n"
          ]
        }
      ]
    },
    {
      "cell_type": "code",
      "source": [
        "d"
      ],
      "metadata": {
        "colab": {
          "base_uri": "https://localhost:8080/"
        },
        "id": "9XhA3TQDZwfX",
        "outputId": "6b9e01c4-7013-4a93-c59b-6e141e041cde"
      },
      "execution_count": 83,
      "outputs": [
        {
          "output_type": "execute_result",
          "data": {
            "text/plain": [
              "array([-0.24166685,         nan, -0.01858496,  0.17186268, -0.08847486,\n",
              "        0.05242935, -0.01697652,  0.01175736, -0.12627988, -0.04330382,\n",
              "        0.14754597, -0.14266718, -0.06553888, -0.0327708 , -0.07846134,\n",
              "       -0.1394648 , -0.06845903, -0.10355171, -0.15267643, -0.11005691,\n",
              "        0.04491385, -0.08376954,  0.26172811, -0.12569154, -0.01272439,\n",
              "       -0.04234802, -0.02161141, -0.0841336 ,  0.11504993, -0.03388334,\n",
              "        0.1709486 ,  0.17033868,  0.67185127, -0.05358221, -0.08153584,\n",
              "       -0.07953835, -0.07373154,         nan, -0.05863561, -0.08042701,\n",
              "       -0.09393032, -0.08437493, -0.07974118,  0.06620761,  0.37480795,\n",
              "               nan,         nan, -0.04876377,  0.21349401])"
            ]
          },
          "metadata": {},
          "execution_count": 83
        }
      ]
    },
    {
      "cell_type": "markdown",
      "source": [
        "# Jensen Shannon"
      ],
      "metadata": {
        "id": "Anzo7lbXEkTO"
      }
    },
    {
      "cell_type": "code",
      "source": [
        "from scipy.spatial import distance"
      ],
      "metadata": {
        "id": "zbP_nKcqEpxY"
      },
      "execution_count": 84,
      "outputs": []
    },
    {
      "cell_type": "code",
      "source": [
        "jns=distance.jensenshannon(Predicted,Target,axis=1)"
      ],
      "metadata": {
        "id": "4kT1wn_VEvHq"
      },
      "execution_count": 85,
      "outputs": []
    },
    {
      "cell_type": "code",
      "source": [
        "jns=jns[~np.isinf(jns).squeeze()]\n",
        "np.mean(jns)"
      ],
      "metadata": {
        "colab": {
          "base_uri": "https://localhost:8080/"
        },
        "id": "ACrv8nZe-IzF",
        "outputId": "40c48d47-372c-4fb5-ad3f-1e1c50e22435"
      },
      "execution_count": 86,
      "outputs": [
        {
          "output_type": "execute_result",
          "data": {
            "text/plain": [
              "0.7623377929035814"
            ]
          },
          "metadata": {},
          "execution_count": 86
        }
      ]
    },
    {
      "cell_type": "code",
      "source": [
        "jns.to_csv(\"jns.csv\")"
      ],
      "metadata": {
        "id": "_N0wPjjuJzrQ"
      },
      "execution_count": null,
      "outputs": []
    },
    {
      "cell_type": "markdown",
      "source": [
        "# F1, Precision, Recall"
      ],
      "metadata": {
        "id": "fd1fxqGgF7aa"
      }
    },
    {
      "cell_type": "code",
      "source": [
        "from sklearn.metrics import f1_score\n",
        "from sklearn.metrics import precision_score\n",
        "from sklearn.metrics import recall_score"
      ],
      "metadata": {
        "id": "S_kfDLWIF_pE"
      },
      "execution_count": 87,
      "outputs": []
    },
    {
      "cell_type": "code",
      "source": [
        "thresholds={0.001,0.01,0.1,0.2,0.3}"
      ],
      "metadata": {
        "id": "N-mw6tzEVDbL"
      },
      "execution_count": 88,
      "outputs": []
    },
    {
      "cell_type": "code",
      "source": [
        "d = pd.DataFrame(0, index=np.arange(len(thresholds)), columns=[\"Precision\",\"Recall\",\"F1-score\"])\n",
        "d.index=thresholds\n"
      ],
      "metadata": {
        "id": "yVKbngPjGD3u"
      },
      "execution_count": 89,
      "outputs": []
    },
    {
      "cell_type": "code",
      "source": [
        "for t in thresholds:\n",
        "  Predicted_logical=(Predicted>t).astype(int)\n",
        "  Target_logical=(Target>t).astype(int)\n",
        "  d.loc[t,\"Precision\"]=precision_score(Target_logical,Predicted_logical,average=\"micro\")\n",
        "  d.loc[t,\"Recall\"]=recall_score(Target_logical,Predicted_logical,average=\"micro\")\n",
        "  d.loc[t,\"F1-score\"]=f1_score(Target_logical,Predicted_logical,average=\"micro\")"
      ],
      "metadata": {
        "id": "YFoLhv-9Vn7R"
      },
      "execution_count": 90,
      "outputs": []
    },
    {
      "cell_type": "code",
      "source": [
        "d"
      ],
      "metadata": {
        "colab": {
          "base_uri": "https://localhost:8080/",
          "height": 204
        },
        "id": "m-ulaqVoGGm_",
        "outputId": "2855559f-602a-4907-94cb-f0e7131b50e0"
      },
      "execution_count": 91,
      "outputs": [
        {
          "output_type": "execute_result",
          "data": {
            "text/plain": [
              "       Precision    Recall  F1-score\n",
              "0.100   0.037161  0.040556  0.038784\n",
              "0.300   0.000000  0.000000  0.000000\n",
              "0.200   0.003075  0.009103  0.004597\n",
              "0.010   0.296904  0.172480  0.218201\n",
              "0.001   0.332000  0.232292  0.273337"
            ],
            "text/html": [
              "\n",
              "  <div id=\"df-b57c9eae-dc36-4a4a-b3f3-5605fa9ce64e\">\n",
              "    <div class=\"colab-df-container\">\n",
              "      <div>\n",
              "<style scoped>\n",
              "    .dataframe tbody tr th:only-of-type {\n",
              "        vertical-align: middle;\n",
              "    }\n",
              "\n",
              "    .dataframe tbody tr th {\n",
              "        vertical-align: top;\n",
              "    }\n",
              "\n",
              "    .dataframe thead th {\n",
              "        text-align: right;\n",
              "    }\n",
              "</style>\n",
              "<table border=\"1\" class=\"dataframe\">\n",
              "  <thead>\n",
              "    <tr style=\"text-align: right;\">\n",
              "      <th></th>\n",
              "      <th>Precision</th>\n",
              "      <th>Recall</th>\n",
              "      <th>F1-score</th>\n",
              "    </tr>\n",
              "  </thead>\n",
              "  <tbody>\n",
              "    <tr>\n",
              "      <th>0.100</th>\n",
              "      <td>0.037161</td>\n",
              "      <td>0.040556</td>\n",
              "      <td>0.038784</td>\n",
              "    </tr>\n",
              "    <tr>\n",
              "      <th>0.300</th>\n",
              "      <td>0.000000</td>\n",
              "      <td>0.000000</td>\n",
              "      <td>0.000000</td>\n",
              "    </tr>\n",
              "    <tr>\n",
              "      <th>0.200</th>\n",
              "      <td>0.003075</td>\n",
              "      <td>0.009103</td>\n",
              "      <td>0.004597</td>\n",
              "    </tr>\n",
              "    <tr>\n",
              "      <th>0.010</th>\n",
              "      <td>0.296904</td>\n",
              "      <td>0.172480</td>\n",
              "      <td>0.218201</td>\n",
              "    </tr>\n",
              "    <tr>\n",
              "      <th>0.001</th>\n",
              "      <td>0.332000</td>\n",
              "      <td>0.232292</td>\n",
              "      <td>0.273337</td>\n",
              "    </tr>\n",
              "  </tbody>\n",
              "</table>\n",
              "</div>\n",
              "      <button class=\"colab-df-convert\" onclick=\"convertToInteractive('df-b57c9eae-dc36-4a4a-b3f3-5605fa9ce64e')\"\n",
              "              title=\"Convert this dataframe to an interactive table.\"\n",
              "              style=\"display:none;\">\n",
              "        \n",
              "  <svg xmlns=\"http://www.w3.org/2000/svg\" height=\"24px\"viewBox=\"0 0 24 24\"\n",
              "       width=\"24px\">\n",
              "    <path d=\"M0 0h24v24H0V0z\" fill=\"none\"/>\n",
              "    <path d=\"M18.56 5.44l.94 2.06.94-2.06 2.06-.94-2.06-.94-.94-2.06-.94 2.06-2.06.94zm-11 1L8.5 8.5l.94-2.06 2.06-.94-2.06-.94L8.5 2.5l-.94 2.06-2.06.94zm10 10l.94 2.06.94-2.06 2.06-.94-2.06-.94-.94-2.06-.94 2.06-2.06.94z\"/><path d=\"M17.41 7.96l-1.37-1.37c-.4-.4-.92-.59-1.43-.59-.52 0-1.04.2-1.43.59L10.3 9.45l-7.72 7.72c-.78.78-.78 2.05 0 2.83L4 21.41c.39.39.9.59 1.41.59.51 0 1.02-.2 1.41-.59l7.78-7.78 2.81-2.81c.8-.78.8-2.07 0-2.86zM5.41 20L4 18.59l7.72-7.72 1.47 1.35L5.41 20z\"/>\n",
              "  </svg>\n",
              "      </button>\n",
              "      \n",
              "  <style>\n",
              "    .colab-df-container {\n",
              "      display:flex;\n",
              "      flex-wrap:wrap;\n",
              "      gap: 12px;\n",
              "    }\n",
              "\n",
              "    .colab-df-convert {\n",
              "      background-color: #E8F0FE;\n",
              "      border: none;\n",
              "      border-radius: 50%;\n",
              "      cursor: pointer;\n",
              "      display: none;\n",
              "      fill: #1967D2;\n",
              "      height: 32px;\n",
              "      padding: 0 0 0 0;\n",
              "      width: 32px;\n",
              "    }\n",
              "\n",
              "    .colab-df-convert:hover {\n",
              "      background-color: #E2EBFA;\n",
              "      box-shadow: 0px 1px 2px rgba(60, 64, 67, 0.3), 0px 1px 3px 1px rgba(60, 64, 67, 0.15);\n",
              "      fill: #174EA6;\n",
              "    }\n",
              "\n",
              "    [theme=dark] .colab-df-convert {\n",
              "      background-color: #3B4455;\n",
              "      fill: #D2E3FC;\n",
              "    }\n",
              "\n",
              "    [theme=dark] .colab-df-convert:hover {\n",
              "      background-color: #434B5C;\n",
              "      box-shadow: 0px 1px 3px 1px rgba(0, 0, 0, 0.15);\n",
              "      filter: drop-shadow(0px 1px 2px rgba(0, 0, 0, 0.3));\n",
              "      fill: #FFFFFF;\n",
              "    }\n",
              "  </style>\n",
              "\n",
              "      <script>\n",
              "        const buttonEl =\n",
              "          document.querySelector('#df-b57c9eae-dc36-4a4a-b3f3-5605fa9ce64e button.colab-df-convert');\n",
              "        buttonEl.style.display =\n",
              "          google.colab.kernel.accessAllowed ? 'block' : 'none';\n",
              "\n",
              "        async function convertToInteractive(key) {\n",
              "          const element = document.querySelector('#df-b57c9eae-dc36-4a4a-b3f3-5605fa9ce64e');\n",
              "          const dataTable =\n",
              "            await google.colab.kernel.invokeFunction('convertToInteractive',\n",
              "                                                     [key], {});\n",
              "          if (!dataTable) return;\n",
              "\n",
              "          const docLinkHtml = 'Like what you see? Visit the ' +\n",
              "            '<a target=\"_blank\" href=https://colab.research.google.com/notebooks/data_table.ipynb>data table notebook</a>'\n",
              "            + ' to learn more about interactive tables.';\n",
              "          element.innerHTML = '';\n",
              "          dataTable['output_type'] = 'display_data';\n",
              "          await google.colab.output.renderOutput(dataTable, element);\n",
              "          const docLink = document.createElement('div');\n",
              "          docLink.innerHTML = docLinkHtml;\n",
              "          element.appendChild(docLink);\n",
              "        }\n",
              "      </script>\n",
              "    </div>\n",
              "  </div>\n",
              "  "
            ]
          },
          "metadata": {},
          "execution_count": 91
        }
      ]
    }
  ]
}